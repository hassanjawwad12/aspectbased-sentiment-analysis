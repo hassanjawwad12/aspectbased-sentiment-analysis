{
  "nbformat": 4,
  "nbformat_minor": 0,
  "metadata": {
    "colab": {
      "provenance": []
    },
    "kernelspec": {
      "name": "python3",
      "display_name": "Python 3"
    },
    "language_info": {
      "name": "python"
    }
  },
  "cells": [
    {
      "cell_type": "code",
      "execution_count": 1,
      "metadata": {
        "id": "tvgdwuEGVmqH"
      },
      "outputs": [],
      "source": [
        "import pandas as pd\n",
        "import torch\n",
        "import numpy as np\n",
        "import sqlite3\n",
        "import matplotlib.pyplot as plt\n",
        "import seaborn as sns\n",
        "import re\n",
        "import nltk\n",
        "from nltk.corpus import stopwords\n",
        "from nltk.stem import WordNetLemmatizer\n",
        "from nltk.stem.porter import PorterStemmer\n",
        "from sklearn.feature_extraction.text import CountVectorizer\n",
        "\n",
        "pd.set_option('display.max_columns', None)\n",
        "pd.set_option('display.max_rows', None)\n",
        "import warnings"
      ]
    },
    {
      "cell_type": "code",
      "source": [
        "import sqlite3\n",
        "\n",
        "# Read sqlite query results into a pandas DataFrame\n",
        "con = sqlite3.connect(\"products.db\")\n",
        "items = pd.read_sql_query(\"SELECT * from items\", con)\n",
        "con.close()"
      ],
      "metadata": {
        "id": "5S2bbgT1WGcp"
      },
      "execution_count": 2,
      "outputs": []
    },
    {
      "cell_type": "code",
      "source": [
        "items.head()"
      ],
      "metadata": {
        "colab": {
          "base_uri": "https://localhost:8080/",
          "height": 379
        },
        "id": "5UEyxKnXWGjL",
        "outputId": "de87ac13-95ca-4fc7-b77c-7e274860397d"
      },
      "execution_count": 3,
      "outputs": [
        {
          "output_type": "execute_result",
          "data": {
            "text/plain": [
              "   product_id                      product_name    price     category  \\\n",
              "0  ECMB000001         Redmi 9A (SeaBlue, 32 GB)   ₹7,413  Electronics   \n",
              "1  ECMB000002  Redmi 9A (Midnight Black, 32 GB)   ₹7,421  Electronics   \n",
              "2  ECMB000003    Redmi 9A (Nature Green, 32 GB)   ₹7,384  Electronics   \n",
              "3  ECMB000004     Redmi 9 (Carbon Black, 64 GB)  ₹10,745  Electronics   \n",
              "4  ECMB000005         Redmi 9 (Sky Blue, 64 GB)  ₹10,489  Electronics   \n",
              "\n",
              "  sub_category                                     specifications ratings  \\\n",
              "0       Mobile  2 GB RAM | 32 GB ROM16.59 cm (6.53 inch) Full ...     4.3   \n",
              "1       Mobile  2 GB RAM | 32 GB ROM16.59 cm (6.53 inch) Full ...     4.3   \n",
              "2       Mobile  2 GB RAM | 32 GB ROM16.59 cm (6.53 inch) Full ...     4.3   \n",
              "3       Mobile  4 GB RAM | 64 GB ROM16.59 cm (6.53 inch) HD+ D...     4.2   \n",
              "4       Mobile  4 GB RAM | 64 GB ROM16.59 cm (6.53 inch) HD+ D...     4.2   \n",
              "\n",
              "  discount                                           moreinfo  \n",
              "0      3.0  /redmi-9a-seablue-32-gb/p/itmeabd39a0cd669?pid...  \n",
              "1      3.0  /redmi-9a-midnight-black-32-gb/p/itmeabd39a0cd...  \n",
              "2      4.0  /redmi-9a-nature-green-32-gb/p/itmeabd39a0cd66...  \n",
              "3     None  /redmi-9-carbon-black-64-gb/p/itm4fb151383983b...  \n",
              "4     None  /redmi-9-sky-blue-64-gb/p/itm4fb151383983b?pid...  "
            ],
            "text/html": [
              "\n",
              "  <div id=\"df-6db82a68-85aa-4147-aadc-083f874417d3\" class=\"colab-df-container\">\n",
              "    <div>\n",
              "<style scoped>\n",
              "    .dataframe tbody tr th:only-of-type {\n",
              "        vertical-align: middle;\n",
              "    }\n",
              "\n",
              "    .dataframe tbody tr th {\n",
              "        vertical-align: top;\n",
              "    }\n",
              "\n",
              "    .dataframe thead th {\n",
              "        text-align: right;\n",
              "    }\n",
              "</style>\n",
              "<table border=\"1\" class=\"dataframe\">\n",
              "  <thead>\n",
              "    <tr style=\"text-align: right;\">\n",
              "      <th></th>\n",
              "      <th>product_id</th>\n",
              "      <th>product_name</th>\n",
              "      <th>price</th>\n",
              "      <th>category</th>\n",
              "      <th>sub_category</th>\n",
              "      <th>specifications</th>\n",
              "      <th>ratings</th>\n",
              "      <th>discount</th>\n",
              "      <th>moreinfo</th>\n",
              "    </tr>\n",
              "  </thead>\n",
              "  <tbody>\n",
              "    <tr>\n",
              "      <th>0</th>\n",
              "      <td>ECMB000001</td>\n",
              "      <td>Redmi 9A (SeaBlue, 32 GB)</td>\n",
              "      <td>₹7,413</td>\n",
              "      <td>Electronics</td>\n",
              "      <td>Mobile</td>\n",
              "      <td>2 GB RAM | 32 GB ROM16.59 cm (6.53 inch) Full ...</td>\n",
              "      <td>4.3</td>\n",
              "      <td>3.0</td>\n",
              "      <td>/redmi-9a-seablue-32-gb/p/itmeabd39a0cd669?pid...</td>\n",
              "    </tr>\n",
              "    <tr>\n",
              "      <th>1</th>\n",
              "      <td>ECMB000002</td>\n",
              "      <td>Redmi 9A (Midnight Black, 32 GB)</td>\n",
              "      <td>₹7,421</td>\n",
              "      <td>Electronics</td>\n",
              "      <td>Mobile</td>\n",
              "      <td>2 GB RAM | 32 GB ROM16.59 cm (6.53 inch) Full ...</td>\n",
              "      <td>4.3</td>\n",
              "      <td>3.0</td>\n",
              "      <td>/redmi-9a-midnight-black-32-gb/p/itmeabd39a0cd...</td>\n",
              "    </tr>\n",
              "    <tr>\n",
              "      <th>2</th>\n",
              "      <td>ECMB000003</td>\n",
              "      <td>Redmi 9A (Nature Green, 32 GB)</td>\n",
              "      <td>₹7,384</td>\n",
              "      <td>Electronics</td>\n",
              "      <td>Mobile</td>\n",
              "      <td>2 GB RAM | 32 GB ROM16.59 cm (6.53 inch) Full ...</td>\n",
              "      <td>4.3</td>\n",
              "      <td>4.0</td>\n",
              "      <td>/redmi-9a-nature-green-32-gb/p/itmeabd39a0cd66...</td>\n",
              "    </tr>\n",
              "    <tr>\n",
              "      <th>3</th>\n",
              "      <td>ECMB000004</td>\n",
              "      <td>Redmi 9 (Carbon Black, 64 GB)</td>\n",
              "      <td>₹10,745</td>\n",
              "      <td>Electronics</td>\n",
              "      <td>Mobile</td>\n",
              "      <td>4 GB RAM | 64 GB ROM16.59 cm (6.53 inch) HD+ D...</td>\n",
              "      <td>4.2</td>\n",
              "      <td>None</td>\n",
              "      <td>/redmi-9-carbon-black-64-gb/p/itm4fb151383983b...</td>\n",
              "    </tr>\n",
              "    <tr>\n",
              "      <th>4</th>\n",
              "      <td>ECMB000005</td>\n",
              "      <td>Redmi 9 (Sky Blue, 64 GB)</td>\n",
              "      <td>₹10,489</td>\n",
              "      <td>Electronics</td>\n",
              "      <td>Mobile</td>\n",
              "      <td>4 GB RAM | 64 GB ROM16.59 cm (6.53 inch) HD+ D...</td>\n",
              "      <td>4.2</td>\n",
              "      <td>None</td>\n",
              "      <td>/redmi-9-sky-blue-64-gb/p/itm4fb151383983b?pid...</td>\n",
              "    </tr>\n",
              "  </tbody>\n",
              "</table>\n",
              "</div>\n",
              "    <div class=\"colab-df-buttons\">\n",
              "\n",
              "  <div class=\"colab-df-container\">\n",
              "    <button class=\"colab-df-convert\" onclick=\"convertToInteractive('df-6db82a68-85aa-4147-aadc-083f874417d3')\"\n",
              "            title=\"Convert this dataframe to an interactive table.\"\n",
              "            style=\"display:none;\">\n",
              "\n",
              "  <svg xmlns=\"http://www.w3.org/2000/svg\" height=\"24px\" viewBox=\"0 -960 960 960\">\n",
              "    <path d=\"M120-120v-720h720v720H120Zm60-500h600v-160H180v160Zm220 220h160v-160H400v160Zm0 220h160v-160H400v160ZM180-400h160v-160H180v160Zm440 0h160v-160H620v160ZM180-180h160v-160H180v160Zm440 0h160v-160H620v160Z\"/>\n",
              "  </svg>\n",
              "    </button>\n",
              "\n",
              "  <style>\n",
              "    .colab-df-container {\n",
              "      display:flex;\n",
              "      gap: 12px;\n",
              "    }\n",
              "\n",
              "    .colab-df-convert {\n",
              "      background-color: #E8F0FE;\n",
              "      border: none;\n",
              "      border-radius: 50%;\n",
              "      cursor: pointer;\n",
              "      display: none;\n",
              "      fill: #1967D2;\n",
              "      height: 32px;\n",
              "      padding: 0 0 0 0;\n",
              "      width: 32px;\n",
              "    }\n",
              "\n",
              "    .colab-df-convert:hover {\n",
              "      background-color: #E2EBFA;\n",
              "      box-shadow: 0px 1px 2px rgba(60, 64, 67, 0.3), 0px 1px 3px 1px rgba(60, 64, 67, 0.15);\n",
              "      fill: #174EA6;\n",
              "    }\n",
              "\n",
              "    .colab-df-buttons div {\n",
              "      margin-bottom: 4px;\n",
              "    }\n",
              "\n",
              "    [theme=dark] .colab-df-convert {\n",
              "      background-color: #3B4455;\n",
              "      fill: #D2E3FC;\n",
              "    }\n",
              "\n",
              "    [theme=dark] .colab-df-convert:hover {\n",
              "      background-color: #434B5C;\n",
              "      box-shadow: 0px 1px 3px 1px rgba(0, 0, 0, 0.15);\n",
              "      filter: drop-shadow(0px 1px 2px rgba(0, 0, 0, 0.3));\n",
              "      fill: #FFFFFF;\n",
              "    }\n",
              "  </style>\n",
              "\n",
              "    <script>\n",
              "      const buttonEl =\n",
              "        document.querySelector('#df-6db82a68-85aa-4147-aadc-083f874417d3 button.colab-df-convert');\n",
              "      buttonEl.style.display =\n",
              "        google.colab.kernel.accessAllowed ? 'block' : 'none';\n",
              "\n",
              "      async function convertToInteractive(key) {\n",
              "        const element = document.querySelector('#df-6db82a68-85aa-4147-aadc-083f874417d3');\n",
              "        const dataTable =\n",
              "          await google.colab.kernel.invokeFunction('convertToInteractive',\n",
              "                                                    [key], {});\n",
              "        if (!dataTable) return;\n",
              "\n",
              "        const docLinkHtml = 'Like what you see? Visit the ' +\n",
              "          '<a target=\"_blank\" href=https://colab.research.google.com/notebooks/data_table.ipynb>data table notebook</a>'\n",
              "          + ' to learn more about interactive tables.';\n",
              "        element.innerHTML = '';\n",
              "        dataTable['output_type'] = 'display_data';\n",
              "        await google.colab.output.renderOutput(dataTable, element);\n",
              "        const docLink = document.createElement('div');\n",
              "        docLink.innerHTML = docLinkHtml;\n",
              "        element.appendChild(docLink);\n",
              "      }\n",
              "    </script>\n",
              "  </div>\n",
              "\n",
              "\n",
              "<div id=\"df-6d1d5039-75c6-4ae8-9086-ba92c04ecdc7\">\n",
              "  <button class=\"colab-df-quickchart\" onclick=\"quickchart('df-6d1d5039-75c6-4ae8-9086-ba92c04ecdc7')\"\n",
              "            title=\"Suggest charts\"\n",
              "            style=\"display:none;\">\n",
              "\n",
              "<svg xmlns=\"http://www.w3.org/2000/svg\" height=\"24px\"viewBox=\"0 0 24 24\"\n",
              "     width=\"24px\">\n",
              "    <g>\n",
              "        <path d=\"M19 3H5c-1.1 0-2 .9-2 2v14c0 1.1.9 2 2 2h14c1.1 0 2-.9 2-2V5c0-1.1-.9-2-2-2zM9 17H7v-7h2v7zm4 0h-2V7h2v10zm4 0h-2v-4h2v4z\"/>\n",
              "    </g>\n",
              "</svg>\n",
              "  </button>\n",
              "\n",
              "<style>\n",
              "  .colab-df-quickchart {\n",
              "      --bg-color: #E8F0FE;\n",
              "      --fill-color: #1967D2;\n",
              "      --hover-bg-color: #E2EBFA;\n",
              "      --hover-fill-color: #174EA6;\n",
              "      --disabled-fill-color: #AAA;\n",
              "      --disabled-bg-color: #DDD;\n",
              "  }\n",
              "\n",
              "  [theme=dark] .colab-df-quickchart {\n",
              "      --bg-color: #3B4455;\n",
              "      --fill-color: #D2E3FC;\n",
              "      --hover-bg-color: #434B5C;\n",
              "      --hover-fill-color: #FFFFFF;\n",
              "      --disabled-bg-color: #3B4455;\n",
              "      --disabled-fill-color: #666;\n",
              "  }\n",
              "\n",
              "  .colab-df-quickchart {\n",
              "    background-color: var(--bg-color);\n",
              "    border: none;\n",
              "    border-radius: 50%;\n",
              "    cursor: pointer;\n",
              "    display: none;\n",
              "    fill: var(--fill-color);\n",
              "    height: 32px;\n",
              "    padding: 0;\n",
              "    width: 32px;\n",
              "  }\n",
              "\n",
              "  .colab-df-quickchart:hover {\n",
              "    background-color: var(--hover-bg-color);\n",
              "    box-shadow: 0 1px 2px rgba(60, 64, 67, 0.3), 0 1px 3px 1px rgba(60, 64, 67, 0.15);\n",
              "    fill: var(--button-hover-fill-color);\n",
              "  }\n",
              "\n",
              "  .colab-df-quickchart-complete:disabled,\n",
              "  .colab-df-quickchart-complete:disabled:hover {\n",
              "    background-color: var(--disabled-bg-color);\n",
              "    fill: var(--disabled-fill-color);\n",
              "    box-shadow: none;\n",
              "  }\n",
              "\n",
              "  .colab-df-spinner {\n",
              "    border: 2px solid var(--fill-color);\n",
              "    border-color: transparent;\n",
              "    border-bottom-color: var(--fill-color);\n",
              "    animation:\n",
              "      spin 1s steps(1) infinite;\n",
              "  }\n",
              "\n",
              "  @keyframes spin {\n",
              "    0% {\n",
              "      border-color: transparent;\n",
              "      border-bottom-color: var(--fill-color);\n",
              "      border-left-color: var(--fill-color);\n",
              "    }\n",
              "    20% {\n",
              "      border-color: transparent;\n",
              "      border-left-color: var(--fill-color);\n",
              "      border-top-color: var(--fill-color);\n",
              "    }\n",
              "    30% {\n",
              "      border-color: transparent;\n",
              "      border-left-color: var(--fill-color);\n",
              "      border-top-color: var(--fill-color);\n",
              "      border-right-color: var(--fill-color);\n",
              "    }\n",
              "    40% {\n",
              "      border-color: transparent;\n",
              "      border-right-color: var(--fill-color);\n",
              "      border-top-color: var(--fill-color);\n",
              "    }\n",
              "    60% {\n",
              "      border-color: transparent;\n",
              "      border-right-color: var(--fill-color);\n",
              "    }\n",
              "    80% {\n",
              "      border-color: transparent;\n",
              "      border-right-color: var(--fill-color);\n",
              "      border-bottom-color: var(--fill-color);\n",
              "    }\n",
              "    90% {\n",
              "      border-color: transparent;\n",
              "      border-bottom-color: var(--fill-color);\n",
              "    }\n",
              "  }\n",
              "</style>\n",
              "\n",
              "  <script>\n",
              "    async function quickchart(key) {\n",
              "      const quickchartButtonEl =\n",
              "        document.querySelector('#' + key + ' button');\n",
              "      quickchartButtonEl.disabled = true;  // To prevent multiple clicks.\n",
              "      quickchartButtonEl.classList.add('colab-df-spinner');\n",
              "      try {\n",
              "        const charts = await google.colab.kernel.invokeFunction(\n",
              "            'suggestCharts', [key], {});\n",
              "      } catch (error) {\n",
              "        console.error('Error during call to suggestCharts:', error);\n",
              "      }\n",
              "      quickchartButtonEl.classList.remove('colab-df-spinner');\n",
              "      quickchartButtonEl.classList.add('colab-df-quickchart-complete');\n",
              "    }\n",
              "    (() => {\n",
              "      let quickchartButtonEl =\n",
              "        document.querySelector('#df-6d1d5039-75c6-4ae8-9086-ba92c04ecdc7 button');\n",
              "      quickchartButtonEl.style.display =\n",
              "        google.colab.kernel.accessAllowed ? 'block' : 'none';\n",
              "    })();\n",
              "  </script>\n",
              "</div>\n",
              "\n",
              "    </div>\n",
              "  </div>\n"
            ],
            "application/vnd.google.colaboratory.intrinsic+json": {
              "type": "dataframe",
              "variable_name": "items",
              "summary": "{\n  \"name\": \"items\",\n  \"rows\": 82,\n  \"fields\": [\n    {\n      \"column\": \"product_id\",\n      \"properties\": {\n        \"dtype\": \"string\",\n        \"num_unique_values\": 82,\n        \"samples\": [\n          \"ECMB000031\",\n          \"ECMB000001\",\n          \"ECMB000023\"\n        ],\n        \"semantic_type\": \"\",\n        \"description\": \"\"\n      }\n    },\n    {\n      \"column\": \"product_name\",\n      \"properties\": {\n        \"dtype\": \"string\",\n        \"num_unique_values\": 62,\n        \"samples\": [\n          \"Redmi Note 7S (Sapphire Blue, 64 GB)\",\n          \"Mi 4i (Blue, 16 GB)\",\n          \"Redmi 9A (SeaBlue, 32 GB)\"\n        ],\n        \"semantic_type\": \"\",\n        \"description\": \"\"\n      }\n    },\n    {\n      \"column\": \"price\",\n      \"properties\": {\n        \"dtype\": \"string\",\n        \"num_unique_values\": 59,\n        \"samples\": [\n          \"\\u20b97,413\",\n          \"\\u20b98,289\",\n          \"\\u20b925,974\"\n        ],\n        \"semantic_type\": \"\",\n        \"description\": \"\"\n      }\n    },\n    {\n      \"column\": \"category\",\n      \"properties\": {\n        \"dtype\": \"category\",\n        \"num_unique_values\": 1,\n        \"samples\": [\n          \"Electronics\"\n        ],\n        \"semantic_type\": \"\",\n        \"description\": \"\"\n      }\n    },\n    {\n      \"column\": \"sub_category\",\n      \"properties\": {\n        \"dtype\": \"category\",\n        \"num_unique_values\": 1,\n        \"samples\": [\n          \"Mobile\"\n        ],\n        \"semantic_type\": \"\",\n        \"description\": \"\"\n      }\n    },\n    {\n      \"column\": \"specifications\",\n      \"properties\": {\n        \"dtype\": \"string\",\n        \"num_unique_values\": 49,\n        \"samples\": [\n          \"4 GB RAM | 128 GB ROM | Expandable Upto 512 GB16.94 cm (6.67 inch) Full HD+ Display48MP + 8MP + 5MP + 2MP | 16MP Front Camera5020 mAh BatteryQualcomm\\u00ae Snapdragon\\u2122 720G Processor1 year manufacturer warranty for device and 6 months manufacturer warranty for in-box accessories\"\n        ],\n        \"semantic_type\": \"\",\n        \"description\": \"\"\n      }\n    },\n    {\n      \"column\": \"ratings\",\n      \"properties\": {\n        \"dtype\": \"category\",\n        \"num_unique_values\": 5,\n        \"samples\": [\n          \"4.2\"\n        ],\n        \"semantic_type\": \"\",\n        \"description\": \"\"\n      }\n    },\n    {\n      \"column\": \"discount\",\n      \"properties\": {\n        \"dtype\": \"category\",\n        \"num_unique_values\": 25,\n        \"samples\": [\n          8.0\n        ],\n        \"semantic_type\": \"\",\n        \"description\": \"\"\n      }\n    },\n    {\n      \"column\": \"moreinfo\",\n      \"properties\": {\n        \"dtype\": \"string\",\n        \"num_unique_values\": 82,\n        \"samples\": [\n          \"/mi-11x-5g-lunar-white-128-gb/p/itmdc6a5f695c609?pid=MOBG2QSCM6PGST6M&lid=LSTMOBG2QSCM6PGST6MSQ1O25&marketplace=FLIPKART&store=tyy%2F4io&srno=b_2_37&otracker=nmenu_sub_Electronics_0_Mi&fm=organic&iid=6e1ab22f-816b-4eda-bc16-872a6b3a4bb8.MOBG2QSCM6PGST6M.SEARCH&ppt=None&ppn=None&ssid=fo0vlml0gg0000001626874765404\"\n        ],\n        \"semantic_type\": \"\",\n        \"description\": \"\"\n      }\n    }\n  ]\n}"
            }
          },
          "metadata": {},
          "execution_count": 3
        }
      ]
    },
    {
      "cell_type": "code",
      "source": [
        "items.tail()"
      ],
      "metadata": {
        "colab": {
          "base_uri": "https://localhost:8080/",
          "height": 379
        },
        "id": "3ztv373HWGoJ",
        "outputId": "ade58217-a640-4df9-be53-229eaa50bfa8"
      },
      "execution_count": 4,
      "outputs": [
        {
          "output_type": "execute_result",
          "data": {
            "text/plain": [
              "    product_id                     product_name    price     category  \\\n",
              "77  ECMB000078   Redmi 7 (Eclipse Black, 32 GB)   ₹8,390  Electronics   \n",
              "78  ECMB000079  Mi A3 (More Than White, 128 GB)  ₹17,499  Electronics   \n",
              "79  ECMB000080           Redmi Y2 (Blue, 64 GB)  ₹13,499  Electronics   \n",
              "80  ECMB000081       Redmi 5 (Lake Blue, 64 GB)   ₹8,299  Electronics   \n",
              "81  ECMB000082    Mi A3 (Not just Blue, 128 GB)  ₹17,499  Electronics   \n",
              "\n",
              "   sub_category                                     specifications ratings  \\\n",
              "77       Mobile  3 GB RAM | 32 GB ROM | Expandable Upto 512 GB1...     4.4   \n",
              "78       Mobile  6 GB RAM | 128 GB ROM | Expandable Upto 256 GB...     4.2   \n",
              "79       Mobile  4 GB RAM | 64 GB ROM | Expandable Upto 256 GB1...     4.4   \n",
              "80       Mobile  4 GB RAM | 64 GB ROM | Expandable Upto 128 GB1...     4.3   \n",
              "81       Mobile  6 GB RAM | 128 GB ROM | Expandable Upto 256 GB...     4.2   \n",
              "\n",
              "   discount                                           moreinfo  \n",
              "77     23.0  /redmi-7-eclipse-black-32-gb/p/itmfhg4ezfgx2ef...  \n",
              "78     None  /mi-a3-more-than-white-128-gb/p/itm2078a43b894...  \n",
              "79     None  /redmi-y2-blue-64-gb/p/itmfdkcmnzwbzzeu?pid=MO...  \n",
              "80     30.0  /redmi-5-lake-blue-64-gb/p/itmf9gjw8gy9vfv3?pi...  \n",
              "81     None  /mi-a3-not-just-blue-128-gb/p/itm205a2d7508016...  "
            ],
            "text/html": [
              "\n",
              "  <div id=\"df-4d0469e5-0077-4a4c-b11c-a1b7ba2fdf85\" class=\"colab-df-container\">\n",
              "    <div>\n",
              "<style scoped>\n",
              "    .dataframe tbody tr th:only-of-type {\n",
              "        vertical-align: middle;\n",
              "    }\n",
              "\n",
              "    .dataframe tbody tr th {\n",
              "        vertical-align: top;\n",
              "    }\n",
              "\n",
              "    .dataframe thead th {\n",
              "        text-align: right;\n",
              "    }\n",
              "</style>\n",
              "<table border=\"1\" class=\"dataframe\">\n",
              "  <thead>\n",
              "    <tr style=\"text-align: right;\">\n",
              "      <th></th>\n",
              "      <th>product_id</th>\n",
              "      <th>product_name</th>\n",
              "      <th>price</th>\n",
              "      <th>category</th>\n",
              "      <th>sub_category</th>\n",
              "      <th>specifications</th>\n",
              "      <th>ratings</th>\n",
              "      <th>discount</th>\n",
              "      <th>moreinfo</th>\n",
              "    </tr>\n",
              "  </thead>\n",
              "  <tbody>\n",
              "    <tr>\n",
              "      <th>77</th>\n",
              "      <td>ECMB000078</td>\n",
              "      <td>Redmi 7 (Eclipse Black, 32 GB)</td>\n",
              "      <td>₹8,390</td>\n",
              "      <td>Electronics</td>\n",
              "      <td>Mobile</td>\n",
              "      <td>3 GB RAM | 32 GB ROM | Expandable Upto 512 GB1...</td>\n",
              "      <td>4.4</td>\n",
              "      <td>23.0</td>\n",
              "      <td>/redmi-7-eclipse-black-32-gb/p/itmfhg4ezfgx2ef...</td>\n",
              "    </tr>\n",
              "    <tr>\n",
              "      <th>78</th>\n",
              "      <td>ECMB000079</td>\n",
              "      <td>Mi A3 (More Than White, 128 GB)</td>\n",
              "      <td>₹17,499</td>\n",
              "      <td>Electronics</td>\n",
              "      <td>Mobile</td>\n",
              "      <td>6 GB RAM | 128 GB ROM | Expandable Upto 256 GB...</td>\n",
              "      <td>4.2</td>\n",
              "      <td>None</td>\n",
              "      <td>/mi-a3-more-than-white-128-gb/p/itm2078a43b894...</td>\n",
              "    </tr>\n",
              "    <tr>\n",
              "      <th>79</th>\n",
              "      <td>ECMB000080</td>\n",
              "      <td>Redmi Y2 (Blue, 64 GB)</td>\n",
              "      <td>₹13,499</td>\n",
              "      <td>Electronics</td>\n",
              "      <td>Mobile</td>\n",
              "      <td>4 GB RAM | 64 GB ROM | Expandable Upto 256 GB1...</td>\n",
              "      <td>4.4</td>\n",
              "      <td>None</td>\n",
              "      <td>/redmi-y2-blue-64-gb/p/itmfdkcmnzwbzzeu?pid=MO...</td>\n",
              "    </tr>\n",
              "    <tr>\n",
              "      <th>80</th>\n",
              "      <td>ECMB000081</td>\n",
              "      <td>Redmi 5 (Lake Blue, 64 GB)</td>\n",
              "      <td>₹8,299</td>\n",
              "      <td>Electronics</td>\n",
              "      <td>Mobile</td>\n",
              "      <td>4 GB RAM | 64 GB ROM | Expandable Upto 128 GB1...</td>\n",
              "      <td>4.3</td>\n",
              "      <td>30.0</td>\n",
              "      <td>/redmi-5-lake-blue-64-gb/p/itmf9gjw8gy9vfv3?pi...</td>\n",
              "    </tr>\n",
              "    <tr>\n",
              "      <th>81</th>\n",
              "      <td>ECMB000082</td>\n",
              "      <td>Mi A3 (Not just Blue, 128 GB)</td>\n",
              "      <td>₹17,499</td>\n",
              "      <td>Electronics</td>\n",
              "      <td>Mobile</td>\n",
              "      <td>6 GB RAM | 128 GB ROM | Expandable Upto 256 GB...</td>\n",
              "      <td>4.2</td>\n",
              "      <td>None</td>\n",
              "      <td>/mi-a3-not-just-blue-128-gb/p/itm205a2d7508016...</td>\n",
              "    </tr>\n",
              "  </tbody>\n",
              "</table>\n",
              "</div>\n",
              "    <div class=\"colab-df-buttons\">\n",
              "\n",
              "  <div class=\"colab-df-container\">\n",
              "    <button class=\"colab-df-convert\" onclick=\"convertToInteractive('df-4d0469e5-0077-4a4c-b11c-a1b7ba2fdf85')\"\n",
              "            title=\"Convert this dataframe to an interactive table.\"\n",
              "            style=\"display:none;\">\n",
              "\n",
              "  <svg xmlns=\"http://www.w3.org/2000/svg\" height=\"24px\" viewBox=\"0 -960 960 960\">\n",
              "    <path d=\"M120-120v-720h720v720H120Zm60-500h600v-160H180v160Zm220 220h160v-160H400v160Zm0 220h160v-160H400v160ZM180-400h160v-160H180v160Zm440 0h160v-160H620v160ZM180-180h160v-160H180v160Zm440 0h160v-160H620v160Z\"/>\n",
              "  </svg>\n",
              "    </button>\n",
              "\n",
              "  <style>\n",
              "    .colab-df-container {\n",
              "      display:flex;\n",
              "      gap: 12px;\n",
              "    }\n",
              "\n",
              "    .colab-df-convert {\n",
              "      background-color: #E8F0FE;\n",
              "      border: none;\n",
              "      border-radius: 50%;\n",
              "      cursor: pointer;\n",
              "      display: none;\n",
              "      fill: #1967D2;\n",
              "      height: 32px;\n",
              "      padding: 0 0 0 0;\n",
              "      width: 32px;\n",
              "    }\n",
              "\n",
              "    .colab-df-convert:hover {\n",
              "      background-color: #E2EBFA;\n",
              "      box-shadow: 0px 1px 2px rgba(60, 64, 67, 0.3), 0px 1px 3px 1px rgba(60, 64, 67, 0.15);\n",
              "      fill: #174EA6;\n",
              "    }\n",
              "\n",
              "    .colab-df-buttons div {\n",
              "      margin-bottom: 4px;\n",
              "    }\n",
              "\n",
              "    [theme=dark] .colab-df-convert {\n",
              "      background-color: #3B4455;\n",
              "      fill: #D2E3FC;\n",
              "    }\n",
              "\n",
              "    [theme=dark] .colab-df-convert:hover {\n",
              "      background-color: #434B5C;\n",
              "      box-shadow: 0px 1px 3px 1px rgba(0, 0, 0, 0.15);\n",
              "      filter: drop-shadow(0px 1px 2px rgba(0, 0, 0, 0.3));\n",
              "      fill: #FFFFFF;\n",
              "    }\n",
              "  </style>\n",
              "\n",
              "    <script>\n",
              "      const buttonEl =\n",
              "        document.querySelector('#df-4d0469e5-0077-4a4c-b11c-a1b7ba2fdf85 button.colab-df-convert');\n",
              "      buttonEl.style.display =\n",
              "        google.colab.kernel.accessAllowed ? 'block' : 'none';\n",
              "\n",
              "      async function convertToInteractive(key) {\n",
              "        const element = document.querySelector('#df-4d0469e5-0077-4a4c-b11c-a1b7ba2fdf85');\n",
              "        const dataTable =\n",
              "          await google.colab.kernel.invokeFunction('convertToInteractive',\n",
              "                                                    [key], {});\n",
              "        if (!dataTable) return;\n",
              "\n",
              "        const docLinkHtml = 'Like what you see? Visit the ' +\n",
              "          '<a target=\"_blank\" href=https://colab.research.google.com/notebooks/data_table.ipynb>data table notebook</a>'\n",
              "          + ' to learn more about interactive tables.';\n",
              "        element.innerHTML = '';\n",
              "        dataTable['output_type'] = 'display_data';\n",
              "        await google.colab.output.renderOutput(dataTable, element);\n",
              "        const docLink = document.createElement('div');\n",
              "        docLink.innerHTML = docLinkHtml;\n",
              "        element.appendChild(docLink);\n",
              "      }\n",
              "    </script>\n",
              "  </div>\n",
              "\n",
              "\n",
              "<div id=\"df-4cc15bba-4994-4ed6-a813-983f0fda8b12\">\n",
              "  <button class=\"colab-df-quickchart\" onclick=\"quickchart('df-4cc15bba-4994-4ed6-a813-983f0fda8b12')\"\n",
              "            title=\"Suggest charts\"\n",
              "            style=\"display:none;\">\n",
              "\n",
              "<svg xmlns=\"http://www.w3.org/2000/svg\" height=\"24px\"viewBox=\"0 0 24 24\"\n",
              "     width=\"24px\">\n",
              "    <g>\n",
              "        <path d=\"M19 3H5c-1.1 0-2 .9-2 2v14c0 1.1.9 2 2 2h14c1.1 0 2-.9 2-2V5c0-1.1-.9-2-2-2zM9 17H7v-7h2v7zm4 0h-2V7h2v10zm4 0h-2v-4h2v4z\"/>\n",
              "    </g>\n",
              "</svg>\n",
              "  </button>\n",
              "\n",
              "<style>\n",
              "  .colab-df-quickchart {\n",
              "      --bg-color: #E8F0FE;\n",
              "      --fill-color: #1967D2;\n",
              "      --hover-bg-color: #E2EBFA;\n",
              "      --hover-fill-color: #174EA6;\n",
              "      --disabled-fill-color: #AAA;\n",
              "      --disabled-bg-color: #DDD;\n",
              "  }\n",
              "\n",
              "  [theme=dark] .colab-df-quickchart {\n",
              "      --bg-color: #3B4455;\n",
              "      --fill-color: #D2E3FC;\n",
              "      --hover-bg-color: #434B5C;\n",
              "      --hover-fill-color: #FFFFFF;\n",
              "      --disabled-bg-color: #3B4455;\n",
              "      --disabled-fill-color: #666;\n",
              "  }\n",
              "\n",
              "  .colab-df-quickchart {\n",
              "    background-color: var(--bg-color);\n",
              "    border: none;\n",
              "    border-radius: 50%;\n",
              "    cursor: pointer;\n",
              "    display: none;\n",
              "    fill: var(--fill-color);\n",
              "    height: 32px;\n",
              "    padding: 0;\n",
              "    width: 32px;\n",
              "  }\n",
              "\n",
              "  .colab-df-quickchart:hover {\n",
              "    background-color: var(--hover-bg-color);\n",
              "    box-shadow: 0 1px 2px rgba(60, 64, 67, 0.3), 0 1px 3px 1px rgba(60, 64, 67, 0.15);\n",
              "    fill: var(--button-hover-fill-color);\n",
              "  }\n",
              "\n",
              "  .colab-df-quickchart-complete:disabled,\n",
              "  .colab-df-quickchart-complete:disabled:hover {\n",
              "    background-color: var(--disabled-bg-color);\n",
              "    fill: var(--disabled-fill-color);\n",
              "    box-shadow: none;\n",
              "  }\n",
              "\n",
              "  .colab-df-spinner {\n",
              "    border: 2px solid var(--fill-color);\n",
              "    border-color: transparent;\n",
              "    border-bottom-color: var(--fill-color);\n",
              "    animation:\n",
              "      spin 1s steps(1) infinite;\n",
              "  }\n",
              "\n",
              "  @keyframes spin {\n",
              "    0% {\n",
              "      border-color: transparent;\n",
              "      border-bottom-color: var(--fill-color);\n",
              "      border-left-color: var(--fill-color);\n",
              "    }\n",
              "    20% {\n",
              "      border-color: transparent;\n",
              "      border-left-color: var(--fill-color);\n",
              "      border-top-color: var(--fill-color);\n",
              "    }\n",
              "    30% {\n",
              "      border-color: transparent;\n",
              "      border-left-color: var(--fill-color);\n",
              "      border-top-color: var(--fill-color);\n",
              "      border-right-color: var(--fill-color);\n",
              "    }\n",
              "    40% {\n",
              "      border-color: transparent;\n",
              "      border-right-color: var(--fill-color);\n",
              "      border-top-color: var(--fill-color);\n",
              "    }\n",
              "    60% {\n",
              "      border-color: transparent;\n",
              "      border-right-color: var(--fill-color);\n",
              "    }\n",
              "    80% {\n",
              "      border-color: transparent;\n",
              "      border-right-color: var(--fill-color);\n",
              "      border-bottom-color: var(--fill-color);\n",
              "    }\n",
              "    90% {\n",
              "      border-color: transparent;\n",
              "      border-bottom-color: var(--fill-color);\n",
              "    }\n",
              "  }\n",
              "</style>\n",
              "\n",
              "  <script>\n",
              "    async function quickchart(key) {\n",
              "      const quickchartButtonEl =\n",
              "        document.querySelector('#' + key + ' button');\n",
              "      quickchartButtonEl.disabled = true;  // To prevent multiple clicks.\n",
              "      quickchartButtonEl.classList.add('colab-df-spinner');\n",
              "      try {\n",
              "        const charts = await google.colab.kernel.invokeFunction(\n",
              "            'suggestCharts', [key], {});\n",
              "      } catch (error) {\n",
              "        console.error('Error during call to suggestCharts:', error);\n",
              "      }\n",
              "      quickchartButtonEl.classList.remove('colab-df-spinner');\n",
              "      quickchartButtonEl.classList.add('colab-df-quickchart-complete');\n",
              "    }\n",
              "    (() => {\n",
              "      let quickchartButtonEl =\n",
              "        document.querySelector('#df-4cc15bba-4994-4ed6-a813-983f0fda8b12 button');\n",
              "      quickchartButtonEl.style.display =\n",
              "        google.colab.kernel.accessAllowed ? 'block' : 'none';\n",
              "    })();\n",
              "  </script>\n",
              "</div>\n",
              "\n",
              "    </div>\n",
              "  </div>\n"
            ],
            "application/vnd.google.colaboratory.intrinsic+json": {
              "type": "dataframe",
              "repr_error": "0"
            }
          },
          "metadata": {},
          "execution_count": 4
        }
      ]
    },
    {
      "cell_type": "code",
      "source": [
        "items.info()"
      ],
      "metadata": {
        "colab": {
          "base_uri": "https://localhost:8080/"
        },
        "id": "WqUoWSctWGrB",
        "outputId": "23fc2f6d-7a63-4191-dca0-aa4c0dd2d97f"
      },
      "execution_count": 5,
      "outputs": [
        {
          "output_type": "stream",
          "name": "stdout",
          "text": [
            "<class 'pandas.core.frame.DataFrame'>\n",
            "RangeIndex: 82 entries, 0 to 81\n",
            "Data columns (total 9 columns):\n",
            " #   Column          Non-Null Count  Dtype \n",
            "---  ------          --------------  ----- \n",
            " 0   product_id      82 non-null     object\n",
            " 1   product_name    82 non-null     object\n",
            " 2   price           82 non-null     object\n",
            " 3   category        82 non-null     object\n",
            " 4   sub_category    82 non-null     object\n",
            " 5   specifications  82 non-null     object\n",
            " 6   ratings         82 non-null     object\n",
            " 7   discount        34 non-null     object\n",
            " 8   moreinfo        82 non-null     object\n",
            "dtypes: object(9)\n",
            "memory usage: 5.9+ KB\n"
          ]
        }
      ]
    },
    {
      "cell_type": "code",
      "source": [
        "items.describe()"
      ],
      "metadata": {
        "colab": {
          "base_uri": "https://localhost:8080/",
          "height": 209
        },
        "id": "_Pm9ZMbZWGth",
        "outputId": "fef7f364-eb28-456c-be65-88b514cd7bf3"
      },
      "execution_count": 6,
      "outputs": [
        {
          "output_type": "execute_result",
          "data": {
            "text/plain": [
              "        product_id                               product_name    price  \\\n",
              "count           82                                         82       82   \n",
              "unique          82                                         62       59   \n",
              "top     ECMB000001  Redmi Note 9 Pro (Champagne Gold, 128 GB)  ₹14,999   \n",
              "freq             1                                          3        7   \n",
              "\n",
              "           category sub_category  \\\n",
              "count            82           82   \n",
              "unique            1            1   \n",
              "top     Electronics       Mobile   \n",
              "freq             82           82   \n",
              "\n",
              "                                           specifications ratings discount  \\\n",
              "count                                                  82      82       34   \n",
              "unique                                                 49       5       25   \n",
              "top     3 GB RAM | 32 GB ROM | Expandable Upto 512 GB1...     4.3    ₹3000   \n",
              "freq                                                    4      29        4   \n",
              "\n",
              "                                                 moreinfo  \n",
              "count                                                  82  \n",
              "unique                                                 82  \n",
              "top     /redmi-9a-seablue-32-gb/p/itmeabd39a0cd669?pid...  \n",
              "freq                                                    1  "
            ],
            "text/html": [
              "\n",
              "  <div id=\"df-3871f95f-7a5a-4d29-a333-07f0b837834c\" class=\"colab-df-container\">\n",
              "    <div>\n",
              "<style scoped>\n",
              "    .dataframe tbody tr th:only-of-type {\n",
              "        vertical-align: middle;\n",
              "    }\n",
              "\n",
              "    .dataframe tbody tr th {\n",
              "        vertical-align: top;\n",
              "    }\n",
              "\n",
              "    .dataframe thead th {\n",
              "        text-align: right;\n",
              "    }\n",
              "</style>\n",
              "<table border=\"1\" class=\"dataframe\">\n",
              "  <thead>\n",
              "    <tr style=\"text-align: right;\">\n",
              "      <th></th>\n",
              "      <th>product_id</th>\n",
              "      <th>product_name</th>\n",
              "      <th>price</th>\n",
              "      <th>category</th>\n",
              "      <th>sub_category</th>\n",
              "      <th>specifications</th>\n",
              "      <th>ratings</th>\n",
              "      <th>discount</th>\n",
              "      <th>moreinfo</th>\n",
              "    </tr>\n",
              "  </thead>\n",
              "  <tbody>\n",
              "    <tr>\n",
              "      <th>count</th>\n",
              "      <td>82</td>\n",
              "      <td>82</td>\n",
              "      <td>82</td>\n",
              "      <td>82</td>\n",
              "      <td>82</td>\n",
              "      <td>82</td>\n",
              "      <td>82</td>\n",
              "      <td>34</td>\n",
              "      <td>82</td>\n",
              "    </tr>\n",
              "    <tr>\n",
              "      <th>unique</th>\n",
              "      <td>82</td>\n",
              "      <td>62</td>\n",
              "      <td>59</td>\n",
              "      <td>1</td>\n",
              "      <td>1</td>\n",
              "      <td>49</td>\n",
              "      <td>5</td>\n",
              "      <td>25</td>\n",
              "      <td>82</td>\n",
              "    </tr>\n",
              "    <tr>\n",
              "      <th>top</th>\n",
              "      <td>ECMB000001</td>\n",
              "      <td>Redmi Note 9 Pro (Champagne Gold, 128 GB)</td>\n",
              "      <td>₹14,999</td>\n",
              "      <td>Electronics</td>\n",
              "      <td>Mobile</td>\n",
              "      <td>3 GB RAM | 32 GB ROM | Expandable Upto 512 GB1...</td>\n",
              "      <td>4.3</td>\n",
              "      <td>₹3000</td>\n",
              "      <td>/redmi-9a-seablue-32-gb/p/itmeabd39a0cd669?pid...</td>\n",
              "    </tr>\n",
              "    <tr>\n",
              "      <th>freq</th>\n",
              "      <td>1</td>\n",
              "      <td>3</td>\n",
              "      <td>7</td>\n",
              "      <td>82</td>\n",
              "      <td>82</td>\n",
              "      <td>4</td>\n",
              "      <td>29</td>\n",
              "      <td>4</td>\n",
              "      <td>1</td>\n",
              "    </tr>\n",
              "  </tbody>\n",
              "</table>\n",
              "</div>\n",
              "    <div class=\"colab-df-buttons\">\n",
              "\n",
              "  <div class=\"colab-df-container\">\n",
              "    <button class=\"colab-df-convert\" onclick=\"convertToInteractive('df-3871f95f-7a5a-4d29-a333-07f0b837834c')\"\n",
              "            title=\"Convert this dataframe to an interactive table.\"\n",
              "            style=\"display:none;\">\n",
              "\n",
              "  <svg xmlns=\"http://www.w3.org/2000/svg\" height=\"24px\" viewBox=\"0 -960 960 960\">\n",
              "    <path d=\"M120-120v-720h720v720H120Zm60-500h600v-160H180v160Zm220 220h160v-160H400v160Zm0 220h160v-160H400v160ZM180-400h160v-160H180v160Zm440 0h160v-160H620v160ZM180-180h160v-160H180v160Zm440 0h160v-160H620v160Z\"/>\n",
              "  </svg>\n",
              "    </button>\n",
              "\n",
              "  <style>\n",
              "    .colab-df-container {\n",
              "      display:flex;\n",
              "      gap: 12px;\n",
              "    }\n",
              "\n",
              "    .colab-df-convert {\n",
              "      background-color: #E8F0FE;\n",
              "      border: none;\n",
              "      border-radius: 50%;\n",
              "      cursor: pointer;\n",
              "      display: none;\n",
              "      fill: #1967D2;\n",
              "      height: 32px;\n",
              "      padding: 0 0 0 0;\n",
              "      width: 32px;\n",
              "    }\n",
              "\n",
              "    .colab-df-convert:hover {\n",
              "      background-color: #E2EBFA;\n",
              "      box-shadow: 0px 1px 2px rgba(60, 64, 67, 0.3), 0px 1px 3px 1px rgba(60, 64, 67, 0.15);\n",
              "      fill: #174EA6;\n",
              "    }\n",
              "\n",
              "    .colab-df-buttons div {\n",
              "      margin-bottom: 4px;\n",
              "    }\n",
              "\n",
              "    [theme=dark] .colab-df-convert {\n",
              "      background-color: #3B4455;\n",
              "      fill: #D2E3FC;\n",
              "    }\n",
              "\n",
              "    [theme=dark] .colab-df-convert:hover {\n",
              "      background-color: #434B5C;\n",
              "      box-shadow: 0px 1px 3px 1px rgba(0, 0, 0, 0.15);\n",
              "      filter: drop-shadow(0px 1px 2px rgba(0, 0, 0, 0.3));\n",
              "      fill: #FFFFFF;\n",
              "    }\n",
              "  </style>\n",
              "\n",
              "    <script>\n",
              "      const buttonEl =\n",
              "        document.querySelector('#df-3871f95f-7a5a-4d29-a333-07f0b837834c button.colab-df-convert');\n",
              "      buttonEl.style.display =\n",
              "        google.colab.kernel.accessAllowed ? 'block' : 'none';\n",
              "\n",
              "      async function convertToInteractive(key) {\n",
              "        const element = document.querySelector('#df-3871f95f-7a5a-4d29-a333-07f0b837834c');\n",
              "        const dataTable =\n",
              "          await google.colab.kernel.invokeFunction('convertToInteractive',\n",
              "                                                    [key], {});\n",
              "        if (!dataTable) return;\n",
              "\n",
              "        const docLinkHtml = 'Like what you see? Visit the ' +\n",
              "          '<a target=\"_blank\" href=https://colab.research.google.com/notebooks/data_table.ipynb>data table notebook</a>'\n",
              "          + ' to learn more about interactive tables.';\n",
              "        element.innerHTML = '';\n",
              "        dataTable['output_type'] = 'display_data';\n",
              "        await google.colab.output.renderOutput(dataTable, element);\n",
              "        const docLink = document.createElement('div');\n",
              "        docLink.innerHTML = docLinkHtml;\n",
              "        element.appendChild(docLink);\n",
              "      }\n",
              "    </script>\n",
              "  </div>\n",
              "\n",
              "\n",
              "<div id=\"df-bc8677cd-0cac-41c7-9751-4558e4182684\">\n",
              "  <button class=\"colab-df-quickchart\" onclick=\"quickchart('df-bc8677cd-0cac-41c7-9751-4558e4182684')\"\n",
              "            title=\"Suggest charts\"\n",
              "            style=\"display:none;\">\n",
              "\n",
              "<svg xmlns=\"http://www.w3.org/2000/svg\" height=\"24px\"viewBox=\"0 0 24 24\"\n",
              "     width=\"24px\">\n",
              "    <g>\n",
              "        <path d=\"M19 3H5c-1.1 0-2 .9-2 2v14c0 1.1.9 2 2 2h14c1.1 0 2-.9 2-2V5c0-1.1-.9-2-2-2zM9 17H7v-7h2v7zm4 0h-2V7h2v10zm4 0h-2v-4h2v4z\"/>\n",
              "    </g>\n",
              "</svg>\n",
              "  </button>\n",
              "\n",
              "<style>\n",
              "  .colab-df-quickchart {\n",
              "      --bg-color: #E8F0FE;\n",
              "      --fill-color: #1967D2;\n",
              "      --hover-bg-color: #E2EBFA;\n",
              "      --hover-fill-color: #174EA6;\n",
              "      --disabled-fill-color: #AAA;\n",
              "      --disabled-bg-color: #DDD;\n",
              "  }\n",
              "\n",
              "  [theme=dark] .colab-df-quickchart {\n",
              "      --bg-color: #3B4455;\n",
              "      --fill-color: #D2E3FC;\n",
              "      --hover-bg-color: #434B5C;\n",
              "      --hover-fill-color: #FFFFFF;\n",
              "      --disabled-bg-color: #3B4455;\n",
              "      --disabled-fill-color: #666;\n",
              "  }\n",
              "\n",
              "  .colab-df-quickchart {\n",
              "    background-color: var(--bg-color);\n",
              "    border: none;\n",
              "    border-radius: 50%;\n",
              "    cursor: pointer;\n",
              "    display: none;\n",
              "    fill: var(--fill-color);\n",
              "    height: 32px;\n",
              "    padding: 0;\n",
              "    width: 32px;\n",
              "  }\n",
              "\n",
              "  .colab-df-quickchart:hover {\n",
              "    background-color: var(--hover-bg-color);\n",
              "    box-shadow: 0 1px 2px rgba(60, 64, 67, 0.3), 0 1px 3px 1px rgba(60, 64, 67, 0.15);\n",
              "    fill: var(--button-hover-fill-color);\n",
              "  }\n",
              "\n",
              "  .colab-df-quickchart-complete:disabled,\n",
              "  .colab-df-quickchart-complete:disabled:hover {\n",
              "    background-color: var(--disabled-bg-color);\n",
              "    fill: var(--disabled-fill-color);\n",
              "    box-shadow: none;\n",
              "  }\n",
              "\n",
              "  .colab-df-spinner {\n",
              "    border: 2px solid var(--fill-color);\n",
              "    border-color: transparent;\n",
              "    border-bottom-color: var(--fill-color);\n",
              "    animation:\n",
              "      spin 1s steps(1) infinite;\n",
              "  }\n",
              "\n",
              "  @keyframes spin {\n",
              "    0% {\n",
              "      border-color: transparent;\n",
              "      border-bottom-color: var(--fill-color);\n",
              "      border-left-color: var(--fill-color);\n",
              "    }\n",
              "    20% {\n",
              "      border-color: transparent;\n",
              "      border-left-color: var(--fill-color);\n",
              "      border-top-color: var(--fill-color);\n",
              "    }\n",
              "    30% {\n",
              "      border-color: transparent;\n",
              "      border-left-color: var(--fill-color);\n",
              "      border-top-color: var(--fill-color);\n",
              "      border-right-color: var(--fill-color);\n",
              "    }\n",
              "    40% {\n",
              "      border-color: transparent;\n",
              "      border-right-color: var(--fill-color);\n",
              "      border-top-color: var(--fill-color);\n",
              "    }\n",
              "    60% {\n",
              "      border-color: transparent;\n",
              "      border-right-color: var(--fill-color);\n",
              "    }\n",
              "    80% {\n",
              "      border-color: transparent;\n",
              "      border-right-color: var(--fill-color);\n",
              "      border-bottom-color: var(--fill-color);\n",
              "    }\n",
              "    90% {\n",
              "      border-color: transparent;\n",
              "      border-bottom-color: var(--fill-color);\n",
              "    }\n",
              "  }\n",
              "</style>\n",
              "\n",
              "  <script>\n",
              "    async function quickchart(key) {\n",
              "      const quickchartButtonEl =\n",
              "        document.querySelector('#' + key + ' button');\n",
              "      quickchartButtonEl.disabled = true;  // To prevent multiple clicks.\n",
              "      quickchartButtonEl.classList.add('colab-df-spinner');\n",
              "      try {\n",
              "        const charts = await google.colab.kernel.invokeFunction(\n",
              "            'suggestCharts', [key], {});\n",
              "      } catch (error) {\n",
              "        console.error('Error during call to suggestCharts:', error);\n",
              "      }\n",
              "      quickchartButtonEl.classList.remove('colab-df-spinner');\n",
              "      quickchartButtonEl.classList.add('colab-df-quickchart-complete');\n",
              "    }\n",
              "    (() => {\n",
              "      let quickchartButtonEl =\n",
              "        document.querySelector('#df-bc8677cd-0cac-41c7-9751-4558e4182684 button');\n",
              "      quickchartButtonEl.style.display =\n",
              "        google.colab.kernel.accessAllowed ? 'block' : 'none';\n",
              "    })();\n",
              "  </script>\n",
              "</div>\n",
              "\n",
              "    </div>\n",
              "  </div>\n"
            ],
            "application/vnd.google.colaboratory.intrinsic+json": {
              "type": "dataframe",
              "summary": "{\n  \"name\": \"items\",\n  \"rows\": 4,\n  \"fields\": [\n    {\n      \"column\": \"product_id\",\n      \"properties\": {\n        \"dtype\": \"string\",\n        \"num_unique_values\": 3,\n        \"samples\": [\n          \"82\",\n          \"ECMB000001\",\n          \"1\"\n        ],\n        \"semantic_type\": \"\",\n        \"description\": \"\"\n      }\n    },\n    {\n      \"column\": \"product_name\",\n      \"properties\": {\n        \"dtype\": \"string\",\n        \"num_unique_values\": 4,\n        \"samples\": [\n          62,\n          \"3\",\n          \"82\"\n        ],\n        \"semantic_type\": \"\",\n        \"description\": \"\"\n      }\n    },\n    {\n      \"column\": \"price\",\n      \"properties\": {\n        \"dtype\": \"string\",\n        \"num_unique_values\": 4,\n        \"samples\": [\n          59,\n          \"7\",\n          \"82\"\n        ],\n        \"semantic_type\": \"\",\n        \"description\": \"\"\n      }\n    },\n    {\n      \"column\": \"category\",\n      \"properties\": {\n        \"dtype\": \"string\",\n        \"num_unique_values\": 3,\n        \"samples\": [\n          \"82\",\n          1,\n          \"Electronics\"\n        ],\n        \"semantic_type\": \"\",\n        \"description\": \"\"\n      }\n    },\n    {\n      \"column\": \"sub_category\",\n      \"properties\": {\n        \"dtype\": \"string\",\n        \"num_unique_values\": 3,\n        \"samples\": [\n          \"82\",\n          1,\n          \"Mobile\"\n        ],\n        \"semantic_type\": \"\",\n        \"description\": \"\"\n      }\n    },\n    {\n      \"column\": \"specifications\",\n      \"properties\": {\n        \"dtype\": \"string\",\n        \"num_unique_values\": 4,\n        \"samples\": [\n          49,\n          \"4\",\n          \"82\"\n        ],\n        \"semantic_type\": \"\",\n        \"description\": \"\"\n      }\n    },\n    {\n      \"column\": \"ratings\",\n      \"properties\": {\n        \"dtype\": \"string\",\n        \"num_unique_values\": 4,\n        \"samples\": [\n          5,\n          \"29\",\n          \"82\"\n        ],\n        \"semantic_type\": \"\",\n        \"description\": \"\"\n      }\n    },\n    {\n      \"column\": \"discount\",\n      \"properties\": {\n        \"dtype\": \"string\",\n        \"num_unique_values\": 4,\n        \"samples\": [\n          25,\n          \"4\",\n          \"34\"\n        ],\n        \"semantic_type\": \"\",\n        \"description\": \"\"\n      }\n    },\n    {\n      \"column\": \"moreinfo\",\n      \"properties\": {\n        \"dtype\": \"string\",\n        \"num_unique_values\": 3,\n        \"samples\": [\n          \"82\",\n          \"/redmi-9a-seablue-32-gb/p/itmeabd39a0cd669?pid=MOBFVD9ZGTYR2WGR&lid=LSTMOBFVD9ZGTYR2WGRTI4SZ6&marketplace=FLIPKART&store=tyy%2F4io&srno=b_1_1&otracker=nmenu_sub_Electronics_0_Mi&fm=organic&iid=46c8cb1f-f295-4e3f-93dd-4b2e7c67366d.MOBFVD9ZGTYR2WGR.SEARCH&ppt=None&ppn=None&ssid=ykxrr633fk0000001626853620807\",\n          \"1\"\n        ],\n        \"semantic_type\": \"\",\n        \"description\": \"\"\n      }\n    }\n  ]\n}"
            }
          },
          "metadata": {},
          "execution_count": 6
        }
      ]
    },
    {
      "cell_type": "code",
      "source": [
        "con = sqlite3.connect(\"products.db\")\n",
        "\n",
        "df = pd.read_sql_query(\"SELECT * from ECMB000001\", con)\n",
        "\n",
        "for i in range(2, len(items) + 1):\n",
        "\n",
        "    df_temp = pd.read_sql_query(\"SELECT * from ECMB{:06d}\".format(i), con)\n",
        "    df = pd.concat([df, df_temp])\n",
        "con.close()"
      ],
      "metadata": {
        "id": "26eLL2aRWo7q"
      },
      "execution_count": 7,
      "outputs": []
    },
    {
      "cell_type": "code",
      "source": [
        "df.info()"
      ],
      "metadata": {
        "colab": {
          "base_uri": "https://localhost:8080/"
        },
        "id": "gaJNU8FPWxtQ",
        "outputId": "7951c9cd-cfbd-4dd3-b2fa-65ba6c626b98"
      },
      "execution_count": 8,
      "outputs": [
        {
          "output_type": "stream",
          "name": "stdout",
          "text": [
            "<class 'pandas.core.frame.DataFrame'>\n",
            "Index: 53493 entries, 0 to 289\n",
            "Data columns (total 8 columns):\n",
            " #   Column      Non-Null Count  Dtype \n",
            "---  ------      --------------  ----- \n",
            " 0   product_id  53493 non-null  object\n",
            " 1   review_id   53493 non-null  object\n",
            " 2   title       53493 non-null  object\n",
            " 3   review      53493 non-null  object\n",
            " 4   likes       53493 non-null  object\n",
            " 5   dislikes    53493 non-null  object\n",
            " 6   ratings     48488 non-null  object\n",
            " 7   reviewer    53493 non-null  object\n",
            "dtypes: object(8)\n",
            "memory usage: 3.7+ MB\n"
          ]
        }
      ]
    },
    {
      "cell_type": "code",
      "source": [
        "df.head()"
      ],
      "metadata": {
        "colab": {
          "base_uri": "https://localhost:8080/",
          "height": 275
        },
        "id": "MdktohJaWywB",
        "outputId": "dab03a8f-8c20-453e-d7fc-977efaafe5fe"
      },
      "execution_count": 9,
      "outputs": [
        {
          "output_type": "execute_result",
          "data": {
            "text/plain": [
              "   product_id          review_id               title  \\\n",
              "0  ECMB000001  ECMB0000010000001           Excellent   \n",
              "1  ECMB000001  ECMB0000010000002     Worth the money   \n",
              "2  ECMB000001  ECMB0000010000003           Just wow!   \n",
              "3  ECMB000001  ECMB0000010000004      Simply awesome   \n",
              "4  ECMB000001  ECMB0000010000005  Highly recommended   \n",
              "\n",
              "                                              review likes dislikes ratings  \\\n",
              "0  Wow superb I love it❤️👍 battery backup so nice 👍👍   740      160       5   \n",
              "1  Mobile So Good In Range Redmi 9a Has Miui 12 L...   355      104       4   \n",
              "2  Wonderful device and smart phone best camera b...   125       47       5   \n",
              "3  Very good mobile. Value for money. Battery bac...     0        0       5   \n",
              "4                Really great.... value for money...    90       15       5   \n",
              "\n",
              "             reviewer  \n",
              "0      Abhishek Saini  \n",
              "1  Dinesh Kumar Sahni  \n",
              "2   Flipkart Customer  \n",
              "3            Amit Sen  \n",
              "4     Sudeshna pakira  "
            ],
            "text/html": [
              "\n",
              "  <div id=\"df-c268969c-453f-49ab-a23e-2014c3131ac0\" class=\"colab-df-container\">\n",
              "    <div>\n",
              "<style scoped>\n",
              "    .dataframe tbody tr th:only-of-type {\n",
              "        vertical-align: middle;\n",
              "    }\n",
              "\n",
              "    .dataframe tbody tr th {\n",
              "        vertical-align: top;\n",
              "    }\n",
              "\n",
              "    .dataframe thead th {\n",
              "        text-align: right;\n",
              "    }\n",
              "</style>\n",
              "<table border=\"1\" class=\"dataframe\">\n",
              "  <thead>\n",
              "    <tr style=\"text-align: right;\">\n",
              "      <th></th>\n",
              "      <th>product_id</th>\n",
              "      <th>review_id</th>\n",
              "      <th>title</th>\n",
              "      <th>review</th>\n",
              "      <th>likes</th>\n",
              "      <th>dislikes</th>\n",
              "      <th>ratings</th>\n",
              "      <th>reviewer</th>\n",
              "    </tr>\n",
              "  </thead>\n",
              "  <tbody>\n",
              "    <tr>\n",
              "      <th>0</th>\n",
              "      <td>ECMB000001</td>\n",
              "      <td>ECMB0000010000001</td>\n",
              "      <td>Excellent</td>\n",
              "      <td>Wow superb I love it❤️👍 battery backup so nice 👍👍</td>\n",
              "      <td>740</td>\n",
              "      <td>160</td>\n",
              "      <td>5</td>\n",
              "      <td>Abhishek Saini</td>\n",
              "    </tr>\n",
              "    <tr>\n",
              "      <th>1</th>\n",
              "      <td>ECMB000001</td>\n",
              "      <td>ECMB0000010000002</td>\n",
              "      <td>Worth the money</td>\n",
              "      <td>Mobile So Good In Range Redmi 9a Has Miui 12 L...</td>\n",
              "      <td>355</td>\n",
              "      <td>104</td>\n",
              "      <td>4</td>\n",
              "      <td>Dinesh Kumar Sahni</td>\n",
              "    </tr>\n",
              "    <tr>\n",
              "      <th>2</th>\n",
              "      <td>ECMB000001</td>\n",
              "      <td>ECMB0000010000003</td>\n",
              "      <td>Just wow!</td>\n",
              "      <td>Wonderful device and smart phone best camera b...</td>\n",
              "      <td>125</td>\n",
              "      <td>47</td>\n",
              "      <td>5</td>\n",
              "      <td>Flipkart Customer</td>\n",
              "    </tr>\n",
              "    <tr>\n",
              "      <th>3</th>\n",
              "      <td>ECMB000001</td>\n",
              "      <td>ECMB0000010000004</td>\n",
              "      <td>Simply awesome</td>\n",
              "      <td>Very good mobile. Value for money. Battery bac...</td>\n",
              "      <td>0</td>\n",
              "      <td>0</td>\n",
              "      <td>5</td>\n",
              "      <td>Amit Sen</td>\n",
              "    </tr>\n",
              "    <tr>\n",
              "      <th>4</th>\n",
              "      <td>ECMB000001</td>\n",
              "      <td>ECMB0000010000005</td>\n",
              "      <td>Highly recommended</td>\n",
              "      <td>Really great.... value for money...</td>\n",
              "      <td>90</td>\n",
              "      <td>15</td>\n",
              "      <td>5</td>\n",
              "      <td>Sudeshna pakira</td>\n",
              "    </tr>\n",
              "  </tbody>\n",
              "</table>\n",
              "</div>\n",
              "    <div class=\"colab-df-buttons\">\n",
              "\n",
              "  <div class=\"colab-df-container\">\n",
              "    <button class=\"colab-df-convert\" onclick=\"convertToInteractive('df-c268969c-453f-49ab-a23e-2014c3131ac0')\"\n",
              "            title=\"Convert this dataframe to an interactive table.\"\n",
              "            style=\"display:none;\">\n",
              "\n",
              "  <svg xmlns=\"http://www.w3.org/2000/svg\" height=\"24px\" viewBox=\"0 -960 960 960\">\n",
              "    <path d=\"M120-120v-720h720v720H120Zm60-500h600v-160H180v160Zm220 220h160v-160H400v160Zm0 220h160v-160H400v160ZM180-400h160v-160H180v160Zm440 0h160v-160H620v160ZM180-180h160v-160H180v160Zm440 0h160v-160H620v160Z\"/>\n",
              "  </svg>\n",
              "    </button>\n",
              "\n",
              "  <style>\n",
              "    .colab-df-container {\n",
              "      display:flex;\n",
              "      gap: 12px;\n",
              "    }\n",
              "\n",
              "    .colab-df-convert {\n",
              "      background-color: #E8F0FE;\n",
              "      border: none;\n",
              "      border-radius: 50%;\n",
              "      cursor: pointer;\n",
              "      display: none;\n",
              "      fill: #1967D2;\n",
              "      height: 32px;\n",
              "      padding: 0 0 0 0;\n",
              "      width: 32px;\n",
              "    }\n",
              "\n",
              "    .colab-df-convert:hover {\n",
              "      background-color: #E2EBFA;\n",
              "      box-shadow: 0px 1px 2px rgba(60, 64, 67, 0.3), 0px 1px 3px 1px rgba(60, 64, 67, 0.15);\n",
              "      fill: #174EA6;\n",
              "    }\n",
              "\n",
              "    .colab-df-buttons div {\n",
              "      margin-bottom: 4px;\n",
              "    }\n",
              "\n",
              "    [theme=dark] .colab-df-convert {\n",
              "      background-color: #3B4455;\n",
              "      fill: #D2E3FC;\n",
              "    }\n",
              "\n",
              "    [theme=dark] .colab-df-convert:hover {\n",
              "      background-color: #434B5C;\n",
              "      box-shadow: 0px 1px 3px 1px rgba(0, 0, 0, 0.15);\n",
              "      filter: drop-shadow(0px 1px 2px rgba(0, 0, 0, 0.3));\n",
              "      fill: #FFFFFF;\n",
              "    }\n",
              "  </style>\n",
              "\n",
              "    <script>\n",
              "      const buttonEl =\n",
              "        document.querySelector('#df-c268969c-453f-49ab-a23e-2014c3131ac0 button.colab-df-convert');\n",
              "      buttonEl.style.display =\n",
              "        google.colab.kernel.accessAllowed ? 'block' : 'none';\n",
              "\n",
              "      async function convertToInteractive(key) {\n",
              "        const element = document.querySelector('#df-c268969c-453f-49ab-a23e-2014c3131ac0');\n",
              "        const dataTable =\n",
              "          await google.colab.kernel.invokeFunction('convertToInteractive',\n",
              "                                                    [key], {});\n",
              "        if (!dataTable) return;\n",
              "\n",
              "        const docLinkHtml = 'Like what you see? Visit the ' +\n",
              "          '<a target=\"_blank\" href=https://colab.research.google.com/notebooks/data_table.ipynb>data table notebook</a>'\n",
              "          + ' to learn more about interactive tables.';\n",
              "        element.innerHTML = '';\n",
              "        dataTable['output_type'] = 'display_data';\n",
              "        await google.colab.output.renderOutput(dataTable, element);\n",
              "        const docLink = document.createElement('div');\n",
              "        docLink.innerHTML = docLinkHtml;\n",
              "        element.appendChild(docLink);\n",
              "      }\n",
              "    </script>\n",
              "  </div>\n",
              "\n",
              "\n",
              "<div id=\"df-bfc7b1b0-8014-4478-aa76-11a7f5c9b8e6\">\n",
              "  <button class=\"colab-df-quickchart\" onclick=\"quickchart('df-bfc7b1b0-8014-4478-aa76-11a7f5c9b8e6')\"\n",
              "            title=\"Suggest charts\"\n",
              "            style=\"display:none;\">\n",
              "\n",
              "<svg xmlns=\"http://www.w3.org/2000/svg\" height=\"24px\"viewBox=\"0 0 24 24\"\n",
              "     width=\"24px\">\n",
              "    <g>\n",
              "        <path d=\"M19 3H5c-1.1 0-2 .9-2 2v14c0 1.1.9 2 2 2h14c1.1 0 2-.9 2-2V5c0-1.1-.9-2-2-2zM9 17H7v-7h2v7zm4 0h-2V7h2v10zm4 0h-2v-4h2v4z\"/>\n",
              "    </g>\n",
              "</svg>\n",
              "  </button>\n",
              "\n",
              "<style>\n",
              "  .colab-df-quickchart {\n",
              "      --bg-color: #E8F0FE;\n",
              "      --fill-color: #1967D2;\n",
              "      --hover-bg-color: #E2EBFA;\n",
              "      --hover-fill-color: #174EA6;\n",
              "      --disabled-fill-color: #AAA;\n",
              "      --disabled-bg-color: #DDD;\n",
              "  }\n",
              "\n",
              "  [theme=dark] .colab-df-quickchart {\n",
              "      --bg-color: #3B4455;\n",
              "      --fill-color: #D2E3FC;\n",
              "      --hover-bg-color: #434B5C;\n",
              "      --hover-fill-color: #FFFFFF;\n",
              "      --disabled-bg-color: #3B4455;\n",
              "      --disabled-fill-color: #666;\n",
              "  }\n",
              "\n",
              "  .colab-df-quickchart {\n",
              "    background-color: var(--bg-color);\n",
              "    border: none;\n",
              "    border-radius: 50%;\n",
              "    cursor: pointer;\n",
              "    display: none;\n",
              "    fill: var(--fill-color);\n",
              "    height: 32px;\n",
              "    padding: 0;\n",
              "    width: 32px;\n",
              "  }\n",
              "\n",
              "  .colab-df-quickchart:hover {\n",
              "    background-color: var(--hover-bg-color);\n",
              "    box-shadow: 0 1px 2px rgba(60, 64, 67, 0.3), 0 1px 3px 1px rgba(60, 64, 67, 0.15);\n",
              "    fill: var(--button-hover-fill-color);\n",
              "  }\n",
              "\n",
              "  .colab-df-quickchart-complete:disabled,\n",
              "  .colab-df-quickchart-complete:disabled:hover {\n",
              "    background-color: var(--disabled-bg-color);\n",
              "    fill: var(--disabled-fill-color);\n",
              "    box-shadow: none;\n",
              "  }\n",
              "\n",
              "  .colab-df-spinner {\n",
              "    border: 2px solid var(--fill-color);\n",
              "    border-color: transparent;\n",
              "    border-bottom-color: var(--fill-color);\n",
              "    animation:\n",
              "      spin 1s steps(1) infinite;\n",
              "  }\n",
              "\n",
              "  @keyframes spin {\n",
              "    0% {\n",
              "      border-color: transparent;\n",
              "      border-bottom-color: var(--fill-color);\n",
              "      border-left-color: var(--fill-color);\n",
              "    }\n",
              "    20% {\n",
              "      border-color: transparent;\n",
              "      border-left-color: var(--fill-color);\n",
              "      border-top-color: var(--fill-color);\n",
              "    }\n",
              "    30% {\n",
              "      border-color: transparent;\n",
              "      border-left-color: var(--fill-color);\n",
              "      border-top-color: var(--fill-color);\n",
              "      border-right-color: var(--fill-color);\n",
              "    }\n",
              "    40% {\n",
              "      border-color: transparent;\n",
              "      border-right-color: var(--fill-color);\n",
              "      border-top-color: var(--fill-color);\n",
              "    }\n",
              "    60% {\n",
              "      border-color: transparent;\n",
              "      border-right-color: var(--fill-color);\n",
              "    }\n",
              "    80% {\n",
              "      border-color: transparent;\n",
              "      border-right-color: var(--fill-color);\n",
              "      border-bottom-color: var(--fill-color);\n",
              "    }\n",
              "    90% {\n",
              "      border-color: transparent;\n",
              "      border-bottom-color: var(--fill-color);\n",
              "    }\n",
              "  }\n",
              "</style>\n",
              "\n",
              "  <script>\n",
              "    async function quickchart(key) {\n",
              "      const quickchartButtonEl =\n",
              "        document.querySelector('#' + key + ' button');\n",
              "      quickchartButtonEl.disabled = true;  // To prevent multiple clicks.\n",
              "      quickchartButtonEl.classList.add('colab-df-spinner');\n",
              "      try {\n",
              "        const charts = await google.colab.kernel.invokeFunction(\n",
              "            'suggestCharts', [key], {});\n",
              "      } catch (error) {\n",
              "        console.error('Error during call to suggestCharts:', error);\n",
              "      }\n",
              "      quickchartButtonEl.classList.remove('colab-df-spinner');\n",
              "      quickchartButtonEl.classList.add('colab-df-quickchart-complete');\n",
              "    }\n",
              "    (() => {\n",
              "      let quickchartButtonEl =\n",
              "        document.querySelector('#df-bfc7b1b0-8014-4478-aa76-11a7f5c9b8e6 button');\n",
              "      quickchartButtonEl.style.display =\n",
              "        google.colab.kernel.accessAllowed ? 'block' : 'none';\n",
              "    })();\n",
              "  </script>\n",
              "</div>\n",
              "\n",
              "    </div>\n",
              "  </div>\n"
            ],
            "application/vnd.google.colaboratory.intrinsic+json": {
              "type": "dataframe",
              "variable_name": "df",
              "summary": "{\n  \"name\": \"df\",\n  \"rows\": 53493,\n  \"fields\": [\n    {\n      \"column\": \"product_id\",\n      \"properties\": {\n        \"dtype\": \"category\",\n        \"num_unique_values\": 81,\n        \"samples\": [\n          \"ECMB000032\",\n          \"ECMB000001\",\n          \"ECMB000023\"\n        ],\n        \"semantic_type\": \"\",\n        \"description\": \"\"\n      }\n    },\n    {\n      \"column\": \"review_id\",\n      \"properties\": {\n        \"dtype\": \"string\",\n        \"num_unique_values\": 53493,\n        \"samples\": [\n          \"ECMB0000450000048\",\n          \"ECMB0000050000141\",\n          \"ECMB0000250000789\"\n        ],\n        \"semantic_type\": \"\",\n        \"description\": \"\"\n      }\n    },\n    {\n      \"column\": \"title\",\n      \"properties\": {\n        \"dtype\": \"category\",\n        \"num_unique_values\": 783,\n        \"samples\": [\n          \"GREAT LOOKS. At this price its Great.\",\n          \"Stunning looks\",\n          \"Great budget Smart Phone \"\n        ],\n        \"semantic_type\": \"\",\n        \"description\": \"\"\n      }\n    },\n    {\n      \"column\": \"review\",\n      \"properties\": {\n        \"dtype\": \"category\",\n        \"num_unique_values\": 20153,\n        \"samples\": [\n          \"Nice. Worth for this price\",\n          \"awesome phone camera is just osm I really love it..\",\n          \"Good working\"\n        ],\n        \"semantic_type\": \"\",\n        \"description\": \"\"\n      }\n    },\n    {\n      \"column\": \"likes\",\n      \"properties\": {\n        \"dtype\": \"category\",\n        \"num_unique_values\": 513,\n        \"samples\": [\n          \"534\",\n          \"518\",\n          \"202\"\n        ],\n        \"semantic_type\": \"\",\n        \"description\": \"\"\n      }\n    },\n    {\n      \"column\": \"dislikes\",\n      \"properties\": {\n        \"dtype\": \"category\",\n        \"num_unique_values\": 282,\n        \"samples\": [\n          \"33\",\n          \"92\",\n          \"255\"\n        ],\n        \"semantic_type\": \"\",\n        \"description\": \"\"\n      }\n    },\n    {\n      \"column\": \"ratings\",\n      \"properties\": {\n        \"dtype\": \"category\",\n        \"num_unique_values\": 3,\n        \"samples\": [\n          \"5\",\n          \"4\",\n          \"3\"\n        ],\n        \"semantic_type\": \"\",\n        \"description\": \"\"\n      }\n    },\n    {\n      \"column\": \"reviewer\",\n      \"properties\": {\n        \"dtype\": \"category\",\n        \"num_unique_values\": 22134,\n        \"samples\": [\n          \"Prasanta Patra\",\n          \"Virat Chanda\",\n          \"Jeel Patel\"\n        ],\n        \"semantic_type\": \"\",\n        \"description\": \"\"\n      }\n    }\n  ]\n}"
            }
          },
          "metadata": {},
          "execution_count": 9
        }
      ]
    },
    {
      "cell_type": "code",
      "source": [
        "import missingno as msno\n",
        "plt.figure(figsize=(25, 20))\n",
        "msno.matrix(df, color=[0.2, 0.4, 1])\n",
        "plt.show()"
      ],
      "metadata": {
        "colab": {
          "base_uri": "https://localhost:8080/",
          "height": 526
        },
        "id": "RmF9OoOtW85Z",
        "outputId": "cbc21f9f-569f-4841-a9e4-7e5f73af7831"
      },
      "execution_count": 10,
      "outputs": [
        {
          "output_type": "display_data",
          "data": {
            "text/plain": [
              "<Figure size 2500x2000 with 0 Axes>"
            ]
          },
          "metadata": {}
        },
        {
          "output_type": "display_data",
          "data": {
            "text/plain": [
              "<Figure size 2500x1000 with 2 Axes>"
            ],
            "image/png": "[encoded data removed]"
          },
          "metadata": {}
        }
      ]
    },
    {
      "cell_type": "code",
      "source": [
        "# Dropping the rows with missing values\n",
        "\n",
        "df.dropna(inplace=True, axis=0)\n",
        "df.info()"
      ],
      "metadata": {
        "colab": {
          "base_uri": "https://localhost:8080/"
        },
        "id": "i8zC4LDqW886",
        "outputId": "5654bbca-9684-4c0d-c2e7-f6441c688b2d"
      },
      "execution_count": 11,
      "outputs": [
        {
          "output_type": "stream",
          "name": "stdout",
          "text": [
            "<class 'pandas.core.frame.DataFrame'>\n",
            "Index: 48488 entries, 0 to 287\n",
            "Data columns (total 8 columns):\n",
            " #   Column      Non-Null Count  Dtype \n",
            "---  ------      --------------  ----- \n",
            " 0   product_id  48488 non-null  object\n",
            " 1   review_id   48488 non-null  object\n",
            " 2   title       48488 non-null  object\n",
            " 3   review      48488 non-null  object\n",
            " 4   likes       48488 non-null  object\n",
            " 5   dislikes    48488 non-null  object\n",
            " 6   ratings     48488 non-null  object\n",
            " 7   reviewer    48488 non-null  object\n",
            "dtypes: object(8)\n",
            "memory usage: 3.3+ MB\n"
          ]
        }
      ]
    },
    {
      "cell_type": "code",
      "source": [
        "import missingno as msno\n",
        "plt.figure(figsize=(25, 20))\n",
        "msno.matrix(df, color=[0.2, 0.4, 1])\n",
        "plt.show()"
      ],
      "metadata": {
        "colab": {
          "base_uri": "https://localhost:8080/",
          "height": 526
        },
        "id": "QMfkWNOOW9Bq",
        "outputId": "5a80205e-b830-495b-8af9-4f5410084d5f"
      },
      "execution_count": 12,
      "outputs": [
        {
          "output_type": "display_data",
          "data": {
            "text/plain": [
              "<Figure size 2500x2000 with 0 Axes>"
            ]
          },
          "metadata": {}
        },
        {
          "output_type": "display_data",
          "data": {
            "text/plain": [
              "<Figure size 2500x1000 with 2 Axes>"
            ],
            "image/png": "[encoded data removed]"
          },
          "metadata": {}
        }
      ]
    },
    {
      "cell_type": "code",
      "source": [
        "import re\n",
        "\n",
        "\n",
        "def remove_url(text):\n",
        "    text = re.sub(r\"http\\S+\", \"\", text)\n",
        "    return text\n",
        "\n",
        "\n",
        "# Example string with weird font characters plus an URL which we gonna remove.\n",
        "sample = \"ℍ𝕚 𝔼𝕧𝕖𝕣𝕪𝕠𝕟𝕖 𝕀 𝕒𝕞 𝔸𝕟𝕜𝕚𝕥 𝔾𝕦𝕡𝕥𝕒 𝕙𝕒𝕧𝕚𝕟𝕘 𝕥𝕙𝕖 𝕗𝕠𝕝𝕝𝕠𝕨𝕚𝕟𝕘 𝕂𝕒𝕘𝕘𝕝𝕖 𝕡𝕣𝕠𝕗𝕚𝕝𝕖 \\n https://www.kaggle.com/nkitgupta 𝕒𝕟𝕕 𝕀 𝕒𝕞 😊 𝕥𝕠 𝕔𝕣𝕖𝕒𝕥𝕖 𝕥𝕙𝕚𝕤 𝕟𝕠𝕥𝕖𝕓𝕠𝕠𝕜\"\n",
        "print(f\"Text before removing url:- \\n {sample}\")\n",
        "\n",
        "sample = remove_url(sample)\n",
        "print(f\"Text after removing url:- \\n {sample}\")"
      ],
      "metadata": {
        "colab": {
          "base_uri": "https://localhost:8080/"
        },
        "id": "lGdG6p5CW9EI",
        "outputId": "c631a38f-dbd9-4260-9e04-66fbc88613c4"
      },
      "execution_count": 13,
      "outputs": [
        {
          "output_type": "stream",
          "name": "stdout",
          "text": [
            "Text before removing url:- \n",
            " ℍ𝕚 𝔼𝕧𝕖𝕣𝕪𝕠𝕟𝕖 𝕀 𝕒𝕞 𝔸𝕟𝕜𝕚𝕥 𝔾𝕦𝕡𝕥𝕒 𝕙𝕒𝕧𝕚𝕟𝕘 𝕥𝕙𝕖 𝕗𝕠𝕝𝕝𝕠𝕨𝕚𝕟𝕘 𝕂𝕒𝕘𝕘𝕝𝕖 𝕡𝕣𝕠𝕗𝕚𝕝𝕖 \n",
            " https://www.kaggle.com/nkitgupta 𝕒𝕟𝕕 𝕀 𝕒𝕞 😊 𝕥𝕠 𝕔𝕣𝕖𝕒𝕥𝕖 𝕥𝕙𝕚𝕤 𝕟𝕠𝕥𝕖𝕓𝕠𝕠𝕜\n",
            "Text after removing url:- \n",
            " ℍ𝕚 𝔼𝕧𝕖𝕣𝕪𝕠𝕟𝕖 𝕀 𝕒𝕞 𝔸𝕟𝕜𝕚𝕥 𝔾𝕦𝕡𝕥𝕒 𝕙𝕒𝕧𝕚𝕟𝕘 𝕥𝕙𝕖 𝕗𝕠𝕝𝕝𝕠𝕨𝕚𝕟𝕘 𝕂𝕒𝕘𝕘𝕝𝕖 𝕡𝕣𝕠𝕗𝕚𝕝𝕖 \n",
            "  𝕒𝕟𝕕 𝕀 𝕒𝕞 😊 𝕥𝕠 𝕔𝕣𝕖𝕒𝕥𝕖 𝕥𝕙𝕚𝕤 𝕟𝕠𝕥𝕖𝕓𝕠𝕠𝕜\n"
          ]
        }
      ]
    },
    {
      "cell_type": "code",
      "source": [
        "print(\"\\u00C7\", \"\\u0043\\u0327\")"
      ],
      "metadata": {
        "colab": {
          "base_uri": "https://localhost:8080/"
        },
        "id": "XK3h6dgzXNVj",
        "outputId": "42a7ca60-ac4b-480c-b332-863c40cf6d47"
      },
      "execution_count": 14,
      "outputs": [
        {
          "output_type": "stream",
          "name": "stdout",
          "text": [
            "Ç Ç\n"
          ]
        }
      ]
    },
    {
      "cell_type": "code",
      "source": [
        "\"\\u00C7\" == \"\\u0043\\u0327\"\n"
      ],
      "metadata": {
        "colab": {
          "base_uri": "https://localhost:8080/"
        },
        "id": "-HR2bl-EXOgC",
        "outputId": "fee273fd-bbce-4ed3-bda3-2c0805f1505a"
      },
      "execution_count": 15,
      "outputs": [
        {
          "output_type": "execute_result",
          "data": {
            "text/plain": [
              "False"
            ]
          },
          "metadata": {},
          "execution_count": 15
        }
      ]
    },
    {
      "cell_type": "code",
      "source": [
        "\"Ç\" == \"Ç\""
      ],
      "metadata": {
        "colab": {
          "base_uri": "https://localhost:8080/"
        },
        "id": "0EZwM_jSXOku",
        "outputId": "2e0f227f-bd08-400d-a2b2-3bba55da39c6"
      },
      "execution_count": 16,
      "outputs": [
        {
          "output_type": "execute_result",
          "data": {
            "text/plain": [
              "False"
            ]
          },
          "metadata": {},
          "execution_count": 16
        }
      ]
    },
    {
      "cell_type": "code",
      "source": [
        "import unicodedata as uni\n",
        "\n",
        "print(f\"Text before Unicode Normalization:- \\n {sample}\")\n",
        "\n",
        "sample = uni.normalize('NFKD', sample)\n",
        "print(f\"Text after Unicode Normalization:- \\n {sample}\")"
      ],
      "metadata": {
        "colab": {
          "base_uri": "https://localhost:8080/"
        },
        "id": "odSNWdrmXOoN",
        "outputId": "42e3def8-6200-4c37-e7d0-495a220a802b"
      },
      "execution_count": 17,
      "outputs": [
        {
          "output_type": "stream",
          "name": "stdout",
          "text": [
            "Text before Unicode Normalization:- \n",
            " ℍ𝕚 𝔼𝕧𝕖𝕣𝕪𝕠𝕟𝕖 𝕀 𝕒𝕞 𝔸𝕟𝕜𝕚𝕥 𝔾𝕦𝕡𝕥𝕒 𝕙𝕒𝕧𝕚𝕟𝕘 𝕥𝕙𝕖 𝕗𝕠𝕝𝕝𝕠𝕨𝕚𝕟𝕘 𝕂𝕒𝕘𝕘𝕝𝕖 𝕡𝕣𝕠𝕗𝕚𝕝𝕖 \n",
            "  𝕒𝕟𝕕 𝕀 𝕒𝕞 😊 𝕥𝕠 𝕔𝕣𝕖𝕒𝕥𝕖 𝕥𝕙𝕚𝕤 𝕟𝕠𝕥𝕖𝕓𝕠𝕠𝕜\n",
            "Text after Unicode Normalization:- \n",
            " Hi Everyone I am Ankit Gupta having the following Kaggle profile \n",
            "  and I am 😊 to create this notebook\n"
          ]
        }
      ]
    },
    {
      "cell_type": "code",
      "source": [
        "pip install demoji"
      ],
      "metadata": {
        "colab": {
          "base_uri": "https://localhost:8080/"
        },
        "id": "kRIZtYlUXOrt",
        "outputId": "f2c16a3d-384a-4334-ea94-ab4d3db13ecd"
      },
      "execution_count": 18,
      "outputs": [
        {
          "output_type": "stream",
          "name": "stdout",
          "text": [
            "Collecting demoji\n",
            "  Downloading demoji-1.1.0-py3-none-any.whl (42 kB)\n",
            "\u001b[2K     \u001b[90m━━━━━━━━━━━━━━━━━━━━━━━━━━━━━━━━━━━━━━━━\u001b[0m \u001b[32m42.9/42.9 kB\u001b[0m \u001b[31m1.5 MB/s\u001b[0m eta \u001b[36m0:00:00\u001b[0m\n",
            "\u001b[?25hInstalling collected packages: demoji\n",
            "Successfully installed demoji-1.1.0\n"
          ]
        }
      ]
    },
    {
      "cell_type": "code",
      "source": [
        "import demoji\n",
        "\n",
        "\n",
        "def handle_emoji(string):\n",
        "    emojis = demoji.findall(string)\n",
        "\n",
        "    for emoji in emojis:\n",
        "        string = string.replace(emoji, \" \" + emojis[emoji].split(\":\")[0])\n",
        "\n",
        "    return string\n",
        "\n",
        "\n",
        "print(f\"Before Handling emoji:- \\n {sample}\")\n",
        "print(f\"After Handling emoji:- \\n {handle_emoji(sample)}\")"
      ],
      "metadata": {
        "colab": {
          "base_uri": "https://localhost:8080/"
        },
        "id": "idAqGT-OXOuP",
        "outputId": "61792d99-3b95-49f3-add5-006c4f12b7b2"
      },
      "execution_count": 19,
      "outputs": [
        {
          "output_type": "stream",
          "name": "stdout",
          "text": [
            "Before Handling emoji:- \n",
            " Hi Everyone I am Ankit Gupta having the following Kaggle profile \n",
            "  and I am 😊 to create this notebook\n",
            "After Handling emoji:- \n",
            " Hi Everyone I am Ankit Gupta having the following Kaggle profile \n",
            "  and I am  smiling face with smiling eyes to create this notebook\n"
          ]
        }
      ]
    },
    {
      "cell_type": "code",
      "source": [
        "def word_tokenizer(text):\n",
        "    text = text.lower()\n",
        "    text = text.split()\n",
        "\n",
        "    return text\n",
        "\n",
        "\n",
        "sample = \"Hi Everyone I am Ankit Gupta.\"\n",
        "print(sample)\n",
        "print(word_tokenizer(sample))"
      ],
      "metadata": {
        "colab": {
          "base_uri": "https://localhost:8080/"
        },
        "id": "CwEVOUdJXOw1",
        "outputId": "6a3bcdce-adc7-48e3-e5b5-9641c8b0c1e0"
      },
      "execution_count": 20,
      "outputs": [
        {
          "output_type": "stream",
          "name": "stdout",
          "text": [
            "Hi Everyone I am Ankit Gupta.\n",
            "['hi', 'everyone', 'i', 'am', 'ankit', 'gupta.']\n"
          ]
        }
      ]
    },
    {
      "cell_type": "code",
      "source": [
        "import nltk\n",
        "nltk.download('stopwords')"
      ],
      "metadata": {
        "colab": {
          "base_uri": "https://localhost:8080/"
        },
        "id": "nm1yNZu5Xnnc",
        "outputId": "4483a3b8-79e3-4b22-81cd-9558e055d83b"
      },
      "execution_count": 22,
      "outputs": [
        {
          "output_type": "stream",
          "name": "stderr",
          "text": [
            "[nltk_data] Downloading package stopwords to /root/nltk_data...\n",
            "[nltk_data]   Unzipping corpora/stopwords.zip.\n"
          ]
        },
        {
          "output_type": "execute_result",
          "data": {
            "text/plain": [
              "True"
            ]
          },
          "metadata": {},
          "execution_count": 22
        }
      ]
    },
    {
      "cell_type": "code",
      "source": [
        "from nltk.corpus import stopwords\n",
        "\n",
        "en_stopwords = set(stopwords.words('english'))\n",
        "print(f\"Stop Words in English : \\n{ en_stopwords}\")"
      ],
      "metadata": {
        "colab": {
          "base_uri": "https://localhost:8080/"
        },
        "id": "Q0qYxWIeXjem",
        "outputId": "7c503560-d06e-4fe0-a59e-8651032b76b1"
      },
      "execution_count": 23,
      "outputs": [
        {
          "output_type": "stream",
          "name": "stdout",
          "text": [
            "Stop Words in English : \n",
            "{'being', 'they', 'don', \"needn't\", 'have', 'these', 'my', 'having', 'them', 'with', 'has', 'shouldn', 'shan', 'above', 'yourself', 'but', \"aren't\", 'wouldn', 'few', 'it', 'while', 'nor', 'hasn', 'be', \"haven't\", 'then', 'couldn', \"isn't\", 'all', 'yours', 'didn', 'before', 'himself', 'had', \"doesn't\", 'in', \"should've\", 'themselves', 'more', 'about', 'their', 'until', 'myself', 'is', \"shouldn't\", 'were', 'i', 'what', 'any', 'as', 'under', 'theirs', 'each', \"mightn't\", 'we', 'so', 'will', 'should', 'than', 'now', 'an', 'other', 'mightn', 'itself', 'did', 'ours', \"she's\", 'to', 'not', 'can', 'd', 'o', \"you're\", 'ma', \"it's\", 'the', 'its', 'a', 's', \"couldn't\", 'weren', \"didn't\", 'off', 'his', 'at', \"that'll\", 'into', 'why', \"wasn't\", 'after', 'm', 'this', 'both', \"won't\", 'most', 'our', 'been', 'ourselves', 'because', 'she', 'no', 'for', 'y', \"hasn't\", \"you'd\", 'your', 'when', 'that', \"hadn't\", 'am', 'ain', 'are', 'again', 'if', 'was', 'do', 'here', 'hers', 'and', \"weren't\", 'below', 'aren', 'doing', 'between', 'from', 't', 'where', 'own', 'over', \"mustn't\", 'her', 'too', \"shan't\", 'out', \"you've\", \"don't\", 'only', 'hadn', 'me', 'there', 'he', 'you', 'those', 've', 'yourselves', 'such', 'same', 'of', 'down', 'during', \"you'll\", 'once', 'won', 'further', 'up', 'isn', 'who', 'some', 'whom', 'against', 'wasn', 'him', 'how', 'mustn', 'does', 'very', 'needn', 'which', 'or', 'through', 'haven', 'll', 'by', \"wouldn't\", 'herself', 'doesn', 'just', 're', 'on'}\n"
          ]
        }
      ]
    },
    {
      "cell_type": "code",
      "source": [
        "def remove_stopwords(text):\n",
        "    text = [word for word in text if word not in en_stopwords]\n",
        "    return text\n",
        "\n",
        "\n",
        "print(f\"Before removing stopwords : {word_tokenizer(sample)}\")\n",
        "print(f\"After removing stopwords : {remove_stopwords(word_tokenizer(sample))}\")"
      ],
      "metadata": {
        "colab": {
          "base_uri": "https://localhost:8080/"
        },
        "id": "sbbRs_oXXrSb",
        "outputId": "adb61f7e-e123-49bc-b3e6-5b0b3126f6af"
      },
      "execution_count": 24,
      "outputs": [
        {
          "output_type": "stream",
          "name": "stdout",
          "text": [
            "Before removing stopwords : ['hi', 'everyone', 'i', 'am', 'ankit', 'gupta.']\n",
            "After removing stopwords : ['hi', 'everyone', 'ankit', 'gupta.']\n"
          ]
        }
      ]
    },
    {
      "cell_type": "code",
      "source": [
        "from nltk.stem.porter import PorterStemmer\n",
        "from nltk.stem.lancaster import LancasterStemmer\n",
        "\n",
        "stemmer = PorterStemmer()\n",
        "# stemmer = LancasterStemmer()\n",
        "\n",
        "\n",
        "def stemming(text):\n",
        "\n",
        "    text = [stemmer.stem(word) for word in text]\n",
        "    return text\n",
        "\n",
        "\n",
        "sample = \"I am creating a Notebook\"\n",
        "print(f\"Before Stemming : {(sample)}\")\n",
        "print(f\"After Stemming : {stemming(word_tokenizer(sample))}\")"
      ],
      "metadata": {
        "colab": {
          "base_uri": "https://localhost:8080/"
        },
        "id": "J6fWI8lNXw8f",
        "outputId": "a8d6f954-3038-4541-affb-477f709b73fc"
      },
      "execution_count": 25,
      "outputs": [
        {
          "output_type": "stream",
          "name": "stdout",
          "text": [
            "Before Stemming : I am creating a Notebook\n",
            "After Stemming : ['i', 'am', 'creat', 'a', 'notebook']\n"
          ]
        }
      ]
    },
    {
      "cell_type": "code",
      "source": [
        "import spacy\n",
        "\n",
        "sp = spacy.load(\"en_core_web_sm\")"
      ],
      "metadata": {
        "id": "VrfL3igQXw_r"
      },
      "execution_count": 26,
      "outputs": []
    },
    {
      "cell_type": "code",
      "source": [
        "def lemmatization(text):\n",
        "\n",
        "    # text = [sp(word).lemma_ for word in text]\n",
        "\n",
        "    text = \" \".join(text)\n",
        "    token = sp(text)\n",
        "\n",
        "    text = [word.lemma_ for word in token]\n",
        "    return text\n",
        "\n",
        "\n",
        "print(f\"Before Lemmatization : {word_tokenizer(sample)}\")\n",
        "print(f\"After Lemmatization : {lemmatization(word_tokenizer(sample))}\")"
      ],
      "metadata": {
        "colab": {
          "base_uri": "https://localhost:8080/"
        },
        "id": "6cJ7Dcp9XxCH",
        "outputId": "869d27e3-d944-4e39-a5e3-c9d4e517b48a"
      },
      "execution_count": 27,
      "outputs": [
        {
          "output_type": "stream",
          "name": "stdout",
          "text": [
            "Before Lemmatization : ['i', 'am', 'creating', 'a', 'notebook']\n",
            "After Lemmatization : ['I', 'be', 'create', 'a', 'notebook']\n"
          ]
        }
      ]
    },
    {
      "cell_type": "code",
      "source": [
        "pip install langdetect"
      ],
      "metadata": {
        "colab": {
          "base_uri": "https://localhost:8080/"
        },
        "id": "r_Y992UFX4l_",
        "outputId": "26f7aad8-dd3e-4637-ae39-3b457354ae88"
      },
      "execution_count": 28,
      "outputs": [
        {
          "output_type": "stream",
          "name": "stdout",
          "text": [
            "Collecting langdetect\n",
            "  Downloading langdetect-1.0.9.tar.gz (981 kB)\n",
            "\u001b[?25l     \u001b[90m━━━━━━━━━━━━━━━━━━━━━━━━━━━━━━━━━━━━━━━━\u001b[0m \u001b[32m0.0/981.5 kB\u001b[0m \u001b[31m?\u001b[0m eta \u001b[36m-:--:--\u001b[0m\r\u001b[2K     \u001b[91m━━━━━━━\u001b[0m\u001b[90m╺\u001b[0m\u001b[90m━━━━━━━━━━━━━━━━━━━━━━━━━━━━━━━━\u001b[0m \u001b[32m174.1/981.5 kB\u001b[0m \u001b[31m5.0 MB/s\u001b[0m eta \u001b[36m0:00:01\u001b[0m\r\u001b[2K     \u001b[91m━━━━━━━━━━━━━━━━━━━━━━━━━━━━━━━━━━━━━━━\u001b[0m\u001b[91m╸\u001b[0m \u001b[32m972.8/981.5 kB\u001b[0m \u001b[31m16.4 MB/s\u001b[0m eta \u001b[36m0:00:01\u001b[0m\r\u001b[2K     \u001b[90m━━━━━━━━━━━━━━━━━━━━━━━━━━━━━━━━━━━━━━━━\u001b[0m \u001b[32m981.5/981.5 kB\u001b[0m \u001b[31m13.3 MB/s\u001b[0m eta \u001b[36m0:00:00\u001b[0m\n",
            "\u001b[?25h  Preparing metadata (setup.py) ... \u001b[?25l\u001b[?25hdone\n",
            "Requirement already satisfied: six in /usr/local/lib/python3.10/dist-packages (from langdetect) (1.16.0)\n",
            "Building wheels for collected packages: langdetect\n",
            "  Building wheel for langdetect (setup.py) ... \u001b[?25l\u001b[?25hdone\n",
            "  Created wheel for langdetect: filename=langdetect-1.0.9-py3-none-any.whl size=993227 sha256=a49eb92ab7f496e4ec93a8c3d34060937ef0e5ba0f2bf81bc19a98e9cc9fb374\n",
            "  Stored in directory: /root/.cache/pip/wheels/95/03/7d/59ea870c70ce4e5a370638b5462a7711ab78fba2f655d05106\n",
            "Successfully built langdetect\n",
            "Installing collected packages: langdetect\n",
            "Successfully installed langdetect-1.0.9\n"
          ]
        }
      ]
    },
    {
      "cell_type": "code",
      "source": [
        "from langdetect import detect\n",
        "\n",
        "\n",
        "en_text = u\"\"\"\"Hi Everyone I am Ankit Gupta.\"\"\"\n",
        "print(f\" {en_text} : {detect(en_text)}\")\n",
        "\n",
        "hindi_text = u\"\"\"मेरा नाम अंकित गुप्ता है और मैं एक छात्र हूँ\"\"\"\n",
        "print(f\"{hindi_text} : {detect(hindi_text)}\")"
      ],
      "metadata": {
        "colab": {
          "base_uri": "https://localhost:8080/"
        },
        "id": "nhvjMfKYX4pP",
        "outputId": "adaff996-df7a-404f-a498-d035425e9587"
      },
      "execution_count": 29,
      "outputs": [
        {
          "output_type": "stream",
          "name": "stdout",
          "text": [
            " \"Hi Everyone I am Ankit Gupta. : tl\n",
            "मेरा नाम अंकित गुप्ता है और मैं एक छात्र हूँ : hi\n"
          ]
        }
      ]
    },
    {
      "cell_type": "code",
      "source": [
        "df_temp = df.copy()"
      ],
      "metadata": {
        "id": "1ypSAbc_X4rp"
      },
      "execution_count": 30,
      "outputs": []
    },
    {
      "cell_type": "code",
      "source": [
        "def label(y):\n",
        "    if y == '5':\n",
        "        return 1\n",
        "    elif y == '4':\n",
        "        return 1\n",
        "    else:\n",
        "        return 0\n",
        "\n",
        "from tqdm import tqdm\n",
        "\n",
        "tqdm.pandas()\n",
        "\n",
        "df_temp['y'] = df_temp.ratings.progress_map(label)"
      ],
      "metadata": {
        "colab": {
          "base_uri": "https://localhost:8080/"
        },
        "id": "dmla01tcX4ug",
        "outputId": "81961a05-745d-41bc-aa7a-69add119b2c1"
      },
      "execution_count": 31,
      "outputs": [
        {
          "output_type": "stream",
          "name": "stderr",
          "text": [
            "100%|██████████| 48488/48488 [00:00<00:00, 182092.45it/s]\n"
          ]
        }
      ]
    },
    {
      "cell_type": "code",
      "source": [
        "df_temp = df_temp[['review', 'y', 'ratings']]\n"
      ],
      "metadata": {
        "id": "iBq1d1f-YN88"
      },
      "execution_count": 32,
      "outputs": []
    },
    {
      "cell_type": "code",
      "source": [
        "df_temp.head()"
      ],
      "metadata": {
        "colab": {
          "base_uri": "https://localhost:8080/",
          "height": 206
        },
        "id": "Gs6q3hmuYO_5",
        "outputId": "9d59bdc2-1f5e-4b09-a33d-c5279756d84f"
      },
      "execution_count": 33,
      "outputs": [
        {
          "output_type": "execute_result",
          "data": {
            "text/plain": [
              "                                              review  y ratings\n",
              "0  Wow superb I love it❤️👍 battery backup so nice 👍👍  1       5\n",
              "1  Mobile So Good In Range Redmi 9a Has Miui 12 L...  1       4\n",
              "2  Wonderful device and smart phone best camera b...  1       5\n",
              "3  Very good mobile. Value for money. Battery bac...  1       5\n",
              "4                Really great.... value for money...  1       5"
            ],
            "text/html": [
              "\n",
              "  <div id=\"df-ad2f1f7e-80ec-4584-9f12-7c89aac66fa5\" class=\"colab-df-container\">\n",
              "    <div>\n",
              "<style scoped>\n",
              "    .dataframe tbody tr th:only-of-type {\n",
              "        vertical-align: middle;\n",
              "    }\n",
              "\n",
              "    .dataframe tbody tr th {\n",
              "        vertical-align: top;\n",
              "    }\n",
              "\n",
              "    .dataframe thead th {\n",
              "        text-align: right;\n",
              "    }\n",
              "</style>\n",
              "<table border=\"1\" class=\"dataframe\">\n",
              "  <thead>\n",
              "    <tr style=\"text-align: right;\">\n",
              "      <th></th>\n",
              "      <th>review</th>\n",
              "      <th>y</th>\n",
              "      <th>ratings</th>\n",
              "    </tr>\n",
              "  </thead>\n",
              "  <tbody>\n",
              "    <tr>\n",
              "      <th>0</th>\n",
              "      <td>Wow superb I love it❤️👍 battery backup so nice 👍👍</td>\n",
              "      <td>1</td>\n",
              "      <td>5</td>\n",
              "    </tr>\n",
              "    <tr>\n",
              "      <th>1</th>\n",
              "      <td>Mobile So Good In Range Redmi 9a Has Miui 12 L...</td>\n",
              "      <td>1</td>\n",
              "      <td>4</td>\n",
              "    </tr>\n",
              "    <tr>\n",
              "      <th>2</th>\n",
              "      <td>Wonderful device and smart phone best camera b...</td>\n",
              "      <td>1</td>\n",
              "      <td>5</td>\n",
              "    </tr>\n",
              "    <tr>\n",
              "      <th>3</th>\n",
              "      <td>Very good mobile. Value for money. Battery bac...</td>\n",
              "      <td>1</td>\n",
              "      <td>5</td>\n",
              "    </tr>\n",
              "    <tr>\n",
              "      <th>4</th>\n",
              "      <td>Really great.... value for money...</td>\n",
              "      <td>1</td>\n",
              "      <td>5</td>\n",
              "    </tr>\n",
              "  </tbody>\n",
              "</table>\n",
              "</div>\n",
              "    <div class=\"colab-df-buttons\">\n",
              "\n",
              "  <div class=\"colab-df-container\">\n",
              "    <button class=\"colab-df-convert\" onclick=\"convertToInteractive('df-ad2f1f7e-80ec-4584-9f12-7c89aac66fa5')\"\n",
              "            title=\"Convert this dataframe to an interactive table.\"\n",
              "            style=\"display:none;\">\n",
              "\n",
              "  <svg xmlns=\"http://www.w3.org/2000/svg\" height=\"24px\" viewBox=\"0 -960 960 960\">\n",
              "    <path d=\"M120-120v-720h720v720H120Zm60-500h600v-160H180v160Zm220 220h160v-160H400v160Zm0 220h160v-160H400v160ZM180-400h160v-160H180v160Zm440 0h160v-160H620v160ZM180-180h160v-160H180v160Zm440 0h160v-160H620v160Z\"/>\n",
              "  </svg>\n",
              "    </button>\n",
              "\n",
              "  <style>\n",
              "    .colab-df-container {\n",
              "      display:flex;\n",
              "      gap: 12px;\n",
              "    }\n",
              "\n",
              "    .colab-df-convert {\n",
              "      background-color: #E8F0FE;\n",
              "      border: none;\n",
              "      border-radius: 50%;\n",
              "      cursor: pointer;\n",
              "      display: none;\n",
              "      fill: #1967D2;\n",
              "      height: 32px;\n",
              "      padding: 0 0 0 0;\n",
              "      width: 32px;\n",
              "    }\n",
              "\n",
              "    .colab-df-convert:hover {\n",
              "      background-color: #E2EBFA;\n",
              "      box-shadow: 0px 1px 2px rgba(60, 64, 67, 0.3), 0px 1px 3px 1px rgba(60, 64, 67, 0.15);\n",
              "      fill: #174EA6;\n",
              "    }\n",
              "\n",
              "    .colab-df-buttons div {\n",
              "      margin-bottom: 4px;\n",
              "    }\n",
              "\n",
              "    [theme=dark] .colab-df-convert {\n",
              "      background-color: #3B4455;\n",
              "      fill: #D2E3FC;\n",
              "    }\n",
              "\n",
              "    [theme=dark] .colab-df-convert:hover {\n",
              "      background-color: #434B5C;\n",
              "      box-shadow: 0px 1px 3px 1px rgba(0, 0, 0, 0.15);\n",
              "      filter: drop-shadow(0px 1px 2px rgba(0, 0, 0, 0.3));\n",
              "      fill: #FFFFFF;\n",
              "    }\n",
              "  </style>\n",
              "\n",
              "    <script>\n",
              "      const buttonEl =\n",
              "        document.querySelector('#df-ad2f1f7e-80ec-4584-9f12-7c89aac66fa5 button.colab-df-convert');\n",
              "      buttonEl.style.display =\n",
              "        google.colab.kernel.accessAllowed ? 'block' : 'none';\n",
              "\n",
              "      async function convertToInteractive(key) {\n",
              "        const element = document.querySelector('#df-ad2f1f7e-80ec-4584-9f12-7c89aac66fa5');\n",
              "        const dataTable =\n",
              "          await google.colab.kernel.invokeFunction('convertToInteractive',\n",
              "                                                    [key], {});\n",
              "        if (!dataTable) return;\n",
              "\n",
              "        const docLinkHtml = 'Like what you see? Visit the ' +\n",
              "          '<a target=\"_blank\" href=https://colab.research.google.com/notebooks/data_table.ipynb>data table notebook</a>'\n",
              "          + ' to learn more about interactive tables.';\n",
              "        element.innerHTML = '';\n",
              "        dataTable['output_type'] = 'display_data';\n",
              "        await google.colab.output.renderOutput(dataTable, element);\n",
              "        const docLink = document.createElement('div');\n",
              "        docLink.innerHTML = docLinkHtml;\n",
              "        element.appendChild(docLink);\n",
              "      }\n",
              "    </script>\n",
              "  </div>\n",
              "\n",
              "\n",
              "<div id=\"df-4e3eec1f-59c2-4a33-a151-aaba634efebf\">\n",
              "  <button class=\"colab-df-quickchart\" onclick=\"quickchart('df-4e3eec1f-59c2-4a33-a151-aaba634efebf')\"\n",
              "            title=\"Suggest charts\"\n",
              "            style=\"display:none;\">\n",
              "\n",
              "<svg xmlns=\"http://www.w3.org/2000/svg\" height=\"24px\"viewBox=\"0 0 24 24\"\n",
              "     width=\"24px\">\n",
              "    <g>\n",
              "        <path d=\"M19 3H5c-1.1 0-2 .9-2 2v14c0 1.1.9 2 2 2h14c1.1 0 2-.9 2-2V5c0-1.1-.9-2-2-2zM9 17H7v-7h2v7zm4 0h-2V7h2v10zm4 0h-2v-4h2v4z\"/>\n",
              "    </g>\n",
              "</svg>\n",
              "  </button>\n",
              "\n",
              "<style>\n",
              "  .colab-df-quickchart {\n",
              "      --bg-color: #E8F0FE;\n",
              "      --fill-color: #1967D2;\n",
              "      --hover-bg-color: #E2EBFA;\n",
              "      --hover-fill-color: #174EA6;\n",
              "      --disabled-fill-color: #AAA;\n",
              "      --disabled-bg-color: #DDD;\n",
              "  }\n",
              "\n",
              "  [theme=dark] .colab-df-quickchart {\n",
              "      --bg-color: #3B4455;\n",
              "      --fill-color: #D2E3FC;\n",
              "      --hover-bg-color: #434B5C;\n",
              "      --hover-fill-color: #FFFFFF;\n",
              "      --disabled-bg-color: #3B4455;\n",
              "      --disabled-fill-color: #666;\n",
              "  }\n",
              "\n",
              "  .colab-df-quickchart {\n",
              "    background-color: var(--bg-color);\n",
              "    border: none;\n",
              "    border-radius: 50%;\n",
              "    cursor: pointer;\n",
              "    display: none;\n",
              "    fill: var(--fill-color);\n",
              "    height: 32px;\n",
              "    padding: 0;\n",
              "    width: 32px;\n",
              "  }\n",
              "\n",
              "  .colab-df-quickchart:hover {\n",
              "    background-color: var(--hover-bg-color);\n",
              "    box-shadow: 0 1px 2px rgba(60, 64, 67, 0.3), 0 1px 3px 1px rgba(60, 64, 67, 0.15);\n",
              "    fill: var(--button-hover-fill-color);\n",
              "  }\n",
              "\n",
              "  .colab-df-quickchart-complete:disabled,\n",
              "  .colab-df-quickchart-complete:disabled:hover {\n",
              "    background-color: var(--disabled-bg-color);\n",
              "    fill: var(--disabled-fill-color);\n",
              "    box-shadow: none;\n",
              "  }\n",
              "\n",
              "  .colab-df-spinner {\n",
              "    border: 2px solid var(--fill-color);\n",
              "    border-color: transparent;\n",
              "    border-bottom-color: var(--fill-color);\n",
              "    animation:\n",
              "      spin 1s steps(1) infinite;\n",
              "  }\n",
              "\n",
              "  @keyframes spin {\n",
              "    0% {\n",
              "      border-color: transparent;\n",
              "      border-bottom-color: var(--fill-color);\n",
              "      border-left-color: var(--fill-color);\n",
              "    }\n",
              "    20% {\n",
              "      border-color: transparent;\n",
              "      border-left-color: var(--fill-color);\n",
              "      border-top-color: var(--fill-color);\n",
              "    }\n",
              "    30% {\n",
              "      border-color: transparent;\n",
              "      border-left-color: var(--fill-color);\n",
              "      border-top-color: var(--fill-color);\n",
              "      border-right-color: var(--fill-color);\n",
              "    }\n",
              "    40% {\n",
              "      border-color: transparent;\n",
              "      border-right-color: var(--fill-color);\n",
              "      border-top-color: var(--fill-color);\n",
              "    }\n",
              "    60% {\n",
              "      border-color: transparent;\n",
              "      border-right-color: var(--fill-color);\n",
              "    }\n",
              "    80% {\n",
              "      border-color: transparent;\n",
              "      border-right-color: var(--fill-color);\n",
              "      border-bottom-color: var(--fill-color);\n",
              "    }\n",
              "    90% {\n",
              "      border-color: transparent;\n",
              "      border-bottom-color: var(--fill-color);\n",
              "    }\n",
              "  }\n",
              "</style>\n",
              "\n",
              "  <script>\n",
              "    async function quickchart(key) {\n",
              "      const quickchartButtonEl =\n",
              "        document.querySelector('#' + key + ' button');\n",
              "      quickchartButtonEl.disabled = true;  // To prevent multiple clicks.\n",
              "      quickchartButtonEl.classList.add('colab-df-spinner');\n",
              "      try {\n",
              "        const charts = await google.colab.kernel.invokeFunction(\n",
              "            'suggestCharts', [key], {});\n",
              "      } catch (error) {\n",
              "        console.error('Error during call to suggestCharts:', error);\n",
              "      }\n",
              "      quickchartButtonEl.classList.remove('colab-df-spinner');\n",
              "      quickchartButtonEl.classList.add('colab-df-quickchart-complete');\n",
              "    }\n",
              "    (() => {\n",
              "      let quickchartButtonEl =\n",
              "        document.querySelector('#df-4e3eec1f-59c2-4a33-a151-aaba634efebf button');\n",
              "      quickchartButtonEl.style.display =\n",
              "        google.colab.kernel.accessAllowed ? 'block' : 'none';\n",
              "    })();\n",
              "  </script>\n",
              "</div>\n",
              "\n",
              "    </div>\n",
              "  </div>\n"
            ],
            "application/vnd.google.colaboratory.intrinsic+json": {
              "type": "dataframe",
              "variable_name": "df_temp",
              "summary": "{\n  \"name\": \"df_temp\",\n  \"rows\": 48488,\n  \"fields\": [\n    {\n      \"column\": \"review\",\n      \"properties\": {\n        \"dtype\": \"category\",\n        \"num_unique_values\": 17749,\n        \"samples\": [\n          \"Good condition mobile\",\n          \"better choice\",\n          \"camera quality is not on par. If they could have provided OIS and EIS together it's really a huge leap for redmi mobile..can we expect eis update in the near future for taking good images is the question that really matters\"\n        ],\n        \"semantic_type\": \"\",\n        \"description\": \"\"\n      }\n    },\n    {\n      \"column\": \"y\",\n      \"properties\": {\n        \"dtype\": \"number\",\n        \"std\": 0,\n        \"min\": 0,\n        \"max\": 1,\n        \"num_unique_values\": 2,\n        \"samples\": [\n          0,\n          1\n        ],\n        \"semantic_type\": \"\",\n        \"description\": \"\"\n      }\n    },\n    {\n      \"column\": \"ratings\",\n      \"properties\": {\n        \"dtype\": \"category\",\n        \"num_unique_values\": 3,\n        \"samples\": [\n          \"5\",\n          \"4\"\n        ],\n        \"semantic_type\": \"\",\n        \"description\": \"\"\n      }\n    }\n  ]\n}"
            }
          },
          "metadata": {},
          "execution_count": 33
        }
      ]
    },
    {
      "cell_type": "code",
      "source": [
        "df_temp.y.value_counts()"
      ],
      "metadata": {
        "colab": {
          "base_uri": "https://localhost:8080/"
        },
        "id": "RrB19jWdYQtu",
        "outputId": "1a639b06-417b-46e6-fb7a-e315bb281266"
      },
      "execution_count": 34,
      "outputs": [
        {
          "output_type": "execute_result",
          "data": {
            "text/plain": [
              "y\n",
              "1    44751\n",
              "0     3737\n",
              "Name: count, dtype: int64"
            ]
          },
          "metadata": {},
          "execution_count": 34
        }
      ]
    },
    {
      "cell_type": "code",
      "source": [
        "import seaborn as sns\n",
        "\n",
        "sns.countplot(x = \"y\", data = df_temp)\n",
        "plt.show()"
      ],
      "metadata": {
        "colab": {
          "base_uri": "https://localhost:8080/",
          "height": 449
        },
        "id": "kdTVFizxYQwZ",
        "outputId": "cbea6d1b-e39f-4245-8e39-7929142320f2"
      },
      "execution_count": 35,
      "outputs": [
        {
          "output_type": "display_data",
          "data": {
            "text/plain": [
              "<Figure size 640x480 with 1 Axes>"
            ],
            "image/png": "[encoded data removed]"
          },
          "metadata": {}
        }
      ]
    },
    {
      "cell_type": "code",
      "source": [
        "df_temp2 = df_temp[(df_temp['ratings'] == '5')]\n",
        "positive = list(df_temp2[(df_temp2['review'].str.len() > 100) & (df_temp2['review'].str.len() < 350)]['review'])\n",
        "len(positive)"
      ],
      "metadata": {
        "colab": {
          "base_uri": "https://localhost:8080/"
        },
        "id": "pupL5GEpYQ0u",
        "outputId": "ed866cba-0a0b-43e4-970c-b47ee8050638"
      },
      "execution_count": 36,
      "outputs": [
        {
          "output_type": "execute_result",
          "data": {
            "text/plain": [
              "4803"
            ]
          },
          "metadata": {},
          "execution_count": 36
        }
      ]
    },
    {
      "cell_type": "code",
      "source": [
        "pip install nlpaug"
      ],
      "metadata": {
        "colab": {
          "base_uri": "https://localhost:8080/"
        },
        "id": "zxyAIpWtYQ3Q",
        "outputId": "9b07a0dc-769e-498f-d0ab-1d53d907fdf9"
      },
      "execution_count": 37,
      "outputs": [
        {
          "output_type": "stream",
          "name": "stdout",
          "text": [
            "Collecting nlpaug\n",
            "  Downloading nlpaug-1.1.11-py3-none-any.whl (410 kB)\n",
            "\u001b[?25l     \u001b[90m━━━━━━━━━━━━━━━━━━━━━━━━━━━━━━━━━━━━━━━━\u001b[0m \u001b[32m0.0/410.5 kB\u001b[0m \u001b[31m?\u001b[0m eta \u001b[36m-:--:--\u001b[0m\r\u001b[2K     \u001b[91m━━━━━━━━━━━━━\u001b[0m\u001b[91m╸\u001b[0m\u001b[90m━━━━━━━━━━━━━━━━━━━━━━━━━━\u001b[0m \u001b[32m143.4/410.5 kB\u001b[0m \u001b[31m4.2 MB/s\u001b[0m eta \u001b[36m0:00:01\u001b[0m\r\u001b[2K     \u001b[90m━━━━━━━━━━━━━━━━━━━━━━━━━━━━━━━━━━━━━━━━\u001b[0m \u001b[32m410.5/410.5 kB\u001b[0m \u001b[31m6.8 MB/s\u001b[0m eta \u001b[36m0:00:00\u001b[0m\n",
            "\u001b[?25hRequirement already satisfied: numpy>=1.16.2 in /usr/local/lib/python3.10/dist-packages (from nlpaug) (1.25.2)\n",
            "Requirement already satisfied: pandas>=1.2.0 in /usr/local/lib/python3.10/dist-packages (from nlpaug) (2.0.3)\n",
            "Requirement already satisfied: requests>=2.22.0 in /usr/local/lib/python3.10/dist-packages (from nlpaug) (2.31.0)\n",
            "Requirement already satisfied: gdown>=4.0.0 in /usr/local/lib/python3.10/dist-packages (from nlpaug) (5.1.0)\n",
            "Requirement already satisfied: beautifulsoup4 in /usr/local/lib/python3.10/dist-packages (from gdown>=4.0.0->nlpaug) (4.12.3)\n",
            "Requirement already satisfied: filelock in /usr/local/lib/python3.10/dist-packages (from gdown>=4.0.0->nlpaug) (3.15.4)\n",
            "Requirement already satisfied: tqdm in /usr/local/lib/python3.10/dist-packages (from gdown>=4.0.0->nlpaug) (4.66.4)\n",
            "Requirement already satisfied: python-dateutil>=2.8.2 in /usr/local/lib/python3.10/dist-packages (from pandas>=1.2.0->nlpaug) (2.8.2)\n",
            "Requirement already satisfied: pytz>=2020.1 in /usr/local/lib/python3.10/dist-packages (from pandas>=1.2.0->nlpaug) (2023.4)\n",
            "Requirement already satisfied: tzdata>=2022.1 in /usr/local/lib/python3.10/dist-packages (from pandas>=1.2.0->nlpaug) (2024.1)\n",
            "Requirement already satisfied: charset-normalizer<4,>=2 in /usr/local/lib/python3.10/dist-packages (from requests>=2.22.0->nlpaug) (3.3.2)\n",
            "Requirement already satisfied: idna<4,>=2.5 in /usr/local/lib/python3.10/dist-packages (from requests>=2.22.0->nlpaug) (3.7)\n",
            "Requirement already satisfied: urllib3<3,>=1.21.1 in /usr/local/lib/python3.10/dist-packages (from requests>=2.22.0->nlpaug) (2.0.7)\n",
            "Requirement already satisfied: certifi>=2017.4.17 in /usr/local/lib/python3.10/dist-packages (from requests>=2.22.0->nlpaug) (2024.6.2)\n",
            "Requirement already satisfied: six>=1.5 in /usr/local/lib/python3.10/dist-packages (from python-dateutil>=2.8.2->pandas>=1.2.0->nlpaug) (1.16.0)\n",
            "Requirement already satisfied: soupsieve>1.2 in /usr/local/lib/python3.10/dist-packages (from beautifulsoup4->gdown>=4.0.0->nlpaug) (2.5)\n",
            "Requirement already satisfied: PySocks!=1.5.7,>=1.5.6 in /usr/local/lib/python3.10/dist-packages (from requests>=2.22.0->nlpaug) (1.7.1)\n",
            "Installing collected packages: nlpaug\n",
            "Successfully installed nlpaug-1.1.11\n"
          ]
        }
      ]
    },
    {
      "cell_type": "code",
      "source": [
        "import nlpaug.augmenter.word as naw"
      ],
      "metadata": {
        "id": "waPwLBiDYczP"
      },
      "execution_count": 38,
      "outputs": []
    },
    {
      "cell_type": "code",
      "source": [
        "positive[41:49]"
      ],
      "metadata": {
        "colab": {
          "base_uri": "https://localhost:8080/"
        },
        "id": "WrrZtrIkYc13",
        "outputId": "0a2b2ae1-646c-418f-9f63-09dfb5e93508"
      },
      "execution_count": 39,
      "outputs": [
        {
          "output_type": "execute_result",
          "data": {
            "text/plain": [
              "[\"An amazing smartphone for the price though i didn't like the colors compared to a realme phone in the same price range. It's a reall good second smartphone if you already have a primary device.\",\n",
              " \"Nice product according to its budget. But it's hard to play high Graphics games like pubg on 3GB RAM. It lags even when you play at Smooth Graphics settings. If this is for gaming (High graphics game) purpose, then don't go for 3GB or 2 GB RAM and the rest it works very well.\",\n",
              " 'I gave this phone to my wife as a gift and she loved it so much that she gets great performance and photos of games',\n",
              " 'Every thing is great about the phone but a micro USB connector with a 5000 mah battery kind of suck a type c connector would have been better',\n",
              " 'Very good handset at this price. Nice and great performance. Battery backup is also trustworthy. There is no issue till date after using for a period of 5days. Overall u can buy this phone without hesitation',\n",
              " 'I am happy with your productus policy of discount  and best service flipcart.we wish day by day growth. And give more and more service from your sight.           ThanksHasmukh patel.Ahmedabad. Gujarat',\n",
              " \"Mobile phone is Good..  good camera clarity.. I have one problem with the phone, when I do video calling there is lot of noise, so I can't hear properly, lot of sound disturbance, but when I do voice call.. the sound is clear..\",\n",
              " \"An amazing smartphone for the price though i didn't like the colors compared to a realme phone in the same price range. It's a reall good second smartphone if you already have a primary device.\"]"
            ]
          },
          "metadata": {},
          "execution_count": 39
        }
      ]
    },
    {
      "cell_type": "code",
      "source": [
        "aug = naw.AntonymAug(name='Antonym_Aug', aug_min=1, aug_max=10, aug_p=0.3, lang='eng', stopwords=en_stopwords, tokenizer=None,\n",
        "                     reverse_tokenizer=None, stopwords_regex=None, verbose=0)\n",
        "\n",
        "aug_negative = aug.augment(positive)\n",
        "len(aug_negative)"
      ],
      "metadata": {
        "colab": {
          "base_uri": "https://localhost:8080/"
        },
        "id": "GFbxfYhrYc4u",
        "outputId": "2bcffc37-6fbb-4aff-9800-c8e9780c9209"
      },
      "execution_count": 40,
      "outputs": [
        {
          "output_type": "stream",
          "name": "stderr",
          "text": [
            "[nltk_data] Downloading package wordnet to /root/nltk_data...\n",
            "[nltk_data] Downloading package omw-1.4 to /root/nltk_data...\n",
            "[nltk_data] Downloading package averaged_perceptron_tagger to\n",
            "[nltk_data]     /root/nltk_data...\n",
            "[nltk_data]   Unzipping taggers/averaged_perceptron_tagger.zip.\n"
          ]
        },
        {
          "output_type": "execute_result",
          "data": {
            "text/plain": [
              "4803"
            ]
          },
          "metadata": {},
          "execution_count": 40
        }
      ]
    },
    {
      "cell_type": "code",
      "source": [
        "aug_negative[41:49]"
      ],
      "metadata": {
        "colab": {
          "base_uri": "https://localhost:8080/"
        },
        "id": "372LzoqJYc62",
        "outputId": "086f4631-a4e0-460e-b604-0d20e61c1fd4"
      },
      "execution_count": 41,
      "outputs": [
        {
          "output_type": "execute_result",
          "data": {
            "text/plain": [
              "[\"An amazing smartphone for the price though i didn ' t like the colors compared to a realme phone in the same price range. It ' s a reall bad second smartphone if you already have a secondary device.\",\n",
              " \"Nice product according to its budget. But it ' s hard to play low Graphics games like pubg on 3GB RAM. It lags even when you play at Smooth Graphics settings. If this is for gaming (Low graphics game) purpose, then don ' t be born for 3GB or 2 GB RAM and the rest it malfunction very ill.\",\n",
              " 'I starve this phone to my wife as a gift and she hate it so little that she take away great performance and photos of games',\n",
              " 'Every thing is great about the phone but a micro USB connector with a 5000 mah battery kind of suck a type c connector would have been evil',\n",
              " 'Very evil handset at this price. Nice and great performance. Battery backup is also untrustworthy. There is no issue till date after using for a period of 5days. Overall u can sell this phone without hesitation',\n",
              " 'I am unhappy with your productus policy of discount and worst service flipcart. we wish day by day growth. And starve more and more service from your sight. ThanksHasmukh patel. Ahmedabad. Gujarat',\n",
              " \"Mobile phone is Bad. . bad camera clarity. . I have one problem with the phone, when I do video calling there is lot of noise, so I can ' t hear improperly, lot of unsound disturbance, but when I do voice call. . the sound is ill defined..\",\n",
              " \"An amazing smartphone for the price though i didn ' t like the colors compared to a realme phone in the same price range. It ' s a reall evil second smartphone if you already have a secondary device.\"]"
            ]
          },
          "metadata": {},
          "execution_count": 41
        }
      ]
    },
    {
      "cell_type": "code",
      "source": [
        "df_negative = pd.DataFrame({\"review\" : aug_negative, 'y' : [0]*len(aug_negative)})\n",
        "df_positive = pd.DataFrame({\"review\" : positive, 'y' : [1]*len(positive)})"
      ],
      "metadata": {
        "id": "KV5QP2LDYc9J"
      },
      "execution_count": 42,
      "outputs": []
    },
    {
      "cell_type": "code",
      "source": [
        "df_temp = pd.concat([df_negative, df_positive]).sample(frac = 1, random_state = 11).reset_index(drop=True)\n",
        "df_temp.info()"
      ],
      "metadata": {
        "colab": {
          "base_uri": "https://localhost:8080/"
        },
        "id": "Tm3qp0WqYdAE",
        "outputId": "75655fda-51c9-4a36-8285-bd91ac33f773"
      },
      "execution_count": 43,
      "outputs": [
        {
          "output_type": "stream",
          "name": "stdout",
          "text": [
            "<class 'pandas.core.frame.DataFrame'>\n",
            "RangeIndex: 9606 entries, 0 to 9605\n",
            "Data columns (total 2 columns):\n",
            " #   Column  Non-Null Count  Dtype \n",
            "---  ------  --------------  ----- \n",
            " 0   review  9606 non-null   object\n",
            " 1   y       9606 non-null   int64 \n",
            "dtypes: int64(1), object(1)\n",
            "memory usage: 150.2+ KB\n"
          ]
        }
      ]
    },
    {
      "cell_type": "code",
      "source": [
        "df_temp.head()"
      ],
      "metadata": {
        "colab": {
          "base_uri": "https://localhost:8080/",
          "height": 206
        },
        "id": "GDAGigDxYdCo",
        "outputId": "ae85cb0c-27de-4c9f-b477-afcc78dae471"
      },
      "execution_count": 44,
      "outputs": [
        {
          "output_type": "execute_result",
          "data": {
            "text/plain": [
              "                                              review  y\n",
              "0  great phone in budget. .. pubg performance was...  0\n",
              "1  Best Smartphone by Mi in this Range. . stay in...  0\n",
              "2  Bad smooth phone. . and back camera quality is...  0\n",
              "3  Thise is very nice mobile ...I like it very mu...  1\n",
              "4  I m meagerly dissatisfy 👍 All section r superb...  0"
            ],
            "text/html": [
              "\n",
              "  <div id=\"df-be5dbd10-6eff-4f80-b36d-f0c263bb7a90\" class=\"colab-df-container\">\n",
              "    <div>\n",
              "<style scoped>\n",
              "    .dataframe tbody tr th:only-of-type {\n",
              "        vertical-align: middle;\n",
              "    }\n",
              "\n",
              "    .dataframe tbody tr th {\n",
              "        vertical-align: top;\n",
              "    }\n",
              "\n",
              "    .dataframe thead th {\n",
              "        text-align: right;\n",
              "    }\n",
              "</style>\n",
              "<table border=\"1\" class=\"dataframe\">\n",
              "  <thead>\n",
              "    <tr style=\"text-align: right;\">\n",
              "      <th></th>\n",
              "      <th>review</th>\n",
              "      <th>y</th>\n",
              "    </tr>\n",
              "  </thead>\n",
              "  <tbody>\n",
              "    <tr>\n",
              "      <th>0</th>\n",
              "      <td>great phone in budget. .. pubg performance was...</td>\n",
              "      <td>0</td>\n",
              "    </tr>\n",
              "    <tr>\n",
              "      <th>1</th>\n",
              "      <td>Best Smartphone by Mi in this Range. . stay in...</td>\n",
              "      <td>0</td>\n",
              "    </tr>\n",
              "    <tr>\n",
              "      <th>2</th>\n",
              "      <td>Bad smooth phone. . and back camera quality is...</td>\n",
              "      <td>0</td>\n",
              "    </tr>\n",
              "    <tr>\n",
              "      <th>3</th>\n",
              "      <td>Thise is very nice mobile ...I like it very mu...</td>\n",
              "      <td>1</td>\n",
              "    </tr>\n",
              "    <tr>\n",
              "      <th>4</th>\n",
              "      <td>I m meagerly dissatisfy 👍 All section r superb...</td>\n",
              "      <td>0</td>\n",
              "    </tr>\n",
              "  </tbody>\n",
              "</table>\n",
              "</div>\n",
              "    <div class=\"colab-df-buttons\">\n",
              "\n",
              "  <div class=\"colab-df-container\">\n",
              "    <button class=\"colab-df-convert\" onclick=\"convertToInteractive('df-be5dbd10-6eff-4f80-b36d-f0c263bb7a90')\"\n",
              "            title=\"Convert this dataframe to an interactive table.\"\n",
              "            style=\"display:none;\">\n",
              "\n",
              "  <svg xmlns=\"http://www.w3.org/2000/svg\" height=\"24px\" viewBox=\"0 -960 960 960\">\n",
              "    <path d=\"M120-120v-720h720v720H120Zm60-500h600v-160H180v160Zm220 220h160v-160H400v160Zm0 220h160v-160H400v160ZM180-400h160v-160H180v160Zm440 0h160v-160H620v160ZM180-180h160v-160H180v160Zm440 0h160v-160H620v160Z\"/>\n",
              "  </svg>\n",
              "    </button>\n",
              "\n",
              "  <style>\n",
              "    .colab-df-container {\n",
              "      display:flex;\n",
              "      gap: 12px;\n",
              "    }\n",
              "\n",
              "    .colab-df-convert {\n",
              "      background-color: #E8F0FE;\n",
              "      border: none;\n",
              "      border-radius: 50%;\n",
              "      cursor: pointer;\n",
              "      display: none;\n",
              "      fill: #1967D2;\n",
              "      height: 32px;\n",
              "      padding: 0 0 0 0;\n",
              "      width: 32px;\n",
              "    }\n",
              "\n",
              "    .colab-df-convert:hover {\n",
              "      background-color: #E2EBFA;\n",
              "      box-shadow: 0px 1px 2px rgba(60, 64, 67, 0.3), 0px 1px 3px 1px rgba(60, 64, 67, 0.15);\n",
              "      fill: #174EA6;\n",
              "    }\n",
              "\n",
              "    .colab-df-buttons div {\n",
              "      margin-bottom: 4px;\n",
              "    }\n",
              "\n",
              "    [theme=dark] .colab-df-convert {\n",
              "      background-color: #3B4455;\n",
              "      fill: #D2E3FC;\n",
              "    }\n",
              "\n",
              "    [theme=dark] .colab-df-convert:hover {\n",
              "      background-color: #434B5C;\n",
              "      box-shadow: 0px 1px 3px 1px rgba(0, 0, 0, 0.15);\n",
              "      filter: drop-shadow(0px 1px 2px rgba(0, 0, 0, 0.3));\n",
              "      fill: #FFFFFF;\n",
              "    }\n",
              "  </style>\n",
              "\n",
              "    <script>\n",
              "      const buttonEl =\n",
              "        document.querySelector('#df-be5dbd10-6eff-4f80-b36d-f0c263bb7a90 button.colab-df-convert');\n",
              "      buttonEl.style.display =\n",
              "        google.colab.kernel.accessAllowed ? 'block' : 'none';\n",
              "\n",
              "      async function convertToInteractive(key) {\n",
              "        const element = document.querySelector('#df-be5dbd10-6eff-4f80-b36d-f0c263bb7a90');\n",
              "        const dataTable =\n",
              "          await google.colab.kernel.invokeFunction('convertToInteractive',\n",
              "                                                    [key], {});\n",
              "        if (!dataTable) return;\n",
              "\n",
              "        const docLinkHtml = 'Like what you see? Visit the ' +\n",
              "          '<a target=\"_blank\" href=https://colab.research.google.com/notebooks/data_table.ipynb>data table notebook</a>'\n",
              "          + ' to learn more about interactive tables.';\n",
              "        element.innerHTML = '';\n",
              "        dataTable['output_type'] = 'display_data';\n",
              "        await google.colab.output.renderOutput(dataTable, element);\n",
              "        const docLink = document.createElement('div');\n",
              "        docLink.innerHTML = docLinkHtml;\n",
              "        element.appendChild(docLink);\n",
              "      }\n",
              "    </script>\n",
              "  </div>\n",
              "\n",
              "\n",
              "<div id=\"df-eb6b1a44-74c6-43b5-ac6b-e5a5a120759b\">\n",
              "  <button class=\"colab-df-quickchart\" onclick=\"quickchart('df-eb6b1a44-74c6-43b5-ac6b-e5a5a120759b')\"\n",
              "            title=\"Suggest charts\"\n",
              "            style=\"display:none;\">\n",
              "\n",
              "<svg xmlns=\"http://www.w3.org/2000/svg\" height=\"24px\"viewBox=\"0 0 24 24\"\n",
              "     width=\"24px\">\n",
              "    <g>\n",
              "        <path d=\"M19 3H5c-1.1 0-2 .9-2 2v14c0 1.1.9 2 2 2h14c1.1 0 2-.9 2-2V5c0-1.1-.9-2-2-2zM9 17H7v-7h2v7zm4 0h-2V7h2v10zm4 0h-2v-4h2v4z\"/>\n",
              "    </g>\n",
              "</svg>\n",
              "  </button>\n",
              "\n",
              "<style>\n",
              "  .colab-df-quickchart {\n",
              "      --bg-color: #E8F0FE;\n",
              "      --fill-color: #1967D2;\n",
              "      --hover-bg-color: #E2EBFA;\n",
              "      --hover-fill-color: #174EA6;\n",
              "      --disabled-fill-color: #AAA;\n",
              "      --disabled-bg-color: #DDD;\n",
              "  }\n",
              "\n",
              "  [theme=dark] .colab-df-quickchart {\n",
              "      --bg-color: #3B4455;\n",
              "      --fill-color: #D2E3FC;\n",
              "      --hover-bg-color: #434B5C;\n",
              "      --hover-fill-color: #FFFFFF;\n",
              "      --disabled-bg-color: #3B4455;\n",
              "      --disabled-fill-color: #666;\n",
              "  }\n",
              "\n",
              "  .colab-df-quickchart {\n",
              "    background-color: var(--bg-color);\n",
              "    border: none;\n",
              "    border-radius: 50%;\n",
              "    cursor: pointer;\n",
              "    display: none;\n",
              "    fill: var(--fill-color);\n",
              "    height: 32px;\n",
              "    padding: 0;\n",
              "    width: 32px;\n",
              "  }\n",
              "\n",
              "  .colab-df-quickchart:hover {\n",
              "    background-color: var(--hover-bg-color);\n",
              "    box-shadow: 0 1px 2px rgba(60, 64, 67, 0.3), 0 1px 3px 1px rgba(60, 64, 67, 0.15);\n",
              "    fill: var(--button-hover-fill-color);\n",
              "  }\n",
              "\n",
              "  .colab-df-quickchart-complete:disabled,\n",
              "  .colab-df-quickchart-complete:disabled:hover {\n",
              "    background-color: var(--disabled-bg-color);\n",
              "    fill: var(--disabled-fill-color);\n",
              "    box-shadow: none;\n",
              "  }\n",
              "\n",
              "  .colab-df-spinner {\n",
              "    border: 2px solid var(--fill-color);\n",
              "    border-color: transparent;\n",
              "    border-bottom-color: var(--fill-color);\n",
              "    animation:\n",
              "      spin 1s steps(1) infinite;\n",
              "  }\n",
              "\n",
              "  @keyframes spin {\n",
              "    0% {\n",
              "      border-color: transparent;\n",
              "      border-bottom-color: var(--fill-color);\n",
              "      border-left-color: var(--fill-color);\n",
              "    }\n",
              "    20% {\n",
              "      border-color: transparent;\n",
              "      border-left-color: var(--fill-color);\n",
              "      border-top-color: var(--fill-color);\n",
              "    }\n",
              "    30% {\n",
              "      border-color: transparent;\n",
              "      border-left-color: var(--fill-color);\n",
              "      border-top-color: var(--fill-color);\n",
              "      border-right-color: var(--fill-color);\n",
              "    }\n",
              "    40% {\n",
              "      border-color: transparent;\n",
              "      border-right-color: var(--fill-color);\n",
              "      border-top-color: var(--fill-color);\n",
              "    }\n",
              "    60% {\n",
              "      border-color: transparent;\n",
              "      border-right-color: var(--fill-color);\n",
              "    }\n",
              "    80% {\n",
              "      border-color: transparent;\n",
              "      border-right-color: var(--fill-color);\n",
              "      border-bottom-color: var(--fill-color);\n",
              "    }\n",
              "    90% {\n",
              "      border-color: transparent;\n",
              "      border-bottom-color: var(--fill-color);\n",
              "    }\n",
              "  }\n",
              "</style>\n",
              "\n",
              "  <script>\n",
              "    async function quickchart(key) {\n",
              "      const quickchartButtonEl =\n",
              "        document.querySelector('#' + key + ' button');\n",
              "      quickchartButtonEl.disabled = true;  // To prevent multiple clicks.\n",
              "      quickchartButtonEl.classList.add('colab-df-spinner');\n",
              "      try {\n",
              "        const charts = await google.colab.kernel.invokeFunction(\n",
              "            'suggestCharts', [key], {});\n",
              "      } catch (error) {\n",
              "        console.error('Error during call to suggestCharts:', error);\n",
              "      }\n",
              "      quickchartButtonEl.classList.remove('colab-df-spinner');\n",
              "      quickchartButtonEl.classList.add('colab-df-quickchart-complete');\n",
              "    }\n",
              "    (() => {\n",
              "      let quickchartButtonEl =\n",
              "        document.querySelector('#df-eb6b1a44-74c6-43b5-ac6b-e5a5a120759b button');\n",
              "      quickchartButtonEl.style.display =\n",
              "        google.colab.kernel.accessAllowed ? 'block' : 'none';\n",
              "    })();\n",
              "  </script>\n",
              "</div>\n",
              "\n",
              "    </div>\n",
              "  </div>\n"
            ],
            "application/vnd.google.colaboratory.intrinsic+json": {
              "type": "dataframe",
              "variable_name": "df_temp",
              "summary": "{\n  \"name\": \"df_temp\",\n  \"rows\": 9606,\n  \"fields\": [\n    {\n      \"column\": \"review\",\n      \"properties\": {\n        \"dtype\": \"string\",\n        \"num_unique_values\": 7401,\n        \"samples\": [\n          \"Very decent phone for daily use, and very nice that you are getting 4 gb ram under 8000 rupees, FM without headphone is awesome.\",\n          \"Super phone I gifted my dad, he was very unhappy and it take paranormal calls in 4 to 5 days in double charge\",\n          \"Mobile good and battery backup also good Most important thing isThat is display too much strong other than\"\n        ],\n        \"semantic_type\": \"\",\n        \"description\": \"\"\n      }\n    },\n    {\n      \"column\": \"y\",\n      \"properties\": {\n        \"dtype\": \"number\",\n        \"std\": 0,\n        \"min\": 0,\n        \"max\": 1,\n        \"num_unique_values\": 2,\n        \"samples\": [\n          1,\n          0\n        ],\n        \"semantic_type\": \"\",\n        \"description\": \"\"\n      }\n    }\n  ]\n}"
            }
          },
          "metadata": {},
          "execution_count": 44
        }
      ]
    },
    {
      "cell_type": "code",
      "source": [
        "df = df_temp\n",
        "#Applying Text cleaning and preprocessing on whole dataset\n",
        "\n",
        "def preprocessing(text):\n",
        "\n",
        "    text = remove_url(text)\n",
        "    text = uni.normalize('NFKD', text)\n",
        "    text = handle_emoji(text)\n",
        "    text = text.lower()\n",
        "    text = re.sub(r'[^\\w\\s]', '', text)\n",
        "    text = word_tokenizer(text)\n",
        "    # text = stemming(text)\n",
        "    text = lemmatization(text)\n",
        "    text = remove_stopwords(text)\n",
        "    text = \" \".join(text)\n",
        "\n",
        "    return text"
      ],
      "metadata": {
        "id": "cBO-AqpEYtbZ"
      },
      "execution_count": 46,
      "outputs": []
    },
    {
      "cell_type": "code",
      "source": [
        "from tqdm import tqdm\n",
        "\n",
        "tqdm.pandas()\n",
        "\n",
        "df['clean_review'] = df['review'].progress_map(preprocessing)"
      ],
      "metadata": {
        "colab": {
          "base_uri": "https://localhost:8080/"
        },
        "id": "ggudX1ClYteD",
        "outputId": "0c1082e5-7fe2-40cc-91e4-863c4e268e8d"
      },
      "execution_count": 47,
      "outputs": [
        {
          "output_type": "stream",
          "name": "stderr",
          "text": [
            "100%|██████████| 9606/9606 [03:47<00:00, 42.31it/s]\n"
          ]
        }
      ]
    },
    {
      "cell_type": "code",
      "source": [
        "df.head()"
      ],
      "metadata": {
        "colab": {
          "base_uri": "https://localhost:8080/",
          "height": 206
        },
        "id": "AgTdGUgBY3h_",
        "outputId": "bb12f3c1-54f0-4e14-bf7e-0bea01722a33"
      },
      "execution_count": 48,
      "outputs": [
        {
          "output_type": "execute_result",
          "data": {
            "text/plain": [
              "                                              review  y  \\\n",
              "0  great phone in budget. .. pubg performance was...  0   \n",
              "1  Best Smartphone by Mi in this Range. . stay in...  0   \n",
              "2  Bad smooth phone. . and back camera quality is...  0   \n",
              "3  Thise is very nice mobile ...I like it very mu...  1   \n",
              "4  I m meagerly dissatisfy 👍 All section r superb...  0   \n",
              "\n",
              "                                        clean_review  \n",
              "0  great phone budget pubg performance staccato c...  \n",
              "1  well smartphone mi range stay place r confuse ...  \n",
              "2  bad smooth phone back camera quality evil rear...  \n",
              "3  thise nice mobile I like much delivery also fa...  \n",
              "4  I meagerly dissatisfy thumb section r superb d...  "
            ],
            "text/html": [
              "\n",
              "  <div id=\"df-c3ed596c-06e9-42f3-b1f6-c6edc6c20dc2\" class=\"colab-df-container\">\n",
              "    <div>\n",
              "<style scoped>\n",
              "    .dataframe tbody tr th:only-of-type {\n",
              "        vertical-align: middle;\n",
              "    }\n",
              "\n",
              "    .dataframe tbody tr th {\n",
              "        vertical-align: top;\n",
              "    }\n",
              "\n",
              "    .dataframe thead th {\n",
              "        text-align: right;\n",
              "    }\n",
              "</style>\n",
              "<table border=\"1\" class=\"dataframe\">\n",
              "  <thead>\n",
              "    <tr style=\"text-align: right;\">\n",
              "      <th></th>\n",
              "      <th>review</th>\n",
              "      <th>y</th>\n",
              "      <th>clean_review</th>\n",
              "    </tr>\n",
              "  </thead>\n",
              "  <tbody>\n",
              "    <tr>\n",
              "      <th>0</th>\n",
              "      <td>great phone in budget. .. pubg performance was...</td>\n",
              "      <td>0</td>\n",
              "      <td>great phone budget pubg performance staccato c...</td>\n",
              "    </tr>\n",
              "    <tr>\n",
              "      <th>1</th>\n",
              "      <td>Best Smartphone by Mi in this Range. . stay in...</td>\n",
              "      <td>0</td>\n",
              "      <td>well smartphone mi range stay place r confuse ...</td>\n",
              "    </tr>\n",
              "    <tr>\n",
              "      <th>2</th>\n",
              "      <td>Bad smooth phone. . and back camera quality is...</td>\n",
              "      <td>0</td>\n",
              "      <td>bad smooth phone back camera quality evil rear...</td>\n",
              "    </tr>\n",
              "    <tr>\n",
              "      <th>3</th>\n",
              "      <td>Thise is very nice mobile ...I like it very mu...</td>\n",
              "      <td>1</td>\n",
              "      <td>thise nice mobile I like much delivery also fa...</td>\n",
              "    </tr>\n",
              "    <tr>\n",
              "      <th>4</th>\n",
              "      <td>I m meagerly dissatisfy 👍 All section r superb...</td>\n",
              "      <td>0</td>\n",
              "      <td>I meagerly dissatisfy thumb section r superb d...</td>\n",
              "    </tr>\n",
              "  </tbody>\n",
              "</table>\n",
              "</div>\n",
              "    <div class=\"colab-df-buttons\">\n",
              "\n",
              "  <div class=\"colab-df-container\">\n",
              "    <button class=\"colab-df-convert\" onclick=\"convertToInteractive('df-c3ed596c-06e9-42f3-b1f6-c6edc6c20dc2')\"\n",
              "            title=\"Convert this dataframe to an interactive table.\"\n",
              "            style=\"display:none;\">\n",
              "\n",
              "  <svg xmlns=\"http://www.w3.org/2000/svg\" height=\"24px\" viewBox=\"0 -960 960 960\">\n",
              "    <path d=\"M120-120v-720h720v720H120Zm60-500h600v-160H180v160Zm220 220h160v-160H400v160Zm0 220h160v-160H400v160ZM180-400h160v-160H180v160Zm440 0h160v-160H620v160ZM180-180h160v-160H180v160Zm440 0h160v-160H620v160Z\"/>\n",
              "  </svg>\n",
              "    </button>\n",
              "\n",
              "  <style>\n",
              "    .colab-df-container {\n",
              "      display:flex;\n",
              "      gap: 12px;\n",
              "    }\n",
              "\n",
              "    .colab-df-convert {\n",
              "      background-color: #E8F0FE;\n",
              "      border: none;\n",
              "      border-radius: 50%;\n",
              "      cursor: pointer;\n",
              "      display: none;\n",
              "      fill: #1967D2;\n",
              "      height: 32px;\n",
              "      padding: 0 0 0 0;\n",
              "      width: 32px;\n",
              "    }\n",
              "\n",
              "    .colab-df-convert:hover {\n",
              "      background-color: #E2EBFA;\n",
              "      box-shadow: 0px 1px 2px rgba(60, 64, 67, 0.3), 0px 1px 3px 1px rgba(60, 64, 67, 0.15);\n",
              "      fill: #174EA6;\n",
              "    }\n",
              "\n",
              "    .colab-df-buttons div {\n",
              "      margin-bottom: 4px;\n",
              "    }\n",
              "\n",
              "    [theme=dark] .colab-df-convert {\n",
              "      background-color: #3B4455;\n",
              "      fill: #D2E3FC;\n",
              "    }\n",
              "\n",
              "    [theme=dark] .colab-df-convert:hover {\n",
              "      background-color: #434B5C;\n",
              "      box-shadow: 0px 1px 3px 1px rgba(0, 0, 0, 0.15);\n",
              "      filter: drop-shadow(0px 1px 2px rgba(0, 0, 0, 0.3));\n",
              "      fill: #FFFFFF;\n",
              "    }\n",
              "  </style>\n",
              "\n",
              "    <script>\n",
              "      const buttonEl =\n",
              "        document.querySelector('#df-c3ed596c-06e9-42f3-b1f6-c6edc6c20dc2 button.colab-df-convert');\n",
              "      buttonEl.style.display =\n",
              "        google.colab.kernel.accessAllowed ? 'block' : 'none';\n",
              "\n",
              "      async function convertToInteractive(key) {\n",
              "        const element = document.querySelector('#df-c3ed596c-06e9-42f3-b1f6-c6edc6c20dc2');\n",
              "        const dataTable =\n",
              "          await google.colab.kernel.invokeFunction('convertToInteractive',\n",
              "                                                    [key], {});\n",
              "        if (!dataTable) return;\n",
              "\n",
              "        const docLinkHtml = 'Like what you see? Visit the ' +\n",
              "          '<a target=\"_blank\" href=https://colab.research.google.com/notebooks/data_table.ipynb>data table notebook</a>'\n",
              "          + ' to learn more about interactive tables.';\n",
              "        element.innerHTML = '';\n",
              "        dataTable['output_type'] = 'display_data';\n",
              "        await google.colab.output.renderOutput(dataTable, element);\n",
              "        const docLink = document.createElement('div');\n",
              "        docLink.innerHTML = docLinkHtml;\n",
              "        element.appendChild(docLink);\n",
              "      }\n",
              "    </script>\n",
              "  </div>\n",
              "\n",
              "\n",
              "<div id=\"df-018e3e39-545f-414d-b08f-7eec42a652c5\">\n",
              "  <button class=\"colab-df-quickchart\" onclick=\"quickchart('df-018e3e39-545f-414d-b08f-7eec42a652c5')\"\n",
              "            title=\"Suggest charts\"\n",
              "            style=\"display:none;\">\n",
              "\n",
              "<svg xmlns=\"http://www.w3.org/2000/svg\" height=\"24px\"viewBox=\"0 0 24 24\"\n",
              "     width=\"24px\">\n",
              "    <g>\n",
              "        <path d=\"M19 3H5c-1.1 0-2 .9-2 2v14c0 1.1.9 2 2 2h14c1.1 0 2-.9 2-2V5c0-1.1-.9-2-2-2zM9 17H7v-7h2v7zm4 0h-2V7h2v10zm4 0h-2v-4h2v4z\"/>\n",
              "    </g>\n",
              "</svg>\n",
              "  </button>\n",
              "\n",
              "<style>\n",
              "  .colab-df-quickchart {\n",
              "      --bg-color: #E8F0FE;\n",
              "      --fill-color: #1967D2;\n",
              "      --hover-bg-color: #E2EBFA;\n",
              "      --hover-fill-color: #174EA6;\n",
              "      --disabled-fill-color: #AAA;\n",
              "      --disabled-bg-color: #DDD;\n",
              "  }\n",
              "\n",
              "  [theme=dark] .colab-df-quickchart {\n",
              "      --bg-color: #3B4455;\n",
              "      --fill-color: #D2E3FC;\n",
              "      --hover-bg-color: #434B5C;\n",
              "      --hover-fill-color: #FFFFFF;\n",
              "      --disabled-bg-color: #3B4455;\n",
              "      --disabled-fill-color: #666;\n",
              "  }\n",
              "\n",
              "  .colab-df-quickchart {\n",
              "    background-color: var(--bg-color);\n",
              "    border: none;\n",
              "    border-radius: 50%;\n",
              "    cursor: pointer;\n",
              "    display: none;\n",
              "    fill: var(--fill-color);\n",
              "    height: 32px;\n",
              "    padding: 0;\n",
              "    width: 32px;\n",
              "  }\n",
              "\n",
              "  .colab-df-quickchart:hover {\n",
              "    background-color: var(--hover-bg-color);\n",
              "    box-shadow: 0 1px 2px rgba(60, 64, 67, 0.3), 0 1px 3px 1px rgba(60, 64, 67, 0.15);\n",
              "    fill: var(--button-hover-fill-color);\n",
              "  }\n",
              "\n",
              "  .colab-df-quickchart-complete:disabled,\n",
              "  .colab-df-quickchart-complete:disabled:hover {\n",
              "    background-color: var(--disabled-bg-color);\n",
              "    fill: var(--disabled-fill-color);\n",
              "    box-shadow: none;\n",
              "  }\n",
              "\n",
              "  .colab-df-spinner {\n",
              "    border: 2px solid var(--fill-color);\n",
              "    border-color: transparent;\n",
              "    border-bottom-color: var(--fill-color);\n",
              "    animation:\n",
              "      spin 1s steps(1) infinite;\n",
              "  }\n",
              "\n",
              "  @keyframes spin {\n",
              "    0% {\n",
              "      border-color: transparent;\n",
              "      border-bottom-color: var(--fill-color);\n",
              "      border-left-color: var(--fill-color);\n",
              "    }\n",
              "    20% {\n",
              "      border-color: transparent;\n",
              "      border-left-color: var(--fill-color);\n",
              "      border-top-color: var(--fill-color);\n",
              "    }\n",
              "    30% {\n",
              "      border-color: transparent;\n",
              "      border-left-color: var(--fill-color);\n",
              "      border-top-color: var(--fill-color);\n",
              "      border-right-color: var(--fill-color);\n",
              "    }\n",
              "    40% {\n",
              "      border-color: transparent;\n",
              "      border-right-color: var(--fill-color);\n",
              "      border-top-color: var(--fill-color);\n",
              "    }\n",
              "    60% {\n",
              "      border-color: transparent;\n",
              "      border-right-color: var(--fill-color);\n",
              "    }\n",
              "    80% {\n",
              "      border-color: transparent;\n",
              "      border-right-color: var(--fill-color);\n",
              "      border-bottom-color: var(--fill-color);\n",
              "    }\n",
              "    90% {\n",
              "      border-color: transparent;\n",
              "      border-bottom-color: var(--fill-color);\n",
              "    }\n",
              "  }\n",
              "</style>\n",
              "\n",
              "  <script>\n",
              "    async function quickchart(key) {\n",
              "      const quickchartButtonEl =\n",
              "        document.querySelector('#' + key + ' button');\n",
              "      quickchartButtonEl.disabled = true;  // To prevent multiple clicks.\n",
              "      quickchartButtonEl.classList.add('colab-df-spinner');\n",
              "      try {\n",
              "        const charts = await google.colab.kernel.invokeFunction(\n",
              "            'suggestCharts', [key], {});\n",
              "      } catch (error) {\n",
              "        console.error('Error during call to suggestCharts:', error);\n",
              "      }\n",
              "      quickchartButtonEl.classList.remove('colab-df-spinner');\n",
              "      quickchartButtonEl.classList.add('colab-df-quickchart-complete');\n",
              "    }\n",
              "    (() => {\n",
              "      let quickchartButtonEl =\n",
              "        document.querySelector('#df-018e3e39-545f-414d-b08f-7eec42a652c5 button');\n",
              "      quickchartButtonEl.style.display =\n",
              "        google.colab.kernel.accessAllowed ? 'block' : 'none';\n",
              "    })();\n",
              "  </script>\n",
              "</div>\n",
              "\n",
              "    </div>\n",
              "  </div>\n"
            ],
            "application/vnd.google.colaboratory.intrinsic+json": {
              "type": "dataframe",
              "variable_name": "df",
              "summary": "{\n  \"name\": \"df\",\n  \"rows\": 9606,\n  \"fields\": [\n    {\n      \"column\": \"review\",\n      \"properties\": {\n        \"dtype\": \"string\",\n        \"num_unique_values\": 7401,\n        \"samples\": [\n          \"Very decent phone for daily use, and very nice that you are getting 4 gb ram under 8000 rupees, FM without headphone is awesome.\",\n          \"Super phone I gifted my dad, he was very unhappy and it take paranormal calls in 4 to 5 days in double charge\",\n          \"Mobile good and battery backup also good Most important thing isThat is display too much strong other than\"\n        ],\n        \"semantic_type\": \"\",\n        \"description\": \"\"\n      }\n    },\n    {\n      \"column\": \"y\",\n      \"properties\": {\n        \"dtype\": \"number\",\n        \"std\": 0,\n        \"min\": 0,\n        \"max\": 1,\n        \"num_unique_values\": 2,\n        \"samples\": [\n          1,\n          0\n        ],\n        \"semantic_type\": \"\",\n        \"description\": \"\"\n      }\n    },\n    {\n      \"column\": \"clean_review\",\n      \"properties\": {\n        \"dtype\": \"string\",\n        \"num_unique_values\": 7374,\n        \"samples\": [\n          \"nice fantastic product I love product I suggest buy nice product I buy green colour product I love product\",\n          \"I gift momshe love ideal phone parent easy operation great camera battery performance price range\"\n        ],\n        \"semantic_type\": \"\",\n        \"description\": \"\"\n      }\n    }\n  ]\n}"
            }
          },
          "metadata": {},
          "execution_count": 48
        }
      ]
    },
    {
      "cell_type": "code",
      "source": [
        "reviews = df.clean_review.values.tolist()\n",
        "'''Prepare data for LDA Analysis Next, let’s work to transform the textual data in a format that will serve as an input\n",
        "for training LDA model. We start by tokenizing the text and removing stopwords.\n",
        "Next, we convert the tokenized object into a corpus and dictionary.\n",
        "'''\n",
        "from tqdm import tqdm\n",
        "\n",
        "tqdm.pandas()\n",
        "\n",
        "df['clean_review2'] = df['clean_review'].progress_map(word_tokenizer)"
      ],
      "metadata": {
        "colab": {
          "base_uri": "https://localhost:8080/"
        },
        "id": "I351ssZvY3lH",
        "outputId": "a9818e65-d34f-4055-e08e-26af91b690e5"
      },
      "execution_count": 49,
      "outputs": [
        {
          "output_type": "stream",
          "name": "stderr",
          "text": [
            "100%|██████████| 9606/9606 [00:00<00:00, 122358.60it/s]\n"
          ]
        }
      ]
    },
    {
      "cell_type": "code",
      "source": [
        "df.head()"
      ],
      "metadata": {
        "colab": {
          "base_uri": "https://localhost:8080/",
          "height": 206
        },
        "id": "kDDhpV1pY3oV",
        "outputId": "9cd9fb61-38a9-469a-b6be-bf4f233caf45"
      },
      "execution_count": 50,
      "outputs": [
        {
          "output_type": "execute_result",
          "data": {
            "text/plain": [
              "                                              review  y  \\\n",
              "0  great phone in budget. .. pubg performance was...  0   \n",
              "1  Best Smartphone by Mi in this Range. . stay in...  0   \n",
              "2  Bad smooth phone. . and back camera quality is...  0   \n",
              "3  Thise is very nice mobile ...I like it very mu...  1   \n",
              "4  I m meagerly dissatisfy 👍 All section r superb...  0   \n",
              "\n",
              "                                        clean_review  \\\n",
              "0  great phone budget pubg performance staccato c...   \n",
              "1  well smartphone mi range stay place r confuse ...   \n",
              "2  bad smooth phone back camera quality evil rear...   \n",
              "3  thise nice mobile I like much delivery also fa...   \n",
              "4  I meagerly dissatisfy thumb section r superb d...   \n",
              "\n",
              "                                       clean_review2  \n",
              "0  [great, phone, budget, pubg, performance, stac...  \n",
              "1  [well, smartphone, mi, range, stay, place, r, ...  \n",
              "2  [bad, smooth, phone, back, camera, quality, ev...  \n",
              "3  [thise, nice, mobile, i, like, much, delivery,...  \n",
              "4  [i, meagerly, dissatisfy, thumb, section, r, s...  "
            ],
            "text/html": [
              "\n",
              "  <div id=\"df-415391d3-e91a-4e57-84a3-0f941741f981\" class=\"colab-df-container\">\n",
              "    <div>\n",
              "<style scoped>\n",
              "    .dataframe tbody tr th:only-of-type {\n",
              "        vertical-align: middle;\n",
              "    }\n",
              "\n",
              "    .dataframe tbody tr th {\n",
              "        vertical-align: top;\n",
              "    }\n",
              "\n",
              "    .dataframe thead th {\n",
              "        text-align: right;\n",
              "    }\n",
              "</style>\n",
              "<table border=\"1\" class=\"dataframe\">\n",
              "  <thead>\n",
              "    <tr style=\"text-align: right;\">\n",
              "      <th></th>\n",
              "      <th>review</th>\n",
              "      <th>y</th>\n",
              "      <th>clean_review</th>\n",
              "      <th>clean_review2</th>\n",
              "    </tr>\n",
              "  </thead>\n",
              "  <tbody>\n",
              "    <tr>\n",
              "      <th>0</th>\n",
              "      <td>great phone in budget. .. pubg performance was...</td>\n",
              "      <td>0</td>\n",
              "      <td>great phone budget pubg performance staccato c...</td>\n",
              "      <td>[great, phone, budget, pubg, performance, stac...</td>\n",
              "    </tr>\n",
              "    <tr>\n",
              "      <th>1</th>\n",
              "      <td>Best Smartphone by Mi in this Range. . stay in...</td>\n",
              "      <td>0</td>\n",
              "      <td>well smartphone mi range stay place r confuse ...</td>\n",
              "      <td>[well, smartphone, mi, range, stay, place, r, ...</td>\n",
              "    </tr>\n",
              "    <tr>\n",
              "      <th>2</th>\n",
              "      <td>Bad smooth phone. . and back camera quality is...</td>\n",
              "      <td>0</td>\n",
              "      <td>bad smooth phone back camera quality evil rear...</td>\n",
              "      <td>[bad, smooth, phone, back, camera, quality, ev...</td>\n",
              "    </tr>\n",
              "    <tr>\n",
              "      <th>3</th>\n",
              "      <td>Thise is very nice mobile ...I like it very mu...</td>\n",
              "      <td>1</td>\n",
              "      <td>thise nice mobile I like much delivery also fa...</td>\n",
              "      <td>[thise, nice, mobile, i, like, much, delivery,...</td>\n",
              "    </tr>\n",
              "    <tr>\n",
              "      <th>4</th>\n",
              "      <td>I m meagerly dissatisfy 👍 All section r superb...</td>\n",
              "      <td>0</td>\n",
              "      <td>I meagerly dissatisfy thumb section r superb d...</td>\n",
              "      <td>[i, meagerly, dissatisfy, thumb, section, r, s...</td>\n",
              "    </tr>\n",
              "  </tbody>\n",
              "</table>\n",
              "</div>\n",
              "    <div class=\"colab-df-buttons\">\n",
              "\n",
              "  <div class=\"colab-df-container\">\n",
              "    <button class=\"colab-df-convert\" onclick=\"convertToInteractive('df-415391d3-e91a-4e57-84a3-0f941741f981')\"\n",
              "            title=\"Convert this dataframe to an interactive table.\"\n",
              "            style=\"display:none;\">\n",
              "\n",
              "  <svg xmlns=\"http://www.w3.org/2000/svg\" height=\"24px\" viewBox=\"0 -960 960 960\">\n",
              "    <path d=\"M120-120v-720h720v720H120Zm60-500h600v-160H180v160Zm220 220h160v-160H400v160Zm0 220h160v-160H400v160ZM180-400h160v-160H180v160Zm440 0h160v-160H620v160ZM180-180h160v-160H180v160Zm440 0h160v-160H620v160Z\"/>\n",
              "  </svg>\n",
              "    </button>\n",
              "\n",
              "  <style>\n",
              "    .colab-df-container {\n",
              "      display:flex;\n",
              "      gap: 12px;\n",
              "    }\n",
              "\n",
              "    .colab-df-convert {\n",
              "      background-color: #E8F0FE;\n",
              "      border: none;\n",
              "      border-radius: 50%;\n",
              "      cursor: pointer;\n",
              "      display: none;\n",
              "      fill: #1967D2;\n",
              "      height: 32px;\n",
              "      padding: 0 0 0 0;\n",
              "      width: 32px;\n",
              "    }\n",
              "\n",
              "    .colab-df-convert:hover {\n",
              "      background-color: #E2EBFA;\n",
              "      box-shadow: 0px 1px 2px rgba(60, 64, 67, 0.3), 0px 1px 3px 1px rgba(60, 64, 67, 0.15);\n",
              "      fill: #174EA6;\n",
              "    }\n",
              "\n",
              "    .colab-df-buttons div {\n",
              "      margin-bottom: 4px;\n",
              "    }\n",
              "\n",
              "    [theme=dark] .colab-df-convert {\n",
              "      background-color: #3B4455;\n",
              "      fill: #D2E3FC;\n",
              "    }\n",
              "\n",
              "    [theme=dark] .colab-df-convert:hover {\n",
              "      background-color: #434B5C;\n",
              "      box-shadow: 0px 1px 3px 1px rgba(0, 0, 0, 0.15);\n",
              "      filter: drop-shadow(0px 1px 2px rgba(0, 0, 0, 0.3));\n",
              "      fill: #FFFFFF;\n",
              "    }\n",
              "  </style>\n",
              "\n",
              "    <script>\n",
              "      const buttonEl =\n",
              "        document.querySelector('#df-415391d3-e91a-4e57-84a3-0f941741f981 button.colab-df-convert');\n",
              "      buttonEl.style.display =\n",
              "        google.colab.kernel.accessAllowed ? 'block' : 'none';\n",
              "\n",
              "      async function convertToInteractive(key) {\n",
              "        const element = document.querySelector('#df-415391d3-e91a-4e57-84a3-0f941741f981');\n",
              "        const dataTable =\n",
              "          await google.colab.kernel.invokeFunction('convertToInteractive',\n",
              "                                                    [key], {});\n",
              "        if (!dataTable) return;\n",
              "\n",
              "        const docLinkHtml = 'Like what you see? Visit the ' +\n",
              "          '<a target=\"_blank\" href=https://colab.research.google.com/notebooks/data_table.ipynb>data table notebook</a>'\n",
              "          + ' to learn more about interactive tables.';\n",
              "        element.innerHTML = '';\n",
              "        dataTable['output_type'] = 'display_data';\n",
              "        await google.colab.output.renderOutput(dataTable, element);\n",
              "        const docLink = document.createElement('div');\n",
              "        docLink.innerHTML = docLinkHtml;\n",
              "        element.appendChild(docLink);\n",
              "      }\n",
              "    </script>\n",
              "  </div>\n",
              "\n",
              "\n",
              "<div id=\"df-829056c7-3032-4631-8b39-1c397234b93b\">\n",
              "  <button class=\"colab-df-quickchart\" onclick=\"quickchart('df-829056c7-3032-4631-8b39-1c397234b93b')\"\n",
              "            title=\"Suggest charts\"\n",
              "            style=\"display:none;\">\n",
              "\n",
              "<svg xmlns=\"http://www.w3.org/2000/svg\" height=\"24px\"viewBox=\"0 0 24 24\"\n",
              "     width=\"24px\">\n",
              "    <g>\n",
              "        <path d=\"M19 3H5c-1.1 0-2 .9-2 2v14c0 1.1.9 2 2 2h14c1.1 0 2-.9 2-2V5c0-1.1-.9-2-2-2zM9 17H7v-7h2v7zm4 0h-2V7h2v10zm4 0h-2v-4h2v4z\"/>\n",
              "    </g>\n",
              "</svg>\n",
              "  </button>\n",
              "\n",
              "<style>\n",
              "  .colab-df-quickchart {\n",
              "      --bg-color: #E8F0FE;\n",
              "      --fill-color: #1967D2;\n",
              "      --hover-bg-color: #E2EBFA;\n",
              "      --hover-fill-color: #174EA6;\n",
              "      --disabled-fill-color: #AAA;\n",
              "      --disabled-bg-color: #DDD;\n",
              "  }\n",
              "\n",
              "  [theme=dark] .colab-df-quickchart {\n",
              "      --bg-color: #3B4455;\n",
              "      --fill-color: #D2E3FC;\n",
              "      --hover-bg-color: #434B5C;\n",
              "      --hover-fill-color: #FFFFFF;\n",
              "      --disabled-bg-color: #3B4455;\n",
              "      --disabled-fill-color: #666;\n",
              "  }\n",
              "\n",
              "  .colab-df-quickchart {\n",
              "    background-color: var(--bg-color);\n",
              "    border: none;\n",
              "    border-radius: 50%;\n",
              "    cursor: pointer;\n",
              "    display: none;\n",
              "    fill: var(--fill-color);\n",
              "    height: 32px;\n",
              "    padding: 0;\n",
              "    width: 32px;\n",
              "  }\n",
              "\n",
              "  .colab-df-quickchart:hover {\n",
              "    background-color: var(--hover-bg-color);\n",
              "    box-shadow: 0 1px 2px rgba(60, 64, 67, 0.3), 0 1px 3px 1px rgba(60, 64, 67, 0.15);\n",
              "    fill: var(--button-hover-fill-color);\n",
              "  }\n",
              "\n",
              "  .colab-df-quickchart-complete:disabled,\n",
              "  .colab-df-quickchart-complete:disabled:hover {\n",
              "    background-color: var(--disabled-bg-color);\n",
              "    fill: var(--disabled-fill-color);\n",
              "    box-shadow: none;\n",
              "  }\n",
              "\n",
              "  .colab-df-spinner {\n",
              "    border: 2px solid var(--fill-color);\n",
              "    border-color: transparent;\n",
              "    border-bottom-color: var(--fill-color);\n",
              "    animation:\n",
              "      spin 1s steps(1) infinite;\n",
              "  }\n",
              "\n",
              "  @keyframes spin {\n",
              "    0% {\n",
              "      border-color: transparent;\n",
              "      border-bottom-color: var(--fill-color);\n",
              "      border-left-color: var(--fill-color);\n",
              "    }\n",
              "    20% {\n",
              "      border-color: transparent;\n",
              "      border-left-color: var(--fill-color);\n",
              "      border-top-color: var(--fill-color);\n",
              "    }\n",
              "    30% {\n",
              "      border-color: transparent;\n",
              "      border-left-color: var(--fill-color);\n",
              "      border-top-color: var(--fill-color);\n",
              "      border-right-color: var(--fill-color);\n",
              "    }\n",
              "    40% {\n",
              "      border-color: transparent;\n",
              "      border-right-color: var(--fill-color);\n",
              "      border-top-color: var(--fill-color);\n",
              "    }\n",
              "    60% {\n",
              "      border-color: transparent;\n",
              "      border-right-color: var(--fill-color);\n",
              "    }\n",
              "    80% {\n",
              "      border-color: transparent;\n",
              "      border-right-color: var(--fill-color);\n",
              "      border-bottom-color: var(--fill-color);\n",
              "    }\n",
              "    90% {\n",
              "      border-color: transparent;\n",
              "      border-bottom-color: var(--fill-color);\n",
              "    }\n",
              "  }\n",
              "</style>\n",
              "\n",
              "  <script>\n",
              "    async function quickchart(key) {\n",
              "      const quickchartButtonEl =\n",
              "        document.querySelector('#' + key + ' button');\n",
              "      quickchartButtonEl.disabled = true;  // To prevent multiple clicks.\n",
              "      quickchartButtonEl.classList.add('colab-df-spinner');\n",
              "      try {\n",
              "        const charts = await google.colab.kernel.invokeFunction(\n",
              "            'suggestCharts', [key], {});\n",
              "      } catch (error) {\n",
              "        console.error('Error during call to suggestCharts:', error);\n",
              "      }\n",
              "      quickchartButtonEl.classList.remove('colab-df-spinner');\n",
              "      quickchartButtonEl.classList.add('colab-df-quickchart-complete');\n",
              "    }\n",
              "    (() => {\n",
              "      let quickchartButtonEl =\n",
              "        document.querySelector('#df-829056c7-3032-4631-8b39-1c397234b93b button');\n",
              "      quickchartButtonEl.style.display =\n",
              "        google.colab.kernel.accessAllowed ? 'block' : 'none';\n",
              "    })();\n",
              "  </script>\n",
              "</div>\n",
              "\n",
              "    </div>\n",
              "  </div>\n"
            ],
            "application/vnd.google.colaboratory.intrinsic+json": {
              "type": "dataframe",
              "variable_name": "df",
              "summary": "{\n  \"name\": \"df\",\n  \"rows\": 9606,\n  \"fields\": [\n    {\n      \"column\": \"review\",\n      \"properties\": {\n        \"dtype\": \"string\",\n        \"num_unique_values\": 7401,\n        \"samples\": [\n          \"Very decent phone for daily use, and very nice that you are getting 4 gb ram under 8000 rupees, FM without headphone is awesome.\",\n          \"Super phone I gifted my dad, he was very unhappy and it take paranormal calls in 4 to 5 days in double charge\",\n          \"Mobile good and battery backup also good Most important thing isThat is display too much strong other than\"\n        ],\n        \"semantic_type\": \"\",\n        \"description\": \"\"\n      }\n    },\n    {\n      \"column\": \"y\",\n      \"properties\": {\n        \"dtype\": \"number\",\n        \"std\": 0,\n        \"min\": 0,\n        \"max\": 1,\n        \"num_unique_values\": 2,\n        \"samples\": [\n          1,\n          0\n        ],\n        \"semantic_type\": \"\",\n        \"description\": \"\"\n      }\n    },\n    {\n      \"column\": \"clean_review\",\n      \"properties\": {\n        \"dtype\": \"string\",\n        \"num_unique_values\": 7374,\n        \"samples\": [\n          \"nice fantastic product I love product I suggest buy nice product I buy green colour product I love product\",\n          \"I gift momshe love ideal phone parent easy operation great camera battery performance price range\"\n        ],\n        \"semantic_type\": \"\",\n        \"description\": \"\"\n      }\n    },\n    {\n      \"column\": \"clean_review2\",\n      \"properties\": {\n        \"dtype\": \"object\",\n        \"semantic_type\": \"\",\n        \"description\": \"\"\n      }\n    }\n  ]\n}"
            }
          },
          "metadata": {},
          "execution_count": 50
        }
      ]
    },
    {
      "cell_type": "code",
      "source": [
        "data_words = df['clean_review2'].values.tolist()\n",
        "len(data_words)"
      ],
      "metadata": {
        "colab": {
          "base_uri": "https://localhost:8080/"
        },
        "id": "6y9eJ5TvY3tF",
        "outputId": "55a5659f-8c3d-4b91-d8a7-4d7fc648bb68"
      },
      "execution_count": 51,
      "outputs": [
        {
          "output_type": "execute_result",
          "data": {
            "text/plain": [
              "9606"
            ]
          },
          "metadata": {},
          "execution_count": 51
        }
      ]
    },
    {
      "cell_type": "code",
      "source": [
        "import gensim.corpora as corpora\n",
        "\n",
        "# Create Dictionary\n",
        "id2word = corpora.Dictionary(data_words)\n",
        "# Create Corpus\n",
        "texts = data_words\n",
        "# Term Document Frequency\n",
        "corpus = [id2word.doc2bow(text) for text in texts]\n",
        "# View\n",
        "print(corpus[:1][0][:30])"
      ],
      "metadata": {
        "colab": {
          "base_uri": "https://localhost:8080/"
        },
        "id": "unq9ZTeXZGBq",
        "outputId": "afd5e0c9-ae02-464c-d85d-36f36f6b1bfc"
      },
      "execution_count": 52,
      "outputs": [
        {
          "output_type": "stream",
          "name": "stdout",
          "text": [
            "[(0, 1), (1, 1), (2, 1), (3, 1), (4, 1), (5, 1), (6, 1), (7, 1), (8, 1), (9, 1), (10, 1), (11, 3), (12, 1), (13, 1), (14, 1), (15, 1), (16, 1)]\n"
          ]
        }
      ]
    },
    {
      "cell_type": "code",
      "source": [
        "from gensim.models import LdaMulticore\n",
        "from gensim.models import LdaModel\n",
        "from pprint import pprint\n",
        "\n",
        "# number of topics\n",
        "num_topics = 10\n",
        "# Build LDA model\n",
        "lda_model = LdaMulticore(corpus=corpus, id2word=id2word,\n",
        "                     num_topics=num_topics, iterations=400)\n",
        "# Print the Keyword in the 10 topics\n",
        "pprint(lda_model.print_topics())\n",
        "doc_lda = lda_model[corpus]"
      ],
      "metadata": {
        "colab": {
          "base_uri": "https://localhost:8080/"
        },
        "id": "47aXY_ZpZIah",
        "outputId": "e1fc7833-3a06-40fd-9e25-2f5b5231c91d"
      },
      "execution_count": 53,
      "outputs": [
        {
          "output_type": "stream",
          "name": "stderr",
          "text": [
            "WARNING:gensim.models.ldamulticore:too few updates, training might not converge; consider increasing the number of passes or iterations to improve accuracy\n",
            "/usr/lib/python3.10/multiprocessing/popen_fork.py:66: RuntimeWarning: os.fork() was called. os.fork() is incompatible with multithreaded code, and JAX is multithreaded, so this will likely lead to a deadlock.\n",
            "  self.pid = os.fork()\n"
          ]
        },
        {
          "output_type": "stream",
          "name": "stdout",
          "text": [
            "[(0,\n",
            "  '0.019*\"camera\" + 0.017*\"price\" + 0.017*\"mobile\" + 0.015*\"phone\" + 0.012*\"i\" '\n",
            "  '+ 0.011*\"good\" + 0.009*\"nd\" + 0.009*\"bad\" + 0.009*\"display\" + '\n",
            "  '0.008*\"thing\"'),\n",
            " (1,\n",
            "  '0.058*\"good\" + 0.033*\"i\" + 0.031*\"phone\" + 0.027*\"face\" + 0.026*\"camera\" + '\n",
            "  '0.023*\"smile\" + 0.020*\"product\" + 0.016*\"battery\" + 0.014*\"mobile\" + '\n",
            "  '0.014*\"great\"'),\n",
            " (2,\n",
            "  '0.039*\"i\" + 0.032*\"mobile\" + 0.029*\"phone\" + 0.025*\"good\" + 0.020*\"product\" '\n",
            "  '+ 0.018*\"price\" + 0.018*\"flipkart\" + 0.017*\"camera\" + 0.014*\"thank\" + '\n",
            "  '0.014*\"nice\"'),\n",
            " (3,\n",
            "  '0.072*\"i\" + 0.062*\"phone\" + 0.020*\"use\" + 0.018*\"awesome\" + 0.016*\"good\" + '\n",
            "  '0.012*\"like\" + 0.012*\"redmi\" + 0.010*\"mobile\" + 0.010*\"bad\" + '\n",
            "  '0.010*\"camera\"'),\n",
            " (4,\n",
            "  '0.048*\"phone\" + 0.037*\"battery\" + 0.035*\"camera\" + 0.023*\"evil\" + '\n",
            "  '0.021*\"good\" + 0.021*\"bad\" + 0.020*\"quality\" + 0.020*\"also\" + 0.020*\"i\" + '\n",
            "  '0.014*\"performance\"'),\n",
            " (5,\n",
            "  '0.038*\"bad\" + 0.032*\"phone\" + 0.031*\"camera\" + 0.025*\"evil\" + '\n",
            "  '0.024*\"battery\" + 0.023*\"i\" + 0.022*\"mobile\" + 0.021*\"price\" + '\n",
            "  '0.014*\"performance\" + 0.014*\"good\"'),\n",
            " (6,\n",
            "  '0.044*\"phone\" + 0.032*\"camera\" + 0.025*\"good\" + 0.020*\"i\" + 0.019*\"price\" + '\n",
            "  '0.017*\"bad\" + 0.017*\"awesome\" + 0.016*\"great\" + 0.015*\"battery\" + '\n",
            "  '0.015*\"flipkart\"'),\n",
            " (7,\n",
            "  '0.064*\"good\" + 0.047*\"phone\" + 0.026*\"camera\" + 0.026*\"i\" + 0.019*\"battery\" '\n",
            "  '+ 0.017*\"gb\" + 0.013*\"product\" + 0.011*\"use\" + 0.011*\"redmi\" + 0.010*\"bad\"'),\n",
            " (8,\n",
            "  '0.041*\"i\" + 0.029*\"phone\" + 0.021*\"camera\" + 0.021*\"product\" + '\n",
            "  '0.019*\"flipkart\" + 0.017*\"money\" + 0.015*\"smile\" + 0.015*\"face\" + '\n",
            "  '0.015*\"value\" + 0.014*\"hand\"'),\n",
            " (9,\n",
            "  '0.028*\"phone\" + 0.028*\"i\" + 0.016*\"good\" + 0.011*\"camera\" + 0.011*\"use\" + '\n",
            "  '0.010*\"sim\" + 0.009*\"performance\" + 0.008*\"super\" + 0.007*\"mobile\" + '\n",
            "  '0.006*\"beam\"')]\n"
          ]
        }
      ]
    },
    {
      "cell_type": "code",
      "source": [
        "%%time\n",
        "from gensim.models import FastText\n",
        "fasttext_model = FastText(data_words, vector_size= 100, window=5, min_count=5, workers=4,sg=1)\n"
      ],
      "metadata": {
        "colab": {
          "base_uri": "https://localhost:8080/"
        },
        "id": "CTbYl4EVZLjt",
        "outputId": "80d9b4be-0008-47d0-ae4c-2c180f1ade7d"
      },
      "execution_count": 54,
      "outputs": [
        {
          "output_type": "stream",
          "name": "stdout",
          "text": [
            "CPU times: user 17.7 s, sys: 684 ms, total: 18.4 s\n",
            "Wall time: 13.4 s\n"
          ]
        }
      ]
    },
    {
      "cell_type": "code",
      "source": [
        "fasttext_model.save(\"FastText-Model-For-ABSA.bin\")\n",
        "fasttext_model.wv.n_similarity(\"I really like the camera of this phone\", \"battery\")"
      ],
      "metadata": {
        "colab": {
          "base_uri": "https://localhost:8080/"
        },
        "id": "7IsOPX6vZPWy",
        "outputId": "feb2dbdd-3c54-4a0f-c6d0-1bdcbaa44377"
      },
      "execution_count": 55,
      "outputs": [
        {
          "output_type": "execute_result",
          "data": {
            "text/plain": [
              "0.94209504"
            ]
          },
          "metadata": {},
          "execution_count": 55
        }
      ]
    },
    {
      "cell_type": "code",
      "source": [
        "fasttext_model.wv.n_similarity(\"I really like the camera of this phone\", \"camera\")"
      ],
      "metadata": {
        "colab": {
          "base_uri": "https://localhost:8080/"
        },
        "id": "vgENzAXsZTgb",
        "outputId": "435935a3-454d-4269-d11e-57ed874d58ee"
      },
      "execution_count": 56,
      "outputs": [
        {
          "output_type": "execute_result",
          "data": {
            "text/plain": [
              "0.8860596"
            ]
          },
          "metadata": {},
          "execution_count": 56
        }
      ]
    },
    {
      "cell_type": "code",
      "source": [
        "aspects = [\"phone\", \"camera\", \"battery\", \"delivery\", \"processor\"]\n",
        "\n",
        "def get_similarity(text, aspect):\n",
        "    try:\n",
        "        text = \" \".join(text)\n",
        "        return fasttext_model.wv.n_similarity(text, aspect)\n",
        "    except:\n",
        "        return 0\n"
      ],
      "metadata": {
        "id": "zF3Z3avpZWOm"
      },
      "execution_count": 57,
      "outputs": []
    },
    {
      "cell_type": "code",
      "source": [
        "from tqdm import tqdm\n",
        "tqdm.pandas()\n",
        "for aspect in aspects:\n",
        "    df[aspect] = df['clean_review2'].progress_map(lambda text: get_similarity(text, aspect))"
      ],
      "metadata": {
        "colab": {
          "base_uri": "https://localhost:8080/"
        },
        "id": "UeHtZJAVZaOR",
        "outputId": "56b4f368-36ce-4542-d62f-9e950cbe19d7"
      },
      "execution_count": 58,
      "outputs": [
        {
          "output_type": "stream",
          "name": "stderr",
          "text": [
            "100%|██████████| 9606/9606 [00:14<00:00, 656.37it/s]\n",
            "100%|██████████| 9606/9606 [00:13<00:00, 736.35it/s]\n",
            "100%|██████████| 9606/9606 [00:12<00:00, 739.24it/s]\n",
            "100%|██████████| 9606/9606 [00:12<00:00, 755.95it/s]\n",
            "100%|██████████| 9606/9606 [00:13<00:00, 702.08it/s]\n"
          ]
        }
      ]
    },
    {
      "cell_type": "code",
      "source": [
        "df.head()"
      ],
      "metadata": {
        "colab": {
          "base_uri": "https://localhost:8080/",
          "height": 293
        },
        "id": "Xma6O5aBZcd0",
        "outputId": "0bd155c8-2760-4dc9-bf41-878c923b3211"
      },
      "execution_count": 59,
      "outputs": [
        {
          "output_type": "execute_result",
          "data": {
            "text/plain": [
              "                                              review  y  \\\n",
              "0  great phone in budget. .. pubg performance was...  0   \n",
              "1  Best Smartphone by Mi in this Range. . stay in...  0   \n",
              "2  Bad smooth phone. . and back camera quality is...  0   \n",
              "3  Thise is very nice mobile ...I like it very mu...  1   \n",
              "4  I m meagerly dissatisfy 👍 All section r superb...  0   \n",
              "\n",
              "                                        clean_review  \\\n",
              "0  great phone budget pubg performance staccato c...   \n",
              "1  well smartphone mi range stay place r confuse ...   \n",
              "2  bad smooth phone back camera quality evil rear...   \n",
              "3  thise nice mobile I like much delivery also fa...   \n",
              "4  I meagerly dissatisfy thumb section r superb d...   \n",
              "\n",
              "                                       clean_review2     phone    camera  \\\n",
              "0  [great, phone, budget, pubg, performance, stac...  0.897414  0.900291   \n",
              "1  [well, smartphone, mi, range, stay, place, r, ...  0.886355  0.844700   \n",
              "2  [bad, smooth, phone, back, camera, quality, ev...  0.859974  0.900407   \n",
              "3  [thise, nice, mobile, i, like, much, delivery,...  0.859508  0.842999   \n",
              "4  [i, meagerly, dissatisfy, thumb, section, r, s...  0.833354  0.870420   \n",
              "\n",
              "    battery  delivery  processor  \n",
              "0  0.940294  0.909853   0.906168  \n",
              "1  0.938136  0.942399   0.866045  \n",
              "2  0.954339  0.943851   0.911934  \n",
              "3  0.905843  0.960908   0.842282  \n",
              "4  0.961709  0.967955   0.895204  "
            ],
            "text/html": [
              "\n",
              "  <div id=\"df-a53aa6ce-de5a-4402-b2e0-5d2b6ca882a4\" class=\"colab-df-container\">\n",
              "    <div>\n",
              "<style scoped>\n",
              "    .dataframe tbody tr th:only-of-type {\n",
              "        vertical-align: middle;\n",
              "    }\n",
              "\n",
              "    .dataframe tbody tr th {\n",
              "        vertical-align: top;\n",
              "    }\n",
              "\n",
              "    .dataframe thead th {\n",
              "        text-align: right;\n",
              "    }\n",
              "</style>\n",
              "<table border=\"1\" class=\"dataframe\">\n",
              "  <thead>\n",
              "    <tr style=\"text-align: right;\">\n",
              "      <th></th>\n",
              "      <th>review</th>\n",
              "      <th>y</th>\n",
              "      <th>clean_review</th>\n",
              "      <th>clean_review2</th>\n",
              "      <th>phone</th>\n",
              "      <th>camera</th>\n",
              "      <th>battery</th>\n",
              "      <th>delivery</th>\n",
              "      <th>processor</th>\n",
              "    </tr>\n",
              "  </thead>\n",
              "  <tbody>\n",
              "    <tr>\n",
              "      <th>0</th>\n",
              "      <td>great phone in budget. .. pubg performance was...</td>\n",
              "      <td>0</td>\n",
              "      <td>great phone budget pubg performance staccato c...</td>\n",
              "      <td>[great, phone, budget, pubg, performance, stac...</td>\n",
              "      <td>0.897414</td>\n",
              "      <td>0.900291</td>\n",
              "      <td>0.940294</td>\n",
              "      <td>0.909853</td>\n",
              "      <td>0.906168</td>\n",
              "    </tr>\n",
              "    <tr>\n",
              "      <th>1</th>\n",
              "      <td>Best Smartphone by Mi in this Range. . stay in...</td>\n",
              "      <td>0</td>\n",
              "      <td>well smartphone mi range stay place r confuse ...</td>\n",
              "      <td>[well, smartphone, mi, range, stay, place, r, ...</td>\n",
              "      <td>0.886355</td>\n",
              "      <td>0.844700</td>\n",
              "      <td>0.938136</td>\n",
              "      <td>0.942399</td>\n",
              "      <td>0.866045</td>\n",
              "    </tr>\n",
              "    <tr>\n",
              "      <th>2</th>\n",
              "      <td>Bad smooth phone. . and back camera quality is...</td>\n",
              "      <td>0</td>\n",
              "      <td>bad smooth phone back camera quality evil rear...</td>\n",
              "      <td>[bad, smooth, phone, back, camera, quality, ev...</td>\n",
              "      <td>0.859974</td>\n",
              "      <td>0.900407</td>\n",
              "      <td>0.954339</td>\n",
              "      <td>0.943851</td>\n",
              "      <td>0.911934</td>\n",
              "    </tr>\n",
              "    <tr>\n",
              "      <th>3</th>\n",
              "      <td>Thise is very nice mobile ...I like it very mu...</td>\n",
              "      <td>1</td>\n",
              "      <td>thise nice mobile I like much delivery also fa...</td>\n",
              "      <td>[thise, nice, mobile, i, like, much, delivery,...</td>\n",
              "      <td>0.859508</td>\n",
              "      <td>0.842999</td>\n",
              "      <td>0.905843</td>\n",
              "      <td>0.960908</td>\n",
              "      <td>0.842282</td>\n",
              "    </tr>\n",
              "    <tr>\n",
              "      <th>4</th>\n",
              "      <td>I m meagerly dissatisfy 👍 All section r superb...</td>\n",
              "      <td>0</td>\n",
              "      <td>I meagerly dissatisfy thumb section r superb d...</td>\n",
              "      <td>[i, meagerly, dissatisfy, thumb, section, r, s...</td>\n",
              "      <td>0.833354</td>\n",
              "      <td>0.870420</td>\n",
              "      <td>0.961709</td>\n",
              "      <td>0.967955</td>\n",
              "      <td>0.895204</td>\n",
              "    </tr>\n",
              "  </tbody>\n",
              "</table>\n",
              "</div>\n",
              "    <div class=\"colab-df-buttons\">\n",
              "\n",
              "  <div class=\"colab-df-container\">\n",
              "    <button class=\"colab-df-convert\" onclick=\"convertToInteractive('df-a53aa6ce-de5a-4402-b2e0-5d2b6ca882a4')\"\n",
              "            title=\"Convert this dataframe to an interactive table.\"\n",
              "            style=\"display:none;\">\n",
              "\n",
              "  <svg xmlns=\"http://www.w3.org/2000/svg\" height=\"24px\" viewBox=\"0 -960 960 960\">\n",
              "    <path d=\"M120-120v-720h720v720H120Zm60-500h600v-160H180v160Zm220 220h160v-160H400v160Zm0 220h160v-160H400v160ZM180-400h160v-160H180v160Zm440 0h160v-160H620v160ZM180-180h160v-160H180v160Zm440 0h160v-160H620v160Z\"/>\n",
              "  </svg>\n",
              "    </button>\n",
              "\n",
              "  <style>\n",
              "    .colab-df-container {\n",
              "      display:flex;\n",
              "      gap: 12px;\n",
              "    }\n",
              "\n",
              "    .colab-df-convert {\n",
              "      background-color: #E8F0FE;\n",
              "      border: none;\n",
              "      border-radius: 50%;\n",
              "      cursor: pointer;\n",
              "      display: none;\n",
              "      fill: #1967D2;\n",
              "      height: 32px;\n",
              "      padding: 0 0 0 0;\n",
              "      width: 32px;\n",
              "    }\n",
              "\n",
              "    .colab-df-convert:hover {\n",
              "      background-color: #E2EBFA;\n",
              "      box-shadow: 0px 1px 2px rgba(60, 64, 67, 0.3), 0px 1px 3px 1px rgba(60, 64, 67, 0.15);\n",
              "      fill: #174EA6;\n",
              "    }\n",
              "\n",
              "    .colab-df-buttons div {\n",
              "      margin-bottom: 4px;\n",
              "    }\n",
              "\n",
              "    [theme=dark] .colab-df-convert {\n",
              "      background-color: #3B4455;\n",
              "      fill: #D2E3FC;\n",
              "    }\n",
              "\n",
              "    [theme=dark] .colab-df-convert:hover {\n",
              "      background-color: #434B5C;\n",
              "      box-shadow: 0px 1px 3px 1px rgba(0, 0, 0, 0.15);\n",
              "      filter: drop-shadow(0px 1px 2px rgba(0, 0, 0, 0.3));\n",
              "      fill: #FFFFFF;\n",
              "    }\n",
              "  </style>\n",
              "\n",
              "    <script>\n",
              "      const buttonEl =\n",
              "        document.querySelector('#df-a53aa6ce-de5a-4402-b2e0-5d2b6ca882a4 button.colab-df-convert');\n",
              "      buttonEl.style.display =\n",
              "        google.colab.kernel.accessAllowed ? 'block' : 'none';\n",
              "\n",
              "      async function convertToInteractive(key) {\n",
              "        const element = document.querySelector('#df-a53aa6ce-de5a-4402-b2e0-5d2b6ca882a4');\n",
              "        const dataTable =\n",
              "          await google.colab.kernel.invokeFunction('convertToInteractive',\n",
              "                                                    [key], {});\n",
              "        if (!dataTable) return;\n",
              "\n",
              "        const docLinkHtml = 'Like what you see? Visit the ' +\n",
              "          '<a target=\"_blank\" href=https://colab.research.google.com/notebooks/data_table.ipynb>data table notebook</a>'\n",
              "          + ' to learn more about interactive tables.';\n",
              "        element.innerHTML = '';\n",
              "        dataTable['output_type'] = 'display_data';\n",
              "        await google.colab.output.renderOutput(dataTable, element);\n",
              "        const docLink = document.createElement('div');\n",
              "        docLink.innerHTML = docLinkHtml;\n",
              "        element.appendChild(docLink);\n",
              "      }\n",
              "    </script>\n",
              "  </div>\n",
              "\n",
              "\n",
              "<div id=\"df-3df31df8-67fd-47c9-bcda-8b69fe5b0829\">\n",
              "  <button class=\"colab-df-quickchart\" onclick=\"quickchart('df-3df31df8-67fd-47c9-bcda-8b69fe5b0829')\"\n",
              "            title=\"Suggest charts\"\n",
              "            style=\"display:none;\">\n",
              "\n",
              "<svg xmlns=\"http://www.w3.org/2000/svg\" height=\"24px\"viewBox=\"0 0 24 24\"\n",
              "     width=\"24px\">\n",
              "    <g>\n",
              "        <path d=\"M19 3H5c-1.1 0-2 .9-2 2v14c0 1.1.9 2 2 2h14c1.1 0 2-.9 2-2V5c0-1.1-.9-2-2-2zM9 17H7v-7h2v7zm4 0h-2V7h2v10zm4 0h-2v-4h2v4z\"/>\n",
              "    </g>\n",
              "</svg>\n",
              "  </button>\n",
              "\n",
              "<style>\n",
              "  .colab-df-quickchart {\n",
              "      --bg-color: #E8F0FE;\n",
              "      --fill-color: #1967D2;\n",
              "      --hover-bg-color: #E2EBFA;\n",
              "      --hover-fill-color: #174EA6;\n",
              "      --disabled-fill-color: #AAA;\n",
              "      --disabled-bg-color: #DDD;\n",
              "  }\n",
              "\n",
              "  [theme=dark] .colab-df-quickchart {\n",
              "      --bg-color: #3B4455;\n",
              "      --fill-color: #D2E3FC;\n",
              "      --hover-bg-color: #434B5C;\n",
              "      --hover-fill-color: #FFFFFF;\n",
              "      --disabled-bg-color: #3B4455;\n",
              "      --disabled-fill-color: #666;\n",
              "  }\n",
              "\n",
              "  .colab-df-quickchart {\n",
              "    background-color: var(--bg-color);\n",
              "    border: none;\n",
              "    border-radius: 50%;\n",
              "    cursor: pointer;\n",
              "    display: none;\n",
              "    fill: var(--fill-color);\n",
              "    height: 32px;\n",
              "    padding: 0;\n",
              "    width: 32px;\n",
              "  }\n",
              "\n",
              "  .colab-df-quickchart:hover {\n",
              "    background-color: var(--hover-bg-color);\n",
              "    box-shadow: 0 1px 2px rgba(60, 64, 67, 0.3), 0 1px 3px 1px rgba(60, 64, 67, 0.15);\n",
              "    fill: var(--button-hover-fill-color);\n",
              "  }\n",
              "\n",
              "  .colab-df-quickchart-complete:disabled,\n",
              "  .colab-df-quickchart-complete:disabled:hover {\n",
              "    background-color: var(--disabled-bg-color);\n",
              "    fill: var(--disabled-fill-color);\n",
              "    box-shadow: none;\n",
              "  }\n",
              "\n",
              "  .colab-df-spinner {\n",
              "    border: 2px solid var(--fill-color);\n",
              "    border-color: transparent;\n",
              "    border-bottom-color: var(--fill-color);\n",
              "    animation:\n",
              "      spin 1s steps(1) infinite;\n",
              "  }\n",
              "\n",
              "  @keyframes spin {\n",
              "    0% {\n",
              "      border-color: transparent;\n",
              "      border-bottom-color: var(--fill-color);\n",
              "      border-left-color: var(--fill-color);\n",
              "    }\n",
              "    20% {\n",
              "      border-color: transparent;\n",
              "      border-left-color: var(--fill-color);\n",
              "      border-top-color: var(--fill-color);\n",
              "    }\n",
              "    30% {\n",
              "      border-color: transparent;\n",
              "      border-left-color: var(--fill-color);\n",
              "      border-top-color: var(--fill-color);\n",
              "      border-right-color: var(--fill-color);\n",
              "    }\n",
              "    40% {\n",
              "      border-color: transparent;\n",
              "      border-right-color: var(--fill-color);\n",
              "      border-top-color: var(--fill-color);\n",
              "    }\n",
              "    60% {\n",
              "      border-color: transparent;\n",
              "      border-right-color: var(--fill-color);\n",
              "    }\n",
              "    80% {\n",
              "      border-color: transparent;\n",
              "      border-right-color: var(--fill-color);\n",
              "      border-bottom-color: var(--fill-color);\n",
              "    }\n",
              "    90% {\n",
              "      border-color: transparent;\n",
              "      border-bottom-color: var(--fill-color);\n",
              "    }\n",
              "  }\n",
              "</style>\n",
              "\n",
              "  <script>\n",
              "    async function quickchart(key) {\n",
              "      const quickchartButtonEl =\n",
              "        document.querySelector('#' + key + ' button');\n",
              "      quickchartButtonEl.disabled = true;  // To prevent multiple clicks.\n",
              "      quickchartButtonEl.classList.add('colab-df-spinner');\n",
              "      try {\n",
              "        const charts = await google.colab.kernel.invokeFunction(\n",
              "            'suggestCharts', [key], {});\n",
              "      } catch (error) {\n",
              "        console.error('Error during call to suggestCharts:', error);\n",
              "      }\n",
              "      quickchartButtonEl.classList.remove('colab-df-spinner');\n",
              "      quickchartButtonEl.classList.add('colab-df-quickchart-complete');\n",
              "    }\n",
              "    (() => {\n",
              "      let quickchartButtonEl =\n",
              "        document.querySelector('#df-3df31df8-67fd-47c9-bcda-8b69fe5b0829 button');\n",
              "      quickchartButtonEl.style.display =\n",
              "        google.colab.kernel.accessAllowed ? 'block' : 'none';\n",
              "    })();\n",
              "  </script>\n",
              "</div>\n",
              "\n",
              "    </div>\n",
              "  </div>\n"
            ],
            "application/vnd.google.colaboratory.intrinsic+json": {
              "type": "dataframe",
              "variable_name": "df",
              "summary": "{\n  \"name\": \"df\",\n  \"rows\": 9606,\n  \"fields\": [\n    {\n      \"column\": \"review\",\n      \"properties\": {\n        \"dtype\": \"string\",\n        \"num_unique_values\": 7401,\n        \"samples\": [\n          \"Very decent phone for daily use, and very nice that you are getting 4 gb ram under 8000 rupees, FM without headphone is awesome.\",\n          \"Super phone I gifted my dad, he was very unhappy and it take paranormal calls in 4 to 5 days in double charge\",\n          \"Mobile good and battery backup also good Most important thing isThat is display too much strong other than\"\n        ],\n        \"semantic_type\": \"\",\n        \"description\": \"\"\n      }\n    },\n    {\n      \"column\": \"y\",\n      \"properties\": {\n        \"dtype\": \"number\",\n        \"std\": 0,\n        \"min\": 0,\n        \"max\": 1,\n        \"num_unique_values\": 2,\n        \"samples\": [\n          1,\n          0\n        ],\n        \"semantic_type\": \"\",\n        \"description\": \"\"\n      }\n    },\n    {\n      \"column\": \"clean_review\",\n      \"properties\": {\n        \"dtype\": \"string\",\n        \"num_unique_values\": 7374,\n        \"samples\": [\n          \"nice fantastic product I love product I suggest buy nice product I buy green colour product I love product\",\n          \"I gift momshe love ideal phone parent easy operation great camera battery performance price range\"\n        ],\n        \"semantic_type\": \"\",\n        \"description\": \"\"\n      }\n    },\n    {\n      \"column\": \"clean_review2\",\n      \"properties\": {\n        \"dtype\": \"object\",\n        \"semantic_type\": \"\",\n        \"description\": \"\"\n      }\n    },\n    {\n      \"column\": \"phone\",\n      \"properties\": {\n        \"dtype\": \"float32\",\n        \"num_unique_values\": 7325,\n        \"samples\": [\n          0.8412797451019287,\n          0.878044843673706\n        ],\n        \"semantic_type\": \"\",\n        \"description\": \"\"\n      }\n    },\n    {\n      \"column\": \"camera\",\n      \"properties\": {\n        \"dtype\": \"float32\",\n        \"num_unique_values\": 7325,\n        \"samples\": [\n          0.841660737991333,\n          0.9022607803344727\n        ],\n        \"semantic_type\": \"\",\n        \"description\": \"\"\n      }\n    },\n    {\n      \"column\": \"battery\",\n      \"properties\": {\n        \"dtype\": \"float32\",\n        \"num_unique_values\": 7303,\n        \"samples\": [\n          0.9530739784240723,\n          0.9385793209075928\n        ],\n        \"semantic_type\": \"\",\n        \"description\": \"\"\n      }\n    },\n    {\n      \"column\": \"delivery\",\n      \"properties\": {\n        \"dtype\": \"float32\",\n        \"num_unique_values\": 7324,\n        \"samples\": [\n          0.964404821395874,\n          0.9456853270530701\n        ],\n        \"semantic_type\": \"\",\n        \"description\": \"\"\n      }\n    },\n    {\n      \"column\": \"processor\",\n      \"properties\": {\n        \"dtype\": \"float32\",\n        \"num_unique_values\": 7309,\n        \"samples\": [\n          0.8874587416648865,\n          0.9039551019668579\n        ],\n        \"semantic_type\": \"\",\n        \"description\": \"\"\n      }\n    }\n  ]\n}"
            }
          },
          "metadata": {},
          "execution_count": 59
        }
      ]
    },
    {
      "cell_type": "code",
      "source": [
        "df.to_csv(\"Clean_Product.csv\", index = False)"
      ],
      "metadata": {
        "id": "73LrzbE_Zenb"
      },
      "execution_count": 60,
      "outputs": []
    },
    {
      "cell_type": "code",
      "source": [
        "import torch\n",
        "from torch import nn\n",
        "from torch.utils.data import Dataset\n",
        "from torch.utils.data import DataLoader\n",
        "from torch.utils.data import RandomSampler\n",
        "import warnings"
      ],
      "metadata": {
        "id": "mZRbHHN6ZjgR"
      },
      "execution_count": 61,
      "outputs": []
    },
    {
      "cell_type": "code",
      "source": [
        "class config:\n",
        "    warnings.filterwarnings(\"ignore\", category = UserWarning)\n",
        "    IMG_SIZE = (224,224)\n",
        "    DEVICE = (\"cuda\" if torch.cuda.is_available() else \"cpu\")\n",
        "    FOLDS = 5\n",
        "    SHUFFLE = True\n",
        "    BATCH_SIZE = 32\n",
        "    LR = 0.01\n",
        "    EPOCHS = 30\n",
        "    EMB_DIM = 100\n",
        "    MAX_LEN = 20\n",
        "    MODEL_PATH = \"./Models/MyModel.pt\""
      ],
      "metadata": {
        "id": "xIlTNb4YZjjc"
      },
      "execution_count": 62,
      "outputs": []
    },
    {
      "cell_type": "code",
      "source": [
        "df = pd.read_csv(\"Clean_Product.csv\")\n",
        "df.head()"
      ],
      "metadata": {
        "colab": {
          "base_uri": "https://localhost:8080/",
          "height": 293
        },
        "id": "QXxMV69kZjk8",
        "outputId": "762f7444-9171-4207-db8c-ce00bc926a71"
      },
      "execution_count": 63,
      "outputs": [
        {
          "output_type": "execute_result",
          "data": {
            "text/plain": [
              "                                              review  y  \\\n",
              "0  great phone in budget. .. pubg performance was...  0   \n",
              "1  Best Smartphone by Mi in this Range. . stay in...  0   \n",
              "2  Bad smooth phone. . and back camera quality is...  0   \n",
              "3  Thise is very nice mobile ...I like it very mu...  1   \n",
              "4  I m meagerly dissatisfy 👍 All section r superb...  0   \n",
              "\n",
              "                                        clean_review  \\\n",
              "0  great phone budget pubg performance staccato c...   \n",
              "1  well smartphone mi range stay place r confuse ...   \n",
              "2  bad smooth phone back camera quality evil rear...   \n",
              "3  thise nice mobile I like much delivery also fa...   \n",
              "4  I meagerly dissatisfy thumb section r superb d...   \n",
              "\n",
              "                                       clean_review2     phone    camera  \\\n",
              "0  ['great', 'phone', 'budget', 'pubg', 'performa...  0.897414  0.900291   \n",
              "1  ['well', 'smartphone', 'mi', 'range', 'stay', ...  0.886355  0.844700   \n",
              "2  ['bad', 'smooth', 'phone', 'back', 'camera', '...  0.859974  0.900407   \n",
              "3  ['thise', 'nice', 'mobile', 'i', 'like', 'much...  0.859508  0.842999   \n",
              "4  ['i', 'meagerly', 'dissatisfy', 'thumb', 'sect...  0.833354  0.870420   \n",
              "\n",
              "    battery  delivery  processor  \n",
              "0  0.940294  0.909853   0.906168  \n",
              "1  0.938136  0.942399   0.866044  \n",
              "2  0.954339  0.943851   0.911934  \n",
              "3  0.905843  0.960908   0.842282  \n",
              "4  0.961709  0.967955   0.895204  "
            ],
            "text/html": [
              "\n",
              "  <div id=\"df-89ecf4b7-dbf0-4f6e-9fd3-ad82f961c06b\" class=\"colab-df-container\">\n",
              "    <div>\n",
              "<style scoped>\n",
              "    .dataframe tbody tr th:only-of-type {\n",
              "        vertical-align: middle;\n",
              "    }\n",
              "\n",
              "    .dataframe tbody tr th {\n",
              "        vertical-align: top;\n",
              "    }\n",
              "\n",
              "    .dataframe thead th {\n",
              "        text-align: right;\n",
              "    }\n",
              "</style>\n",
              "<table border=\"1\" class=\"dataframe\">\n",
              "  <thead>\n",
              "    <tr style=\"text-align: right;\">\n",
              "      <th></th>\n",
              "      <th>review</th>\n",
              "      <th>y</th>\n",
              "      <th>clean_review</th>\n",
              "      <th>clean_review2</th>\n",
              "      <th>phone</th>\n",
              "      <th>camera</th>\n",
              "      <th>battery</th>\n",
              "      <th>delivery</th>\n",
              "      <th>processor</th>\n",
              "    </tr>\n",
              "  </thead>\n",
              "  <tbody>\n",
              "    <tr>\n",
              "      <th>0</th>\n",
              "      <td>great phone in budget. .. pubg performance was...</td>\n",
              "      <td>0</td>\n",
              "      <td>great phone budget pubg performance staccato c...</td>\n",
              "      <td>['great', 'phone', 'budget', 'pubg', 'performa...</td>\n",
              "      <td>0.897414</td>\n",
              "      <td>0.900291</td>\n",
              "      <td>0.940294</td>\n",
              "      <td>0.909853</td>\n",
              "      <td>0.906168</td>\n",
              "    </tr>\n",
              "    <tr>\n",
              "      <th>1</th>\n",
              "      <td>Best Smartphone by Mi in this Range. . stay in...</td>\n",
              "      <td>0</td>\n",
              "      <td>well smartphone mi range stay place r confuse ...</td>\n",
              "      <td>['well', 'smartphone', 'mi', 'range', 'stay', ...</td>\n",
              "      <td>0.886355</td>\n",
              "      <td>0.844700</td>\n",
              "      <td>0.938136</td>\n",
              "      <td>0.942399</td>\n",
              "      <td>0.866044</td>\n",
              "    </tr>\n",
              "    <tr>\n",
              "      <th>2</th>\n",
              "      <td>Bad smooth phone. . and back camera quality is...</td>\n",
              "      <td>0</td>\n",
              "      <td>bad smooth phone back camera quality evil rear...</td>\n",
              "      <td>['bad', 'smooth', 'phone', 'back', 'camera', '...</td>\n",
              "      <td>0.859974</td>\n",
              "      <td>0.900407</td>\n",
              "      <td>0.954339</td>\n",
              "      <td>0.943851</td>\n",
              "      <td>0.911934</td>\n",
              "    </tr>\n",
              "    <tr>\n",
              "      <th>3</th>\n",
              "      <td>Thise is very nice mobile ...I like it very mu...</td>\n",
              "      <td>1</td>\n",
              "      <td>thise nice mobile I like much delivery also fa...</td>\n",
              "      <td>['thise', 'nice', 'mobile', 'i', 'like', 'much...</td>\n",
              "      <td>0.859508</td>\n",
              "      <td>0.842999</td>\n",
              "      <td>0.905843</td>\n",
              "      <td>0.960908</td>\n",
              "      <td>0.842282</td>\n",
              "    </tr>\n",
              "    <tr>\n",
              "      <th>4</th>\n",
              "      <td>I m meagerly dissatisfy 👍 All section r superb...</td>\n",
              "      <td>0</td>\n",
              "      <td>I meagerly dissatisfy thumb section r superb d...</td>\n",
              "      <td>['i', 'meagerly', 'dissatisfy', 'thumb', 'sect...</td>\n",
              "      <td>0.833354</td>\n",
              "      <td>0.870420</td>\n",
              "      <td>0.961709</td>\n",
              "      <td>0.967955</td>\n",
              "      <td>0.895204</td>\n",
              "    </tr>\n",
              "  </tbody>\n",
              "</table>\n",
              "</div>\n",
              "    <div class=\"colab-df-buttons\">\n",
              "\n",
              "  <div class=\"colab-df-container\">\n",
              "    <button class=\"colab-df-convert\" onclick=\"convertToInteractive('df-89ecf4b7-dbf0-4f6e-9fd3-ad82f961c06b')\"\n",
              "            title=\"Convert this dataframe to an interactive table.\"\n",
              "            style=\"display:none;\">\n",
              "\n",
              "  <svg xmlns=\"http://www.w3.org/2000/svg\" height=\"24px\" viewBox=\"0 -960 960 960\">\n",
              "    <path d=\"M120-120v-720h720v720H120Zm60-500h600v-160H180v160Zm220 220h160v-160H400v160Zm0 220h160v-160H400v160ZM180-400h160v-160H180v160Zm440 0h160v-160H620v160ZM180-180h160v-160H180v160Zm440 0h160v-160H620v160Z\"/>\n",
              "  </svg>\n",
              "    </button>\n",
              "\n",
              "  <style>\n",
              "    .colab-df-container {\n",
              "      display:flex;\n",
              "      gap: 12px;\n",
              "    }\n",
              "\n",
              "    .colab-df-convert {\n",
              "      background-color: #E8F0FE;\n",
              "      border: none;\n",
              "      border-radius: 50%;\n",
              "      cursor: pointer;\n",
              "      display: none;\n",
              "      fill: #1967D2;\n",
              "      height: 32px;\n",
              "      padding: 0 0 0 0;\n",
              "      width: 32px;\n",
              "    }\n",
              "\n",
              "    .colab-df-convert:hover {\n",
              "      background-color: #E2EBFA;\n",
              "      box-shadow: 0px 1px 2px rgba(60, 64, 67, 0.3), 0px 1px 3px 1px rgba(60, 64, 67, 0.15);\n",
              "      fill: #174EA6;\n",
              "    }\n",
              "\n",
              "    .colab-df-buttons div {\n",
              "      margin-bottom: 4px;\n",
              "    }\n",
              "\n",
              "    [theme=dark] .colab-df-convert {\n",
              "      background-color: #3B4455;\n",
              "      fill: #D2E3FC;\n",
              "    }\n",
              "\n",
              "    [theme=dark] .colab-df-convert:hover {\n",
              "      background-color: #434B5C;\n",
              "      box-shadow: 0px 1px 3px 1px rgba(0, 0, 0, 0.15);\n",
              "      filter: drop-shadow(0px 1px 2px rgba(0, 0, 0, 0.3));\n",
              "      fill: #FFFFFF;\n",
              "    }\n",
              "  </style>\n",
              "\n",
              "    <script>\n",
              "      const buttonEl =\n",
              "        document.querySelector('#df-89ecf4b7-dbf0-4f6e-9fd3-ad82f961c06b button.colab-df-convert');\n",
              "      buttonEl.style.display =\n",
              "        google.colab.kernel.accessAllowed ? 'block' : 'none';\n",
              "\n",
              "      async function convertToInteractive(key) {\n",
              "        const element = document.querySelector('#df-89ecf4b7-dbf0-4f6e-9fd3-ad82f961c06b');\n",
              "        const dataTable =\n",
              "          await google.colab.kernel.invokeFunction('convertToInteractive',\n",
              "                                                    [key], {});\n",
              "        if (!dataTable) return;\n",
              "\n",
              "        const docLinkHtml = 'Like what you see? Visit the ' +\n",
              "          '<a target=\"_blank\" href=https://colab.research.google.com/notebooks/data_table.ipynb>data table notebook</a>'\n",
              "          + ' to learn more about interactive tables.';\n",
              "        element.innerHTML = '';\n",
              "        dataTable['output_type'] = 'display_data';\n",
              "        await google.colab.output.renderOutput(dataTable, element);\n",
              "        const docLink = document.createElement('div');\n",
              "        docLink.innerHTML = docLinkHtml;\n",
              "        element.appendChild(docLink);\n",
              "      }\n",
              "    </script>\n",
              "  </div>\n",
              "\n",
              "\n",
              "<div id=\"df-caefe71a-5e48-4889-aefc-0ae4b3797fb3\">\n",
              "  <button class=\"colab-df-quickchart\" onclick=\"quickchart('df-caefe71a-5e48-4889-aefc-0ae4b3797fb3')\"\n",
              "            title=\"Suggest charts\"\n",
              "            style=\"display:none;\">\n",
              "\n",
              "<svg xmlns=\"http://www.w3.org/2000/svg\" height=\"24px\"viewBox=\"0 0 24 24\"\n",
              "     width=\"24px\">\n",
              "    <g>\n",
              "        <path d=\"M19 3H5c-1.1 0-2 .9-2 2v14c0 1.1.9 2 2 2h14c1.1 0 2-.9 2-2V5c0-1.1-.9-2-2-2zM9 17H7v-7h2v7zm4 0h-2V7h2v10zm4 0h-2v-4h2v4z\"/>\n",
              "    </g>\n",
              "</svg>\n",
              "  </button>\n",
              "\n",
              "<style>\n",
              "  .colab-df-quickchart {\n",
              "      --bg-color: #E8F0FE;\n",
              "      --fill-color: #1967D2;\n",
              "      --hover-bg-color: #E2EBFA;\n",
              "      --hover-fill-color: #174EA6;\n",
              "      --disabled-fill-color: #AAA;\n",
              "      --disabled-bg-color: #DDD;\n",
              "  }\n",
              "\n",
              "  [theme=dark] .colab-df-quickchart {\n",
              "      --bg-color: #3B4455;\n",
              "      --fill-color: #D2E3FC;\n",
              "      --hover-bg-color: #434B5C;\n",
              "      --hover-fill-color: #FFFFFF;\n",
              "      --disabled-bg-color: #3B4455;\n",
              "      --disabled-fill-color: #666;\n",
              "  }\n",
              "\n",
              "  .colab-df-quickchart {\n",
              "    background-color: var(--bg-color);\n",
              "    border: none;\n",
              "    border-radius: 50%;\n",
              "    cursor: pointer;\n",
              "    display: none;\n",
              "    fill: var(--fill-color);\n",
              "    height: 32px;\n",
              "    padding: 0;\n",
              "    width: 32px;\n",
              "  }\n",
              "\n",
              "  .colab-df-quickchart:hover {\n",
              "    background-color: var(--hover-bg-color);\n",
              "    box-shadow: 0 1px 2px rgba(60, 64, 67, 0.3), 0 1px 3px 1px rgba(60, 64, 67, 0.15);\n",
              "    fill: var(--button-hover-fill-color);\n",
              "  }\n",
              "\n",
              "  .colab-df-quickchart-complete:disabled,\n",
              "  .colab-df-quickchart-complete:disabled:hover {\n",
              "    background-color: var(--disabled-bg-color);\n",
              "    fill: var(--disabled-fill-color);\n",
              "    box-shadow: none;\n",
              "  }\n",
              "\n",
              "  .colab-df-spinner {\n",
              "    border: 2px solid var(--fill-color);\n",
              "    border-color: transparent;\n",
              "    border-bottom-color: var(--fill-color);\n",
              "    animation:\n",
              "      spin 1s steps(1) infinite;\n",
              "  }\n",
              "\n",
              "  @keyframes spin {\n",
              "    0% {\n",
              "      border-color: transparent;\n",
              "      border-bottom-color: var(--fill-color);\n",
              "      border-left-color: var(--fill-color);\n",
              "    }\n",
              "    20% {\n",
              "      border-color: transparent;\n",
              "      border-left-color: var(--fill-color);\n",
              "      border-top-color: var(--fill-color);\n",
              "    }\n",
              "    30% {\n",
              "      border-color: transparent;\n",
              "      border-left-color: var(--fill-color);\n",
              "      border-top-color: var(--fill-color);\n",
              "      border-right-color: var(--fill-color);\n",
              "    }\n",
              "    40% {\n",
              "      border-color: transparent;\n",
              "      border-right-color: var(--fill-color);\n",
              "      border-top-color: var(--fill-color);\n",
              "    }\n",
              "    60% {\n",
              "      border-color: transparent;\n",
              "      border-right-color: var(--fill-color);\n",
              "    }\n",
              "    80% {\n",
              "      border-color: transparent;\n",
              "      border-right-color: var(--fill-color);\n",
              "      border-bottom-color: var(--fill-color);\n",
              "    }\n",
              "    90% {\n",
              "      border-color: transparent;\n",
              "      border-bottom-color: var(--fill-color);\n",
              "    }\n",
              "  }\n",
              "</style>\n",
              "\n",
              "  <script>\n",
              "    async function quickchart(key) {\n",
              "      const quickchartButtonEl =\n",
              "        document.querySelector('#' + key + ' button');\n",
              "      quickchartButtonEl.disabled = true;  // To prevent multiple clicks.\n",
              "      quickchartButtonEl.classList.add('colab-df-spinner');\n",
              "      try {\n",
              "        const charts = await google.colab.kernel.invokeFunction(\n",
              "            'suggestCharts', [key], {});\n",
              "      } catch (error) {\n",
              "        console.error('Error during call to suggestCharts:', error);\n",
              "      }\n",
              "      quickchartButtonEl.classList.remove('colab-df-spinner');\n",
              "      quickchartButtonEl.classList.add('colab-df-quickchart-complete');\n",
              "    }\n",
              "    (() => {\n",
              "      let quickchartButtonEl =\n",
              "        document.querySelector('#df-caefe71a-5e48-4889-aefc-0ae4b3797fb3 button');\n",
              "      quickchartButtonEl.style.display =\n",
              "        google.colab.kernel.accessAllowed ? 'block' : 'none';\n",
              "    })();\n",
              "  </script>\n",
              "</div>\n",
              "\n",
              "    </div>\n",
              "  </div>\n"
            ],
            "application/vnd.google.colaboratory.intrinsic+json": {
              "type": "dataframe",
              "variable_name": "df",
              "summary": "{\n  \"name\": \"df\",\n  \"rows\": 9606,\n  \"fields\": [\n    {\n      \"column\": \"review\",\n      \"properties\": {\n        \"dtype\": \"string\",\n        \"num_unique_values\": 7401,\n        \"samples\": [\n          \"Very decent phone for daily use, and very nice that you are getting 4 gb ram under 8000 rupees, FM without headphone is awesome.\",\n          \"Super phone I gifted my dad, he was very unhappy and it take paranormal calls in 4 to 5 days in double charge\",\n          \"Mobile good and battery backup also good Most important thing isThat is display too much strong other than\"\n        ],\n        \"semantic_type\": \"\",\n        \"description\": \"\"\n      }\n    },\n    {\n      \"column\": \"y\",\n      \"properties\": {\n        \"dtype\": \"number\",\n        \"std\": 0,\n        \"min\": 0,\n        \"max\": 1,\n        \"num_unique_values\": 2,\n        \"samples\": [\n          1,\n          0\n        ],\n        \"semantic_type\": \"\",\n        \"description\": \"\"\n      }\n    },\n    {\n      \"column\": \"clean_review\",\n      \"properties\": {\n        \"dtype\": \"string\",\n        \"num_unique_values\": 7374,\n        \"samples\": [\n          \"nice fantastic product I love product I suggest buy nice product I buy green colour product I love product\",\n          \"I gift momshe love ideal phone parent easy operation great camera battery performance price range\"\n        ],\n        \"semantic_type\": \"\",\n        \"description\": \"\"\n      }\n    },\n    {\n      \"column\": \"clean_review2\",\n      \"properties\": {\n        \"dtype\": \"string\",\n        \"num_unique_values\": 7374,\n        \"samples\": [\n          \"['nice', 'fantastic', 'product', 'i', 'love', 'product', 'i', 'suggest', 'buy', 'nice', 'product', 'i', 'buy', 'green', 'colour', 'product', 'i', 'love', 'product']\",\n          \"['i', 'gift', 'momshe', 'love', 'ideal', 'phone', 'parent', 'easy', 'operation', 'great', 'camera', 'battery', 'performance', 'price', 'range']\"\n        ],\n        \"semantic_type\": \"\",\n        \"description\": \"\"\n      }\n    },\n    {\n      \"column\": \"phone\",\n      \"properties\": {\n        \"dtype\": \"number\",\n        \"std\": 0.027017427747268202,\n        \"min\": 0.7417182,\n        \"max\": 0.9524803,\n        \"num_unique_values\": 7325,\n        \"samples\": [\n          0.84127975,\n          0.87804484\n        ],\n        \"semantic_type\": \"\",\n        \"description\": \"\"\n      }\n    },\n    {\n      \"column\": \"camera\",\n      \"properties\": {\n        \"dtype\": \"number\",\n        \"std\": 0.031757259222232125,\n        \"min\": 0.73375905,\n        \"max\": 0.96417516,\n        \"num_unique_values\": 7325,\n        \"samples\": [\n          0.84166074,\n          0.9022608\n        ],\n        \"semantic_type\": \"\",\n        \"description\": \"\"\n      }\n    },\n    {\n      \"column\": \"battery\",\n      \"properties\": {\n        \"dtype\": \"number\",\n        \"std\": 0.015762084149833773,\n        \"min\": 0.8362957,\n        \"max\": 0.98380464,\n        \"num_unique_values\": 7303,\n        \"samples\": [\n          0.953074,\n          0.9385793\n        ],\n        \"semantic_type\": \"\",\n        \"description\": \"\"\n      }\n    },\n    {\n      \"column\": \"delivery\",\n      \"properties\": {\n        \"dtype\": \"number\",\n        \"std\": 0.021555527930145403,\n        \"min\": 0.80286944,\n        \"max\": 0.99151736,\n        \"num_unique_values\": 7324,\n        \"samples\": [\n          0.9644048,\n          0.9456853\n        ],\n        \"semantic_type\": \"\",\n        \"description\": \"\"\n      }\n    },\n    {\n      \"column\": \"processor\",\n      \"properties\": {\n        \"dtype\": \"number\",\n        \"std\": 0.027411380810926745,\n        \"min\": 0.7627222,\n        \"max\": 0.9591895,\n        \"num_unique_values\": 7309,\n        \"samples\": [\n          0.88745874,\n          0.9039551\n        ],\n        \"semantic_type\": \"\",\n        \"description\": \"\"\n      }\n    }\n  ]\n}"
            }
          },
          "metadata": {},
          "execution_count": 63
        }
      ]
    },
    {
      "cell_type": "code",
      "source": [
        "class Vocabulary:\n",
        "\n",
        "    '''\n",
        "    __init__ method is called by default as soon as an object of this class is initiated\n",
        "    we use this method to initiate our vocab dictionaries\n",
        "    '''\n",
        "    def __init__(self, freq_threshold, max_size):\n",
        "        '''\n",
        "        freq_threshold : the minimum times a word must occur in corpus to be treated in vocab\n",
        "        max_size : max source vocab size. Eg. if set to 10,000, we pick the top 10,000 most frequent words and discard others\n",
        "        '''\n",
        "        #initiate the index to token dict\n",
        "        ## <PAD> -> padding, used for padding the shorter sentences in a batch to match the length of longest sentence in the batch\n",
        "        ## <SOS> -> start token, added in front of each sentence to signify the start of sentence\n",
        "        ## <EOS> -> End of sentence token, added to the end of each sentence to signify the end of sentence\n",
        "        ## <UNK> -> words which are not found in the vocab are replace by this token\n",
        "        self.itos = {0: '<PAD>', 1:'<SOS>', 2:'<EOS>', 3: '<UNK>'}\n",
        "        #initiate the token to index dict\n",
        "        self.stoi = {k:j for j,k in self.itos.items()}\n",
        "\n",
        "        self.freq_threshold = freq_threshold\n",
        "        self.max_size = max_size\n",
        "\n",
        "    '''\n",
        "    __len__ is used by dataloader later to create batches\n",
        "    '''\n",
        "    def __len__(self):\n",
        "        return len(self.itos)\n",
        "\n",
        "    '''\n",
        "    a simple tokenizer to split on space and converts the sentence to list of words\n",
        "    '''\n",
        "    @staticmethod\n",
        "    def tokenizer(text):\n",
        "        return [tok.lower().strip() for tok in text.split(' ')]\n",
        "\n",
        "    '''\n",
        "    build the vocab: create a dictionary mapping of index to string (itos) and string to index (stoi)\n",
        "    output ex. for stoi -> {'the':5, 'a':6, 'an':7}\n",
        "    '''\n",
        "    def build_vocabulary(self, sentence_list):\n",
        "        #calculate the frequencies of each word first to remove the words with freq < freq_threshold\n",
        "        frequencies = {}  #init the freq dict\n",
        "        idx = 4 #index from which we want our dict to start. We already used 4 indexes for pad, start, end, unk\n",
        "\n",
        "        #calculate freq of words\n",
        "        for sentence in sentence_list:\n",
        "            for word in self.tokenizer(sentence):\n",
        "                if word not in frequencies.keys():\n",
        "                    frequencies[word]=1\n",
        "                else:\n",
        "                    frequencies[word]+=1\n",
        "\n",
        "\n",
        "        #limit vocab by removing low freq words\n",
        "        frequencies = {k:v for k,v in frequencies.items() if v>self.freq_threshold}\n",
        "\n",
        "        #limit vocab to the max_size specified\n",
        "        frequencies = dict(sorted(frequencies.items(), key = lambda x: -x[1])[:self.max_size-idx]) # idx =4 for pad, start, end , unk\n",
        "\n",
        "        #create vocab\n",
        "        for word in frequencies.keys():\n",
        "            self.stoi[word] = idx\n",
        "            self.itos[idx] = word\n",
        "            idx+=1\n",
        "\n",
        "\n",
        "    '''\n",
        "    convert the list of words to a list of corresponding indexes\n",
        "    '''\n",
        "    def numericalize(self, text):\n",
        "        #tokenize text\n",
        "        tokenized_text = self.tokenizer(text)\n",
        "        numericalized_text = []\n",
        "        for token in tokenized_text:\n",
        "            if token in self.stoi.keys():\n",
        "                numericalized_text.append(self.stoi[token])\n",
        "            else: #out-of-vocab words are represented by UNK token index\n",
        "                numericalized_text.append(self.stoi['<UNK>'])\n",
        "\n",
        "        return numericalized_text\n"
      ],
      "metadata": {
        "id": "_fl7XmLEZjmv"
      },
      "execution_count": 64,
      "outputs": []
    },
    {
      "cell_type": "code",
      "source": [
        "from torch.utils.data import Dataset\n",
        "\n",
        "class CustomDataset(Dataset):\n",
        "    '''\n",
        "    Initiating Variables\n",
        "    df: the training dataframe\n",
        "    source_column : the name of source text column in the dataframe\n",
        "    transform : If we want to add any augmentation\n",
        "    freq_threshold : the minimum times a word must occur in corpus to be treated in vocab\n",
        "    source_vocab_max_size : max source vocab size\n",
        "    '''\n",
        "\n",
        "    def __init__(self, df, source_column,freq_threshold = 3,\n",
        "                source_vocab_max_size = 10000 , transform=None):\n",
        "\n",
        "        self.df = df\n",
        "        self.transform = transform\n",
        "\n",
        "        #get source and target texts\n",
        "        self.source_texts = self.df[source_column]\n",
        "\n",
        "\n",
        "        ##VOCAB class has been created above\n",
        "        #Initialize source vocab object and build vocabulary\n",
        "        self.source_vocab = Vocabulary(freq_threshold, source_vocab_max_size)\n",
        "        self.source_vocab.build_vocabulary(self.source_texts.tolist())\n",
        "\n",
        "\n",
        "    def __len__(self):\n",
        "        return len(self.df)\n",
        "\n",
        "    '''\n",
        "    __getitem__ runs on 1 example at a time. Here, we get an example at index and return its numericalize source and\n",
        "    target values using the vocabulary objects we created in __init__\n",
        "    '''\n",
        "    def __getitem__(self, index):\n",
        "        source_text = self.source_texts[index]\n",
        "\n",
        "        if self.transform is not None:\n",
        "            source_text = self.transform(source_text)\n",
        "\n",
        "        #numericalize texts ['<SOS>','cat', 'in', 'a', 'bag','<EOS>'] -> [1,12,2,9,24,2]\n",
        "        numerialized_source = [self.source_vocab.stoi[\"<SOS>\"]]\n",
        "        numerialized_source += self.source_vocab.numericalize(source_text)\n",
        "        numerialized_source.append(self.source_vocab.stoi[\"<EOS>\"])\n",
        "\n",
        "        #convert the list to tensor and return\n",
        "        return torch.tensor(numerialized_source), torch.tensor(self.df.y[index])\n"
      ],
      "metadata": {
        "id": "56sEyLHxZ8kr"
      },
      "execution_count": 65,
      "outputs": []
    },
    {
      "cell_type": "code",
      "source": [
        "df.head()"
      ],
      "metadata": {
        "colab": {
          "base_uri": "https://localhost:8080/",
          "height": 293
        },
        "id": "gWqBYWI5aCmv",
        "outputId": "b74e273f-3c97-476f-dece-32d9106e4a7b"
      },
      "execution_count": 66,
      "outputs": [
        {
          "output_type": "execute_result",
          "data": {
            "text/plain": [
              "                                              review  y  \\\n",
              "0  great phone in budget. .. pubg performance was...  0   \n",
              "1  Best Smartphone by Mi in this Range. . stay in...  0   \n",
              "2  Bad smooth phone. . and back camera quality is...  0   \n",
              "3  Thise is very nice mobile ...I like it very mu...  1   \n",
              "4  I m meagerly dissatisfy 👍 All section r superb...  0   \n",
              "\n",
              "                                        clean_review  \\\n",
              "0  great phone budget pubg performance staccato c...   \n",
              "1  well smartphone mi range stay place r confuse ...   \n",
              "2  bad smooth phone back camera quality evil rear...   \n",
              "3  thise nice mobile I like much delivery also fa...   \n",
              "4  I meagerly dissatisfy thumb section r superb d...   \n",
              "\n",
              "                                       clean_review2     phone    camera  \\\n",
              "0  ['great', 'phone', 'budget', 'pubg', 'performa...  0.897414  0.900291   \n",
              "1  ['well', 'smartphone', 'mi', 'range', 'stay', ...  0.886355  0.844700   \n",
              "2  ['bad', 'smooth', 'phone', 'back', 'camera', '...  0.859974  0.900407   \n",
              "3  ['thise', 'nice', 'mobile', 'i', 'like', 'much...  0.859508  0.842999   \n",
              "4  ['i', 'meagerly', 'dissatisfy', 'thumb', 'sect...  0.833354  0.870420   \n",
              "\n",
              "    battery  delivery  processor  \n",
              "0  0.940294  0.909853   0.906168  \n",
              "1  0.938136  0.942399   0.866044  \n",
              "2  0.954339  0.943851   0.911934  \n",
              "3  0.905843  0.960908   0.842282  \n",
              "4  0.961709  0.967955   0.895204  "
            ],
            "text/html": [
              "\n",
              "  <div id=\"df-dcab1ccb-16c5-429a-8801-9bb81a4eb424\" class=\"colab-df-container\">\n",
              "    <div>\n",
              "<style scoped>\n",
              "    .dataframe tbody tr th:only-of-type {\n",
              "        vertical-align: middle;\n",
              "    }\n",
              "\n",
              "    .dataframe tbody tr th {\n",
              "        vertical-align: top;\n",
              "    }\n",
              "\n",
              "    .dataframe thead th {\n",
              "        text-align: right;\n",
              "    }\n",
              "</style>\n",
              "<table border=\"1\" class=\"dataframe\">\n",
              "  <thead>\n",
              "    <tr style=\"text-align: right;\">\n",
              "      <th></th>\n",
              "      <th>review</th>\n",
              "      <th>y</th>\n",
              "      <th>clean_review</th>\n",
              "      <th>clean_review2</th>\n",
              "      <th>phone</th>\n",
              "      <th>camera</th>\n",
              "      <th>battery</th>\n",
              "      <th>delivery</th>\n",
              "      <th>processor</th>\n",
              "    </tr>\n",
              "  </thead>\n",
              "  <tbody>\n",
              "    <tr>\n",
              "      <th>0</th>\n",
              "      <td>great phone in budget. .. pubg performance was...</td>\n",
              "      <td>0</td>\n",
              "      <td>great phone budget pubg performance staccato c...</td>\n",
              "      <td>['great', 'phone', 'budget', 'pubg', 'performa...</td>\n",
              "      <td>0.897414</td>\n",
              "      <td>0.900291</td>\n",
              "      <td>0.940294</td>\n",
              "      <td>0.909853</td>\n",
              "      <td>0.906168</td>\n",
              "    </tr>\n",
              "    <tr>\n",
              "      <th>1</th>\n",
              "      <td>Best Smartphone by Mi in this Range. . stay in...</td>\n",
              "      <td>0</td>\n",
              "      <td>well smartphone mi range stay place r confuse ...</td>\n",
              "      <td>['well', 'smartphone', 'mi', 'range', 'stay', ...</td>\n",
              "      <td>0.886355</td>\n",
              "      <td>0.844700</td>\n",
              "      <td>0.938136</td>\n",
              "      <td>0.942399</td>\n",
              "      <td>0.866044</td>\n",
              "    </tr>\n",
              "    <tr>\n",
              "      <th>2</th>\n",
              "      <td>Bad smooth phone. . and back camera quality is...</td>\n",
              "      <td>0</td>\n",
              "      <td>bad smooth phone back camera quality evil rear...</td>\n",
              "      <td>['bad', 'smooth', 'phone', 'back', 'camera', '...</td>\n",
              "      <td>0.859974</td>\n",
              "      <td>0.900407</td>\n",
              "      <td>0.954339</td>\n",
              "      <td>0.943851</td>\n",
              "      <td>0.911934</td>\n",
              "    </tr>\n",
              "    <tr>\n",
              "      <th>3</th>\n",
              "      <td>Thise is very nice mobile ...I like it very mu...</td>\n",
              "      <td>1</td>\n",
              "      <td>thise nice mobile I like much delivery also fa...</td>\n",
              "      <td>['thise', 'nice', 'mobile', 'i', 'like', 'much...</td>\n",
              "      <td>0.859508</td>\n",
              "      <td>0.842999</td>\n",
              "      <td>0.905843</td>\n",
              "      <td>0.960908</td>\n",
              "      <td>0.842282</td>\n",
              "    </tr>\n",
              "    <tr>\n",
              "      <th>4</th>\n",
              "      <td>I m meagerly dissatisfy 👍 All section r superb...</td>\n",
              "      <td>0</td>\n",
              "      <td>I meagerly dissatisfy thumb section r superb d...</td>\n",
              "      <td>['i', 'meagerly', 'dissatisfy', 'thumb', 'sect...</td>\n",
              "      <td>0.833354</td>\n",
              "      <td>0.870420</td>\n",
              "      <td>0.961709</td>\n",
              "      <td>0.967955</td>\n",
              "      <td>0.895204</td>\n",
              "    </tr>\n",
              "  </tbody>\n",
              "</table>\n",
              "</div>\n",
              "    <div class=\"colab-df-buttons\">\n",
              "\n",
              "  <div class=\"colab-df-container\">\n",
              "    <button class=\"colab-df-convert\" onclick=\"convertToInteractive('df-dcab1ccb-16c5-429a-8801-9bb81a4eb424')\"\n",
              "            title=\"Convert this dataframe to an interactive table.\"\n",
              "            style=\"display:none;\">\n",
              "\n",
              "  <svg xmlns=\"http://www.w3.org/2000/svg\" height=\"24px\" viewBox=\"0 -960 960 960\">\n",
              "    <path d=\"M120-120v-720h720v720H120Zm60-500h600v-160H180v160Zm220 220h160v-160H400v160Zm0 220h160v-160H400v160ZM180-400h160v-160H180v160Zm440 0h160v-160H620v160ZM180-180h160v-160H180v160Zm440 0h160v-160H620v160Z\"/>\n",
              "  </svg>\n",
              "    </button>\n",
              "\n",
              "  <style>\n",
              "    .colab-df-container {\n",
              "      display:flex;\n",
              "      gap: 12px;\n",
              "    }\n",
              "\n",
              "    .colab-df-convert {\n",
              "      background-color: #E8F0FE;\n",
              "      border: none;\n",
              "      border-radius: 50%;\n",
              "      cursor: pointer;\n",
              "      display: none;\n",
              "      fill: #1967D2;\n",
              "      height: 32px;\n",
              "      padding: 0 0 0 0;\n",
              "      width: 32px;\n",
              "    }\n",
              "\n",
              "    .colab-df-convert:hover {\n",
              "      background-color: #E2EBFA;\n",
              "      box-shadow: 0px 1px 2px rgba(60, 64, 67, 0.3), 0px 1px 3px 1px rgba(60, 64, 67, 0.15);\n",
              "      fill: #174EA6;\n",
              "    }\n",
              "\n",
              "    .colab-df-buttons div {\n",
              "      margin-bottom: 4px;\n",
              "    }\n",
              "\n",
              "    [theme=dark] .colab-df-convert {\n",
              "      background-color: #3B4455;\n",
              "      fill: #D2E3FC;\n",
              "    }\n",
              "\n",
              "    [theme=dark] .colab-df-convert:hover {\n",
              "      background-color: #434B5C;\n",
              "      box-shadow: 0px 1px 3px 1px rgba(0, 0, 0, 0.15);\n",
              "      filter: drop-shadow(0px 1px 2px rgba(0, 0, 0, 0.3));\n",
              "      fill: #FFFFFF;\n",
              "    }\n",
              "  </style>\n",
              "\n",
              "    <script>\n",
              "      const buttonEl =\n",
              "        document.querySelector('#df-dcab1ccb-16c5-429a-8801-9bb81a4eb424 button.colab-df-convert');\n",
              "      buttonEl.style.display =\n",
              "        google.colab.kernel.accessAllowed ? 'block' : 'none';\n",
              "\n",
              "      async function convertToInteractive(key) {\n",
              "        const element = document.querySelector('#df-dcab1ccb-16c5-429a-8801-9bb81a4eb424');\n",
              "        const dataTable =\n",
              "          await google.colab.kernel.invokeFunction('convertToInteractive',\n",
              "                                                    [key], {});\n",
              "        if (!dataTable) return;\n",
              "\n",
              "        const docLinkHtml = 'Like what you see? Visit the ' +\n",
              "          '<a target=\"_blank\" href=https://colab.research.google.com/notebooks/data_table.ipynb>data table notebook</a>'\n",
              "          + ' to learn more about interactive tables.';\n",
              "        element.innerHTML = '';\n",
              "        dataTable['output_type'] = 'display_data';\n",
              "        await google.colab.output.renderOutput(dataTable, element);\n",
              "        const docLink = document.createElement('div');\n",
              "        docLink.innerHTML = docLinkHtml;\n",
              "        element.appendChild(docLink);\n",
              "      }\n",
              "    </script>\n",
              "  </div>\n",
              "\n",
              "\n",
              "<div id=\"df-663b57cc-49e2-44c1-be44-fc7581d03598\">\n",
              "  <button class=\"colab-df-quickchart\" onclick=\"quickchart('df-663b57cc-49e2-44c1-be44-fc7581d03598')\"\n",
              "            title=\"Suggest charts\"\n",
              "            style=\"display:none;\">\n",
              "\n",
              "<svg xmlns=\"http://www.w3.org/2000/svg\" height=\"24px\"viewBox=\"0 0 24 24\"\n",
              "     width=\"24px\">\n",
              "    <g>\n",
              "        <path d=\"M19 3H5c-1.1 0-2 .9-2 2v14c0 1.1.9 2 2 2h14c1.1 0 2-.9 2-2V5c0-1.1-.9-2-2-2zM9 17H7v-7h2v7zm4 0h-2V7h2v10zm4 0h-2v-4h2v4z\"/>\n",
              "    </g>\n",
              "</svg>\n",
              "  </button>\n",
              "\n",
              "<style>\n",
              "  .colab-df-quickchart {\n",
              "      --bg-color: #E8F0FE;\n",
              "      --fill-color: #1967D2;\n",
              "      --hover-bg-color: #E2EBFA;\n",
              "      --hover-fill-color: #174EA6;\n",
              "      --disabled-fill-color: #AAA;\n",
              "      --disabled-bg-color: #DDD;\n",
              "  }\n",
              "\n",
              "  [theme=dark] .colab-df-quickchart {\n",
              "      --bg-color: #3B4455;\n",
              "      --fill-color: #D2E3FC;\n",
              "      --hover-bg-color: #434B5C;\n",
              "      --hover-fill-color: #FFFFFF;\n",
              "      --disabled-bg-color: #3B4455;\n",
              "      --disabled-fill-color: #666;\n",
              "  }\n",
              "\n",
              "  .colab-df-quickchart {\n",
              "    background-color: var(--bg-color);\n",
              "    border: none;\n",
              "    border-radius: 50%;\n",
              "    cursor: pointer;\n",
              "    display: none;\n",
              "    fill: var(--fill-color);\n",
              "    height: 32px;\n",
              "    padding: 0;\n",
              "    width: 32px;\n",
              "  }\n",
              "\n",
              "  .colab-df-quickchart:hover {\n",
              "    background-color: var(--hover-bg-color);\n",
              "    box-shadow: 0 1px 2px rgba(60, 64, 67, 0.3), 0 1px 3px 1px rgba(60, 64, 67, 0.15);\n",
              "    fill: var(--button-hover-fill-color);\n",
              "  }\n",
              "\n",
              "  .colab-df-quickchart-complete:disabled,\n",
              "  .colab-df-quickchart-complete:disabled:hover {\n",
              "    background-color: var(--disabled-bg-color);\n",
              "    fill: var(--disabled-fill-color);\n",
              "    box-shadow: none;\n",
              "  }\n",
              "\n",
              "  .colab-df-spinner {\n",
              "    border: 2px solid var(--fill-color);\n",
              "    border-color: transparent;\n",
              "    border-bottom-color: var(--fill-color);\n",
              "    animation:\n",
              "      spin 1s steps(1) infinite;\n",
              "  }\n",
              "\n",
              "  @keyframes spin {\n",
              "    0% {\n",
              "      border-color: transparent;\n",
              "      border-bottom-color: var(--fill-color);\n",
              "      border-left-color: var(--fill-color);\n",
              "    }\n",
              "    20% {\n",
              "      border-color: transparent;\n",
              "      border-left-color: var(--fill-color);\n",
              "      border-top-color: var(--fill-color);\n",
              "    }\n",
              "    30% {\n",
              "      border-color: transparent;\n",
              "      border-left-color: var(--fill-color);\n",
              "      border-top-color: var(--fill-color);\n",
              "      border-right-color: var(--fill-color);\n",
              "    }\n",
              "    40% {\n",
              "      border-color: transparent;\n",
              "      border-right-color: var(--fill-color);\n",
              "      border-top-color: var(--fill-color);\n",
              "    }\n",
              "    60% {\n",
              "      border-color: transparent;\n",
              "      border-right-color: var(--fill-color);\n",
              "    }\n",
              "    80% {\n",
              "      border-color: transparent;\n",
              "      border-right-color: var(--fill-color);\n",
              "      border-bottom-color: var(--fill-color);\n",
              "    }\n",
              "    90% {\n",
              "      border-color: transparent;\n",
              "      border-bottom-color: var(--fill-color);\n",
              "    }\n",
              "  }\n",
              "</style>\n",
              "\n",
              "  <script>\n",
              "    async function quickchart(key) {\n",
              "      const quickchartButtonEl =\n",
              "        document.querySelector('#' + key + ' button');\n",
              "      quickchartButtonEl.disabled = true;  // To prevent multiple clicks.\n",
              "      quickchartButtonEl.classList.add('colab-df-spinner');\n",
              "      try {\n",
              "        const charts = await google.colab.kernel.invokeFunction(\n",
              "            'suggestCharts', [key], {});\n",
              "      } catch (error) {\n",
              "        console.error('Error during call to suggestCharts:', error);\n",
              "      }\n",
              "      quickchartButtonEl.classList.remove('colab-df-spinner');\n",
              "      quickchartButtonEl.classList.add('colab-df-quickchart-complete');\n",
              "    }\n",
              "    (() => {\n",
              "      let quickchartButtonEl =\n",
              "        document.querySelector('#df-663b57cc-49e2-44c1-be44-fc7581d03598 button');\n",
              "      quickchartButtonEl.style.display =\n",
              "        google.colab.kernel.accessAllowed ? 'block' : 'none';\n",
              "    })();\n",
              "  </script>\n",
              "</div>\n",
              "\n",
              "    </div>\n",
              "  </div>\n"
            ],
            "application/vnd.google.colaboratory.intrinsic+json": {
              "type": "dataframe",
              "variable_name": "df",
              "summary": "{\n  \"name\": \"df\",\n  \"rows\": 9606,\n  \"fields\": [\n    {\n      \"column\": \"review\",\n      \"properties\": {\n        \"dtype\": \"string\",\n        \"num_unique_values\": 7401,\n        \"samples\": [\n          \"Very decent phone for daily use, and very nice that you are getting 4 gb ram under 8000 rupees, FM without headphone is awesome.\",\n          \"Super phone I gifted my dad, he was very unhappy and it take paranormal calls in 4 to 5 days in double charge\",\n          \"Mobile good and battery backup also good Most important thing isThat is display too much strong other than\"\n        ],\n        \"semantic_type\": \"\",\n        \"description\": \"\"\n      }\n    },\n    {\n      \"column\": \"y\",\n      \"properties\": {\n        \"dtype\": \"number\",\n        \"std\": 0,\n        \"min\": 0,\n        \"max\": 1,\n        \"num_unique_values\": 2,\n        \"samples\": [\n          1,\n          0\n        ],\n        \"semantic_type\": \"\",\n        \"description\": \"\"\n      }\n    },\n    {\n      \"column\": \"clean_review\",\n      \"properties\": {\n        \"dtype\": \"string\",\n        \"num_unique_values\": 7374,\n        \"samples\": [\n          \"nice fantastic product I love product I suggest buy nice product I buy green colour product I love product\",\n          \"I gift momshe love ideal phone parent easy operation great camera battery performance price range\"\n        ],\n        \"semantic_type\": \"\",\n        \"description\": \"\"\n      }\n    },\n    {\n      \"column\": \"clean_review2\",\n      \"properties\": {\n        \"dtype\": \"string\",\n        \"num_unique_values\": 7374,\n        \"samples\": [\n          \"['nice', 'fantastic', 'product', 'i', 'love', 'product', 'i', 'suggest', 'buy', 'nice', 'product', 'i', 'buy', 'green', 'colour', 'product', 'i', 'love', 'product']\",\n          \"['i', 'gift', 'momshe', 'love', 'ideal', 'phone', 'parent', 'easy', 'operation', 'great', 'camera', 'battery', 'performance', 'price', 'range']\"\n        ],\n        \"semantic_type\": \"\",\n        \"description\": \"\"\n      }\n    },\n    {\n      \"column\": \"phone\",\n      \"properties\": {\n        \"dtype\": \"number\",\n        \"std\": 0.027017427747268202,\n        \"min\": 0.7417182,\n        \"max\": 0.9524803,\n        \"num_unique_values\": 7325,\n        \"samples\": [\n          0.84127975,\n          0.87804484\n        ],\n        \"semantic_type\": \"\",\n        \"description\": \"\"\n      }\n    },\n    {\n      \"column\": \"camera\",\n      \"properties\": {\n        \"dtype\": \"number\",\n        \"std\": 0.031757259222232125,\n        \"min\": 0.73375905,\n        \"max\": 0.96417516,\n        \"num_unique_values\": 7325,\n        \"samples\": [\n          0.84166074,\n          0.9022608\n        ],\n        \"semantic_type\": \"\",\n        \"description\": \"\"\n      }\n    },\n    {\n      \"column\": \"battery\",\n      \"properties\": {\n        \"dtype\": \"number\",\n        \"std\": 0.015762084149833773,\n        \"min\": 0.8362957,\n        \"max\": 0.98380464,\n        \"num_unique_values\": 7303,\n        \"samples\": [\n          0.953074,\n          0.9385793\n        ],\n        \"semantic_type\": \"\",\n        \"description\": \"\"\n      }\n    },\n    {\n      \"column\": \"delivery\",\n      \"properties\": {\n        \"dtype\": \"number\",\n        \"std\": 0.021555527930145403,\n        \"min\": 0.80286944,\n        \"max\": 0.99151736,\n        \"num_unique_values\": 7324,\n        \"samples\": [\n          0.9644048,\n          0.9456853\n        ],\n        \"semantic_type\": \"\",\n        \"description\": \"\"\n      }\n    },\n    {\n      \"column\": \"processor\",\n      \"properties\": {\n        \"dtype\": \"number\",\n        \"std\": 0.027411380810926745,\n        \"min\": 0.7627222,\n        \"max\": 0.9591895,\n        \"num_unique_values\": 7309,\n        \"samples\": [\n          0.88745874,\n          0.9039551\n        ],\n        \"semantic_type\": \"\",\n        \"description\": \"\"\n      }\n    }\n  ]\n}"
            }
          },
          "metadata": {},
          "execution_count": 66
        }
      ]
    },
    {
      "cell_type": "code",
      "source": [
        "dataset = CustomDataset(df, \"clean_review\")"
      ],
      "metadata": {
        "id": "wbWsiNd9aFAM"
      },
      "execution_count": 67,
      "outputs": []
    },
    {
      "cell_type": "code",
      "source": [
        "len(dataset.source_vocab.stoi)"
      ],
      "metadata": {
        "colab": {
          "base_uri": "https://localhost:8080/"
        },
        "id": "9BgDu6g-aFCv",
        "outputId": "72aeaa11-7878-4975-9835-1a1ea708d588"
      },
      "execution_count": 68,
      "outputs": [
        {
          "output_type": "execute_result",
          "data": {
            "text/plain": [
              "3299"
            ]
          },
          "metadata": {},
          "execution_count": 68
        }
      ]
    },
    {
      "cell_type": "code",
      "source": [
        "import pickle\n",
        "\n",
        "with open('dataset-new', 'wb') as dataset_file:\n",
        "\n",
        "  # Step 3\n",
        "    pickle.dump(dataset, dataset_file, pickle.HIGHEST_PROTOCOL)"
      ],
      "metadata": {
        "id": "1tVmQgvlaFFS"
      },
      "execution_count": 69,
      "outputs": []
    },
    {
      "cell_type": "code",
      "source": [
        "def get_emb_layer_with_weights(target_vocab, emb_model, trainable = False):\n",
        "\n",
        "    weights_matrix = np.zeros((len(target_vocab), config.EMB_DIM))\n",
        "    words_found = 0\n",
        "\n",
        "    for i, word in enumerate(target_vocab):\n",
        "        weights_matrix[i] = np.concatenate([emb_model.wv[word]])\n",
        "        words_found += 1\n",
        "\n",
        "    print(f\"Words found are : {words_found}\")\n",
        "\n",
        "    weights_matrix = torch.tensor(weights_matrix, dtype = torch.float32).reshape(len(target_vocab), config.EMB_DIM)\n",
        "    emb_layer = nn.Embedding.from_pretrained(weights_matrix)\n",
        "    print(emb_layer)\n",
        "    if trainable:\n",
        "        emb_layer.weight.requires_grad = True\n",
        "    else:\n",
        "        emb_layer.weight.requires_grad = False\n",
        "\n",
        "    return emb_layer"
      ],
      "metadata": {
        "id": "vZ8E3VjRaFJl"
      },
      "execution_count": 70,
      "outputs": []
    },
    {
      "cell_type": "code",
      "source": [
        "class MyCollate:\n",
        "    def __init__(self, pad_idx, maxlen):\n",
        "        self.pad_idx = pad_idx\n",
        "        self.maxlen = maxlen\n",
        "\n",
        "\n",
        "    #__call__: a default method\n",
        "    ##   First the obj is created using MyCollate(pad_idx) in data loader\n",
        "    ##   Then if obj(batch) is called -> __call__ runs by default\n",
        "    def __call__(self, batch):\n",
        "        #get all source indexed sentences of the batch\n",
        "        source = [item[0] for item in batch]\n",
        "        #pad them using pad_sequence method from pytorch.\n",
        "#         source = pad_sequence(source, batch_first=False, padding_value = self.pad_idx)\n",
        "\n",
        "        padded_sequence = torch.zeros((self.maxlen, len(batch)), dtype = torch.int)\n",
        "\n",
        "        for idx, text in enumerate(source):\n",
        "\n",
        "            if len(text) > self.maxlen:\n",
        "                padded_sequence[:, idx] = source[idx][: self.maxlen]\n",
        "            else:\n",
        "                padded_sequence[:len(source[idx]), idx] = padded_sequence[:len(source[idx]), idx] + source[idx]\n",
        "\n",
        "\n",
        "        #get all target indexed sentences of the batch\n",
        "        target = [item[1] for item in batch]\n",
        "\n",
        "        target = torch.tensor(target, dtype = torch.float32).reshape(-1)\n",
        "        return padded_sequence, target"
      ],
      "metadata": {
        "id": "AF8pmCbQaPky"
      },
      "execution_count": 71,
      "outputs": []
    },
    {
      "cell_type": "code",
      "source": [
        "class Model(nn.Module):\n",
        "    def __init__(self, input_dim, embedding_dim, hidden_dim, output_dim, embedding_layer):\n",
        "        super().__init__()\n",
        "#         self.embedding = nn.Embedding(input_dim, embedding_dim)\n",
        "        self.hidden_dim = hidden_dim\n",
        "        self.embedding = embedding_layer\n",
        "        self.lstm = nn.LSTM(embedding_dim, hidden_dim, bidirectional = True)\n",
        "        self.fc1 = nn.Linear(2*hidden_dim, 128)\n",
        "        self.fc2 = nn.Linear(128, output_dim)\n",
        "        self.dropout = nn.Dropout(0.3)\n",
        "        self.sigmoid = nn.Sigmoid()\n",
        "\n",
        "\n",
        "\n",
        "    def forward(self, text):\n",
        "\n",
        "        max_len, N = text.shape\n",
        "        hidden = torch.zeros((2, N , self.hidden_dim),\n",
        "                          dtype=torch.float)\n",
        "        memory = torch.zeros((2, N , self.hidden_dim),\n",
        "                          dtype=torch.float)\n",
        "        hidden = hidden.to(config.DEVICE)\n",
        "        memory = memory.to(config.DEVICE)\n",
        "        embedded = self.embedding(text)\n",
        "        output, hidden = self.lstm(embedded, (hidden, memory))\n",
        "#         assert torch.equal(output[-1,:,:], hidden.squeeze(0))\n",
        "        y_pred = output[-1,:,:]\n",
        "        y_pred = self.fc1(y_pred)\n",
        "        y_pred = self.fc2(y_pred)\n",
        "        y_pred = self.sigmoid(y_pred)\n",
        "\n",
        "        return y_pred"
      ],
      "metadata": {
        "id": "Z-HHFqxZaSiZ"
      },
      "execution_count": 72,
      "outputs": []
    },
    {
      "cell_type": "code",
      "source": [
        "def train_epochs(dataloader,model, loss_fn, optimizer):\n",
        "    train_correct = 0\n",
        "    train_loss = 0\n",
        "\n",
        "    model.train()\n",
        "\n",
        "    for review, label in tqdm(dataloader):\n",
        "\n",
        "        review, label = review.to(config.DEVICE), label.to(config.DEVICE)\n",
        "        optimizer.zero_grad()\n",
        "        output = model(review)\n",
        "        output = output.reshape(-1)\n",
        "        loss = loss_fn(output, label)\n",
        "        loss.backward()\n",
        "        optimizer.step()\n",
        "\n",
        "        train_loss += loss.item()*review.size(1)\n",
        "        prediction = (output > 0.5).float()\n",
        "        train_correct += (prediction == label).float().sum()\n",
        "\n",
        "    return train_loss, train_correct"
      ],
      "metadata": {
        "id": "mAFeDMiOaSlB"
      },
      "execution_count": 73,
      "outputs": []
    },
    {
      "cell_type": "code",
      "source": [
        "def val_epochs(dataloader, model, loss_fn):\n",
        "    val_correct = 0\n",
        "    val_loss = 0\n",
        "\n",
        "    model.eval()\n",
        "#     hidden = model.init_hidden(config.BATCH_SIZE)\n",
        "\n",
        "    for review, label in dataloader:\n",
        "\n",
        "        review, label = review.to(config.DEVICE), label.to(config.DEVICE)\n",
        "\n",
        "        output = model(review)\n",
        "        output = output.reshape(-1)\n",
        "\n",
        "        loss = loss_fn(output, label)\n",
        "\n",
        "        val_loss += loss.item()*review.size(1)\n",
        "        prediction = (output > 0.5).float()\n",
        "        val_correct += (prediction == label).float().sum()\n",
        "#         prediction =\n",
        "    return val_loss, val_correct\n"
      ],
      "metadata": {
        "id": "_hDB6KxFaSnS"
      },
      "execution_count": 74,
      "outputs": []
    },
    {
      "cell_type": "code",
      "source": [
        "from sklearn.model_selection import StratifiedKFold\n",
        "from sklearn.model_selection import KFold\n",
        "from torch.utils.data import SubsetRandomSampler\n",
        "from torch.optim import Adam\n",
        "from tqdm import tqdm\n",
        "from torch.utils.data import DataLoader\n",
        "import matplotlib.pyplot as plt\n",
        "\n",
        "\n",
        "# sfk = StratifiedKFold(n_splits = config.FOLDS)\n",
        "kfold = KFold(n_splits = config.FOLDS)\n",
        "model_state_dicts = {}\n",
        "\n",
        "for fold, (train_idx, val_idx) in enumerate(kfold.split(np.arange(len(dataset)))):\n",
        "\n",
        "    train_sampler = SubsetRandomSampler(train_idx)\n",
        "    val_sampler = SubsetRandomSampler(val_idx)\n",
        "\n",
        "    train_loader = DataLoader(dataset, batch_size = config.BATCH_SIZE, sampler = train_sampler, collate_fn = MyCollate(0, config.MAX_LEN))\n",
        "    val_loader = DataLoader(dataset, batch_size = config.BATCH_SIZE, sampler = val_sampler, collate_fn = MyCollate(0, config.MAX_LEN))\n",
        "\n",
        "    VOCAB_SIZE = len(dataset.source_vocab)\n",
        "    HIDDEN_DIM = 128\n",
        "    OUTPUT_DIM = 1\n",
        "    VOCAB = list(dataset.source_vocab.stoi)\n",
        "\n",
        "    embedding_layer = get_emb_layer_with_weights(target_vocab = VOCAB, emb_model = fasttext_model, trainable = False)\n",
        "\n",
        "    model = Model(VOCAB_SIZE, config.EMB_DIM, HIDDEN_DIM, OUTPUT_DIM, embedding_layer)\n",
        "    model = model.to(config.DEVICE)\n",
        "\n",
        "#     model\n",
        "#     model = Model(2, len(dataset.source_vocab), 128, 100, 1 ).to(config.DEVICE)\n",
        "#     hidden = model.init_hidden(config.BATCH_SIZE)\n",
        "#     model.hidden = hidden\n",
        "\n",
        "    loss_fn = nn.BCELoss()\n",
        "    optimizer = torch.optim.SGD(model.parameters(), lr = 0.1)\n",
        "\n",
        "    train_losses = []\n",
        "    val_losses = []\n",
        "    train_accs = []\n",
        "    val_accs = []\n",
        "\n",
        "    print(f\"-----------------------------------------------------------{fold}-fold of the model-----------------------------------------------------------\")\n",
        "    for epoch in range(config.EPOCHS):\n",
        "        train_loss, train_correct = train_epochs(train_loader, model, loss_fn, optimizer)\n",
        "        val_loss, val_correct = val_epochs(val_loader, model, loss_fn)\n",
        "\n",
        "        train_loss = train_loss/len(train_loader.sampler)\n",
        "        val_loss = val_loss/len(val_loader.sampler)\n",
        "        train_acc = (train_correct/len(train_loader.sampler))*100\n",
        "        val_acc = (val_correct/len(val_loader.sampler))*100\n",
        "\n",
        "        train_losses.append(train_loss)\n",
        "        val_losses.append(val_loss)\n",
        "        train_accs.append(train_acc.cpu().numpy().tolist())\n",
        "        val_accs.append(val_acc.cpu().numpy().tolist())\n",
        "\n",
        "        print(f\"| Train Loss : {train_loss} |\", end = \" \")\n",
        "        print(f\" Val Loss : {val_loss} |\", end = \" \")\n",
        "        print(f\"Train Acc : {train_acc} |\", end = \" \")\n",
        "        print(f\"Val Acc : {val_acc} |\")\n",
        "\n",
        "\n",
        "    # Saving the state dicts for the model\n",
        "    model_state_dicts.update({f\"LSTM-Model-for-{fold}\" : model.state_dict(),\n",
        "                             f\"Model-Optimizer-for-{fold}\" : optimizer.state_dict()})\n",
        "\n"
      ],
      "metadata": {
        "colab": {
          "base_uri": "https://localhost:8080/"
        },
        "id": "CfD6b7-UaSo4",
        "outputId": "15b7f3d0-ee87-4a59-c9a4-3ff3e564c7df"
      },
      "execution_count": 75,
      "outputs": [
        {
          "output_type": "stream",
          "name": "stdout",
          "text": [
            "Words found are : 3299\n",
            "Embedding(3299, 100)\n",
            "-----------------------------------------------------------0-fold of the model-----------------------------------------------------------\n"
          ]
        },
        {
          "output_type": "stream",
          "name": "stderr",
          "text": [
            "100%|██████████| 241/241 [00:09<00:00, 24.27it/s]\n"
          ]
        },
        {
          "output_type": "stream",
          "name": "stdout",
          "text": [
            "| Train Loss : 0.6928172618817812 |  Val Loss : 0.6908016511850625 | Train Acc : 50.546592712402344 | Val Acc : 59.62539291381836 |\n"
          ]
        },
        {
          "output_type": "stream",
          "name": "stderr",
          "text": [
            "100%|██████████| 241/241 [00:10<00:00, 23.45it/s]\n"
          ]
        },
        {
          "output_type": "stream",
          "name": "stdout",
          "text": [
            "| Train Loss : 0.6893339373058853 |  Val Loss : 0.685716136561224 | Train Acc : 54.15148162841797 | Val Acc : 54.318416595458984 |\n"
          ]
        },
        {
          "output_type": "stream",
          "name": "stderr",
          "text": [
            "100%|██████████| 241/241 [00:10<00:00, 23.85it/s]\n"
          ]
        },
        {
          "output_type": "stream",
          "name": "stdout",
          "text": [
            "| Train Loss : 0.6767238263100898 |  Val Loss : 0.6497996936355496 | Train Acc : 59.0057258605957 | Val Acc : 68.15816497802734 |\n"
          ]
        },
        {
          "output_type": "stream",
          "name": "stderr",
          "text": [
            "100%|██████████| 241/241 [00:08<00:00, 27.79it/s]\n"
          ]
        },
        {
          "output_type": "stream",
          "name": "stdout",
          "text": [
            "| Train Loss : 0.49574984165605684 |  Val Loss : 0.23872186449762436 | Train Acc : 77.65486907958984 | Val Acc : 92.0915756225586 |\n"
          ]
        },
        {
          "output_type": "stream",
          "name": "stderr",
          "text": [
            "100%|██████████| 241/241 [00:09<00:00, 25.86it/s]\n"
          ]
        },
        {
          "output_type": "stream",
          "name": "stdout",
          "text": [
            "| Train Loss : 0.30716604211952836 |  Val Loss : 0.2714204347453058 | Train Acc : 88.20926666259766 | Val Acc : 88.24141693115234 |\n"
          ]
        },
        {
          "output_type": "stream",
          "name": "stderr",
          "text": [
            "100%|██████████| 241/241 [00:09<00:00, 24.53it/s]\n"
          ]
        },
        {
          "output_type": "stream",
          "name": "stdout",
          "text": [
            "| Train Loss : 0.2483492410629755 |  Val Loss : 0.3531887519883688 | Train Acc : 90.56481170654297 | Val Acc : 86.16024780273438 |\n"
          ]
        },
        {
          "output_type": "stream",
          "name": "stderr",
          "text": [
            "100%|██████████| 241/241 [00:09<00:00, 24.27it/s]\n"
          ]
        },
        {
          "output_type": "stream",
          "name": "stdout",
          "text": [
            "| Train Loss : 0.21721773108836887 |  Val Loss : 0.13481138666566464 | Train Acc : 91.67100524902344 | Val Acc : 95.52549743652344 |\n"
          ]
        },
        {
          "output_type": "stream",
          "name": "stderr",
          "text": [
            "100%|██████████| 241/241 [00:11<00:00, 21.23it/s]\n"
          ]
        },
        {
          "output_type": "stream",
          "name": "stdout",
          "text": [
            "| Train Loss : 0.1953321778405029 |  Val Loss : 0.13135715438349563 | Train Acc : 92.2956771850586 | Val Acc : 95.8376693725586 |\n"
          ]
        },
        {
          "output_type": "stream",
          "name": "stderr",
          "text": [
            "100%|██████████| 241/241 [00:08<00:00, 27.78it/s]\n"
          ]
        },
        {
          "output_type": "stream",
          "name": "stdout",
          "text": [
            "| Train Loss : 0.20194569720902647 |  Val Loss : 0.12468592822794007 | Train Acc : 92.2696533203125 | Val Acc : 95.73361206054688 |\n"
          ]
        },
        {
          "output_type": "stream",
          "name": "stderr",
          "text": [
            "100%|██████████| 241/241 [00:10<00:00, 24.07it/s]\n"
          ]
        },
        {
          "output_type": "stream",
          "name": "stdout",
          "text": [
            "| Train Loss : 0.18051131542739088 |  Val Loss : 0.1375197549428089 | Train Acc : 92.84226989746094 | Val Acc : 95.00520324707031 |\n"
          ]
        },
        {
          "output_type": "stream",
          "name": "stderr",
          "text": [
            "100%|██████████| 241/241 [00:10<00:00, 23.33it/s]\n"
          ]
        },
        {
          "output_type": "stream",
          "name": "stdout",
          "text": [
            "| Train Loss : 0.18279936564489926 |  Val Loss : 0.12529689306150987 | Train Acc : 92.79021453857422 | Val Acc : 95.47346496582031 |\n"
          ]
        },
        {
          "output_type": "stream",
          "name": "stderr",
          "text": [
            "100%|██████████| 241/241 [00:09<00:00, 24.54it/s]\n"
          ]
        },
        {
          "output_type": "stream",
          "name": "stdout",
          "text": [
            "| Train Loss : 0.17405714138853617 |  Val Loss : 0.13619358246830077 | Train Acc : 93.28475189208984 | Val Acc : 94.4328842163086 |\n"
          ]
        },
        {
          "output_type": "stream",
          "name": "stderr",
          "text": [
            "100%|██████████| 241/241 [00:08<00:00, 27.76it/s]\n"
          ]
        },
        {
          "output_type": "stream",
          "name": "stdout",
          "text": [
            "| Train Loss : 0.16999054209507114 |  Val Loss : 0.12186592339773533 | Train Acc : 93.29776000976562 | Val Acc : 95.57752990722656 |\n"
          ]
        },
        {
          "output_type": "stream",
          "name": "stderr",
          "text": [
            "100%|██████████| 241/241 [00:10<00:00, 23.71it/s]\n"
          ]
        },
        {
          "output_type": "stream",
          "name": "stdout",
          "text": [
            "| Train Loss : 0.16300714949028589 |  Val Loss : 0.1410491976355911 | Train Acc : 93.57105255126953 | Val Acc : 95.3694076538086 |\n"
          ]
        },
        {
          "output_type": "stream",
          "name": "stderr",
          "text": [
            "100%|██████████| 241/241 [00:10<00:00, 23.24it/s]\n"
          ]
        },
        {
          "output_type": "stream",
          "name": "stdout",
          "text": [
            "| Train Loss : 0.16546896093838664 |  Val Loss : 1.1247293392677706 | Train Acc : 93.4669418334961 | Val Acc : 69.45889282226562 |\n"
          ]
        },
        {
          "output_type": "stream",
          "name": "stderr",
          "text": [
            "100%|██████████| 241/241 [00:11<00:00, 20.27it/s]\n"
          ]
        },
        {
          "output_type": "stream",
          "name": "stdout",
          "text": [
            "| Train Loss : 0.1672285381531976 |  Val Loss : 0.36170934006168615 | Train Acc : 93.66215515136719 | Val Acc : 85.37981414794922 |\n"
          ]
        },
        {
          "output_type": "stream",
          "name": "stderr",
          "text": [
            "100%|██████████| 241/241 [00:08<00:00, 27.67it/s]\n"
          ]
        },
        {
          "output_type": "stream",
          "name": "stdout",
          "text": [
            "| Train Loss : 0.16014184031726666 |  Val Loss : 0.12511270569490113 | Train Acc : 93.57105255126953 | Val Acc : 95.68158721923828 |\n"
          ]
        },
        {
          "output_type": "stream",
          "name": "stderr",
          "text": [
            "100%|██████████| 241/241 [00:09<00:00, 24.13it/s]\n"
          ]
        },
        {
          "output_type": "stream",
          "name": "stdout",
          "text": [
            "| Train Loss : 0.1600225192845209 |  Val Loss : 0.17055405217875086 | Train Acc : 93.75325775146484 | Val Acc : 92.81997680664062 |\n"
          ]
        },
        {
          "output_type": "stream",
          "name": "stderr",
          "text": [
            "100%|██████████| 241/241 [00:10<00:00, 23.29it/s]\n"
          ]
        },
        {
          "output_type": "stream",
          "name": "stdout",
          "text": [
            "| Train Loss : 0.15452381492995274 |  Val Loss : 0.14828787435478027 | Train Acc : 94.23477935791016 | Val Acc : 94.17273712158203 |\n"
          ]
        },
        {
          "output_type": "stream",
          "name": "stderr",
          "text": [
            "100%|██████████| 241/241 [00:09<00:00, 24.34it/s]\n"
          ]
        },
        {
          "output_type": "stream",
          "name": "stdout",
          "text": [
            "| Train Loss : 0.1526506667242098 |  Val Loss : 0.11874339161256597 | Train Acc : 94.1436767578125 | Val Acc : 95.73361206054688 |\n"
          ]
        },
        {
          "output_type": "stream",
          "name": "stderr",
          "text": [
            "100%|██████████| 241/241 [00:09<00:00, 26.19it/s]\n"
          ]
        },
        {
          "output_type": "stream",
          "name": "stdout",
          "text": [
            "| Train Loss : 0.15097738580195497 |  Val Loss : 0.13477990321057162 | Train Acc : 94.06558990478516 | Val Acc : 94.27679443359375 |\n"
          ]
        },
        {
          "output_type": "stream",
          "name": "stderr",
          "text": [
            "100%|██████████| 241/241 [00:13<00:00, 17.88it/s]\n"
          ]
        },
        {
          "output_type": "stream",
          "name": "stdout",
          "text": [
            "| Train Loss : 0.1508267356401803 |  Val Loss : 0.3031096027603879 | Train Acc : 94.03956604003906 | Val Acc : 88.76170349121094 |\n"
          ]
        },
        {
          "output_type": "stream",
          "name": "stderr",
          "text": [
            "100%|██████████| 241/241 [00:10<00:00, 23.82it/s]\n"
          ]
        },
        {
          "output_type": "stream",
          "name": "stdout",
          "text": [
            "| Train Loss : 0.1533014467747214 |  Val Loss : 0.12151001988300564 | Train Acc : 93.79229736328125 | Val Acc : 95.68158721923828 |\n"
          ]
        },
        {
          "output_type": "stream",
          "name": "stderr",
          "text": [
            "100%|██████████| 241/241 [00:10<00:00, 23.86it/s]\n"
          ]
        },
        {
          "output_type": "stream",
          "name": "stdout",
          "text": [
            "| Train Loss : 0.14828513075734787 |  Val Loss : 0.11401161355907476 | Train Acc : 94.29984283447266 | Val Acc : 96.09781646728516 |\n"
          ]
        },
        {
          "output_type": "stream",
          "name": "stderr",
          "text": [
            "100%|██████████| 241/241 [00:08<00:00, 27.88it/s]\n"
          ]
        },
        {
          "output_type": "stream",
          "name": "stdout",
          "text": [
            "| Train Loss : 0.1462026287145614 |  Val Loss : 0.109299358368137 | Train Acc : 94.28682708740234 | Val Acc : 96.04578399658203 |\n"
          ]
        },
        {
          "output_type": "stream",
          "name": "stderr",
          "text": [
            "100%|██████████| 241/241 [00:09<00:00, 24.45it/s]\n"
          ]
        },
        {
          "output_type": "stream",
          "name": "stdout",
          "text": [
            "| Train Loss : 0.14302182090524457 |  Val Loss : 0.12448112623190409 | Train Acc : 94.32586669921875 | Val Acc : 95.00520324707031 |\n"
          ]
        },
        {
          "output_type": "stream",
          "name": "stderr",
          "text": [
            "100%|██████████| 241/241 [00:10<00:00, 24.02it/s]\n"
          ]
        },
        {
          "output_type": "stream",
          "name": "stdout",
          "text": [
            "| Train Loss : 0.14517366272755616 |  Val Loss : 0.11884839028075461 | Train Acc : 94.32586669921875 | Val Acc : 95.31737518310547 |\n"
          ]
        },
        {
          "output_type": "stream",
          "name": "stderr",
          "text": [
            "100%|██████████| 241/241 [00:10<00:00, 23.66it/s]\n"
          ]
        },
        {
          "output_type": "stream",
          "name": "stdout",
          "text": [
            "| Train Loss : 0.1416796355788004 |  Val Loss : 0.13084385657448488 | Train Acc : 94.45600891113281 | Val Acc : 94.53694152832031 |\n"
          ]
        },
        {
          "output_type": "stream",
          "name": "stderr",
          "text": [
            "100%|██████████| 241/241 [00:08<00:00, 27.66it/s]\n"
          ]
        },
        {
          "output_type": "stream",
          "name": "stdout",
          "text": [
            "| Train Loss : 0.1423021493511607 |  Val Loss : 0.11554140243272255 | Train Acc : 94.35189819335938 | Val Acc : 95.57752990722656 |\n"
          ]
        },
        {
          "output_type": "stream",
          "name": "stderr",
          "text": [
            "100%|██████████| 241/241 [00:11<00:00, 21.19it/s]\n"
          ]
        },
        {
          "output_type": "stream",
          "name": "stdout",
          "text": [
            "| Train Loss : 0.1406678709743049 |  Val Loss : 0.13199627352151613 | Train Acc : 94.74232482910156 | Val Acc : 94.27679443359375 |\n",
            "Words found are : 3299\n",
            "Embedding(3299, 100)\n",
            "-----------------------------------------------------------1-fold of the model-----------------------------------------------------------\n"
          ]
        },
        {
          "output_type": "stream",
          "name": "stderr",
          "text": [
            "100%|██████████| 241/241 [00:09<00:00, 24.16it/s]\n"
          ]
        },
        {
          "output_type": "stream",
          "name": "stdout",
          "text": [
            "| Train Loss : 0.6918915997873132 |  Val Loss : 0.6911627230763373 | Train Acc : 52.374755859375 | Val Acc : 50.33836364746094 |\n"
          ]
        },
        {
          "output_type": "stream",
          "name": "stderr",
          "text": [
            "100%|██████████| 241/241 [00:10<00:00, 23.86it/s]\n"
          ]
        },
        {
          "output_type": "stream",
          "name": "stdout",
          "text": [
            "| Train Loss : 0.6877225047594243 |  Val Loss : 0.6847613724118282 | Train Acc : 56.22641372680664 | Val Acc : 52.21238708496094 |\n"
          ]
        },
        {
          "output_type": "stream",
          "name": "stderr",
          "text": [
            "100%|██████████| 241/241 [00:08<00:00, 27.39it/s]\n"
          ]
        },
        {
          "output_type": "stream",
          "name": "stdout",
          "text": [
            "| Train Loss : 0.6600685612986285 |  Val Loss : 1.2967432150922673 | Train Acc : 62.810672760009766 | Val Acc : 50.33836364746094 |\n"
          ]
        },
        {
          "output_type": "stream",
          "name": "stderr",
          "text": [
            "100%|██████████| 241/241 [00:09<00:00, 26.01it/s]\n"
          ]
        },
        {
          "output_type": "stream",
          "name": "stdout",
          "text": [
            "| Train Loss : 0.44975045393951235 |  Val Loss : 0.24201697125868024 | Train Acc : 81.54846954345703 | Val Acc : 91.20249938964844 |\n"
          ]
        },
        {
          "output_type": "stream",
          "name": "stderr",
          "text": [
            "100%|██████████| 241/241 [00:09<00:00, 24.14it/s]\n"
          ]
        },
        {
          "output_type": "stream",
          "name": "stdout",
          "text": [
            "| Train Loss : 0.2748785904924359 |  Val Loss : 0.6866013354649462 | Train Acc : 89.629150390625 | Val Acc : 74.1280517578125 |\n"
          ]
        },
        {
          "output_type": "stream",
          "name": "stderr",
          "text": [
            "100%|██████████| 241/241 [00:10<00:00, 24.07it/s]\n"
          ]
        },
        {
          "output_type": "stream",
          "name": "stdout",
          "text": [
            "| Train Loss : 0.22678664241061244 |  Val Loss : 0.3786431492283506 | Train Acc : 91.2817153930664 | Val Acc : 84.74752807617188 |\n"
          ]
        },
        {
          "output_type": "stream",
          "name": "stderr",
          "text": [
            "100%|██████████| 241/241 [00:09<00:00, 25.60it/s]\n"
          ]
        },
        {
          "output_type": "stream",
          "name": "stdout",
          "text": [
            "| Train Loss : 0.19519457253024575 |  Val Loss : 0.17930502013411453 | Train Acc : 92.60897827148438 | Val Acc : 92.81623840332031 |\n"
          ]
        },
        {
          "output_type": "stream",
          "name": "stderr",
          "text": [
            "100%|██████████| 241/241 [00:09<00:00, 26.53it/s]\n"
          ]
        },
        {
          "output_type": "stream",
          "name": "stdout",
          "text": [
            "| Train Loss : 0.19371607652444225 |  Val Loss : 0.2852644799563225 | Train Acc : 92.56993865966797 | Val Acc : 89.64081573486328 |\n"
          ]
        },
        {
          "output_type": "stream",
          "name": "stderr",
          "text": [
            "100%|██████████| 241/241 [00:10<00:00, 23.74it/s]\n"
          ]
        },
        {
          "output_type": "stream",
          "name": "stdout",
          "text": [
            "| Train Loss : 0.18180851115855445 |  Val Loss : 0.20936799734124972 | Train Acc : 92.89524841308594 | Val Acc : 92.08745574951172 |\n"
          ]
        },
        {
          "output_type": "stream",
          "name": "stderr",
          "text": [
            "100%|██████████| 241/241 [00:10<00:00, 23.74it/s]\n"
          ]
        },
        {
          "output_type": "stream",
          "name": "stdout",
          "text": [
            "| Train Loss : 0.17424658925048933 |  Val Loss : 0.18180778292955552 | Train Acc : 93.38971710205078 | Val Acc : 92.60801696777344 |\n"
          ]
        },
        {
          "output_type": "stream",
          "name": "stderr",
          "text": [
            "100%|██████████| 241/241 [00:09<00:00, 25.95it/s]\n"
          ]
        },
        {
          "output_type": "stream",
          "name": "stdout",
          "text": [
            "| Train Loss : 0.16578762156279273 |  Val Loss : 0.28984621761040447 | Train Acc : 93.70201873779297 | Val Acc : 86.72566223144531 |\n"
          ]
        },
        {
          "output_type": "stream",
          "name": "stderr",
          "text": [
            "100%|██████████| 241/241 [00:08<00:00, 27.39it/s]\n"
          ]
        },
        {
          "output_type": "stream",
          "name": "stdout",
          "text": [
            "| Train Loss : 0.16569440237773012 |  Val Loss : 0.29165669373017944 | Train Acc : 93.42875671386719 | Val Acc : 88.755859375 |\n"
          ]
        },
        {
          "output_type": "stream",
          "name": "stderr",
          "text": [
            "100%|██████████| 241/241 [00:11<00:00, 20.66it/s]\n"
          ]
        },
        {
          "output_type": "stream",
          "name": "stdout",
          "text": [
            "| Train Loss : 0.16319840700258353 |  Val Loss : 0.16871908093273702 | Train Acc : 93.71502685546875 | Val Acc : 93.44091796875 |\n"
          ]
        },
        {
          "output_type": "stream",
          "name": "stderr",
          "text": [
            "100%|██████████| 241/241 [00:10<00:00, 23.65it/s]\n"
          ]
        },
        {
          "output_type": "stream",
          "name": "stdout",
          "text": [
            "| Train Loss : 0.1613422579341068 |  Val Loss : 0.1898880512131216 | Train Acc : 93.81912994384766 | Val Acc : 92.66007232666016 |\n"
          ]
        },
        {
          "output_type": "stream",
          "name": "stderr",
          "text": [
            "100%|██████████| 241/241 [00:09<00:00, 25.69it/s]\n"
          ]
        },
        {
          "output_type": "stream",
          "name": "stdout",
          "text": [
            "| Train Loss : 0.15750807986758944 |  Val Loss : 0.19874357746284743 | Train Acc : 93.79310607910156 | Val Acc : 92.19156646728516 |\n"
          ]
        },
        {
          "output_type": "stream",
          "name": "stderr",
          "text": [
            "100%|██████████| 241/241 [00:08<00:00, 27.07it/s]\n"
          ]
        },
        {
          "output_type": "stream",
          "name": "stdout",
          "text": [
            "| Train Loss : 0.151201036397947 |  Val Loss : 0.19382310048824894 | Train Acc : 94.1574478149414 | Val Acc : 91.93128204345703 |\n"
          ]
        },
        {
          "output_type": "stream",
          "name": "stderr",
          "text": [
            "100%|██████████| 241/241 [00:10<00:00, 23.42it/s]\n"
          ]
        },
        {
          "output_type": "stream",
          "name": "stdout",
          "text": [
            "| Train Loss : 0.14869351464195846 |  Val Loss : 0.1871606874980715 | Train Acc : 94.4046859741211 | Val Acc : 92.76419067382812 |\n"
          ]
        },
        {
          "output_type": "stream",
          "name": "stderr",
          "text": [
            "100%|██████████| 241/241 [00:10<00:00, 23.93it/s]\n"
          ]
        },
        {
          "output_type": "stream",
          "name": "stdout",
          "text": [
            "| Train Loss : 0.14186934084572728 |  Val Loss : 0.2980864828259513 | Train Acc : 94.45673370361328 | Val Acc : 87.6106185913086 |\n"
          ]
        },
        {
          "output_type": "stream",
          "name": "stderr",
          "text": [
            "100%|██████████| 241/241 [00:11<00:00, 21.82it/s]\n"
          ]
        },
        {
          "output_type": "stream",
          "name": "stdout",
          "text": [
            "| Train Loss : 0.14666796687508102 |  Val Loss : 0.19122608100005437 | Train Acc : 93.89720153808594 | Val Acc : 93.64913940429688 |\n"
          ]
        },
        {
          "output_type": "stream",
          "name": "stderr",
          "text": [
            "100%|██████████| 241/241 [00:08<00:00, 27.90it/s]\n"
          ]
        },
        {
          "output_type": "stream",
          "name": "stdout",
          "text": [
            "| Train Loss : 0.14284225713144127 |  Val Loss : 1.152767711425203 | Train Acc : 94.61288452148438 | Val Acc : 55.75221252441406 |\n"
          ]
        },
        {
          "output_type": "stream",
          "name": "stderr",
          "text": [
            "100%|██████████| 241/241 [00:10<00:00, 23.34it/s]\n"
          ]
        },
        {
          "output_type": "stream",
          "name": "stdout",
          "text": [
            "| Train Loss : 0.1517607911122101 |  Val Loss : 0.1626668320789367 | Train Acc : 94.3135986328125 | Val Acc : 93.80530548095703 |\n"
          ]
        },
        {
          "output_type": "stream",
          "name": "stderr",
          "text": [
            "100%|██████████| 241/241 [00:11<00:00, 20.43it/s]\n"
          ]
        },
        {
          "output_type": "stream",
          "name": "stdout",
          "text": [
            "| Train Loss : 0.14291699875967798 |  Val Loss : 0.34813464851540893 | Train Acc : 94.56082916259766 | Val Acc : 87.24623107910156 |\n"
          ]
        },
        {
          "output_type": "stream",
          "name": "stderr",
          "text": [
            "100%|██████████| 241/241 [00:09<00:00, 24.59it/s]\n"
          ]
        },
        {
          "output_type": "stream",
          "name": "stdout",
          "text": [
            "| Train Loss : 0.14025271324442048 |  Val Loss : 0.1561255313840029 | Train Acc : 94.53480529785156 | Val Acc : 93.59708404541016 |\n"
          ]
        },
        {
          "output_type": "stream",
          "name": "stderr",
          "text": [
            "100%|██████████| 241/241 [00:08<00:00, 27.76it/s]\n"
          ]
        },
        {
          "output_type": "stream",
          "name": "stdout",
          "text": [
            "| Train Loss : 0.13805343226403016 |  Val Loss : 0.35720704142576326 | Train Acc : 94.54782104492188 | Val Acc : 84.59136199951172 |\n"
          ]
        },
        {
          "output_type": "stream",
          "name": "stderr",
          "text": [
            "100%|██████████| 241/241 [00:09<00:00, 24.32it/s]\n"
          ]
        },
        {
          "output_type": "stream",
          "name": "stdout",
          "text": [
            "| Train Loss : 0.13700306827206074 |  Val Loss : 0.17234502110589306 | Train Acc : 94.70396423339844 | Val Acc : 93.54502868652344 |\n"
          ]
        },
        {
          "output_type": "stream",
          "name": "stderr",
          "text": [
            "100%|██████████| 241/241 [00:10<00:00, 22.14it/s]\n"
          ]
        },
        {
          "output_type": "stream",
          "name": "stdout",
          "text": [
            "| Train Loss : 0.13434467779093154 |  Val Loss : 0.17013841273698457 | Train Acc : 94.91216278076172 | Val Acc : 92.60801696777344 |\n"
          ]
        },
        {
          "output_type": "stream",
          "name": "stderr",
          "text": [
            "100%|██████████| 241/241 [00:10<00:00, 23.24it/s]\n"
          ]
        },
        {
          "output_type": "stream",
          "name": "stdout",
          "text": [
            "| Train Loss : 0.13259119746907236 |  Val Loss : 0.15785440729010097 | Train Acc : 95.00325012207031 | Val Acc : 93.85736846923828 |\n"
          ]
        },
        {
          "output_type": "stream",
          "name": "stderr",
          "text": [
            "100%|██████████| 241/241 [00:08<00:00, 27.14it/s]\n"
          ]
        },
        {
          "output_type": "stream",
          "name": "stdout",
          "text": [
            "| Train Loss : 0.1305076022513051 |  Val Loss : 0.20609575864509982 | Train Acc : 94.71698760986328 | Val Acc : 93.07652282714844 |\n"
          ]
        },
        {
          "output_type": "stream",
          "name": "stderr",
          "text": [
            "100%|██████████| 241/241 [00:09<00:00, 25.02it/s]\n"
          ]
        },
        {
          "output_type": "stream",
          "name": "stdout",
          "text": [
            "| Train Loss : 0.13213044429123982 |  Val Loss : 0.1533644520975785 | Train Acc : 94.79505157470703 | Val Acc : 94.22175598144531 |\n"
          ]
        },
        {
          "output_type": "stream",
          "name": "stderr",
          "text": [
            "100%|██████████| 241/241 [00:10<00:00, 23.53it/s]\n"
          ]
        },
        {
          "output_type": "stream",
          "name": "stdout",
          "text": [
            "| Train Loss : 0.12927255853865158 |  Val Loss : 0.28938041820468036 | Train Acc : 94.95121002197266 | Val Acc : 86.15304565429688 |\n",
            "Words found are : 3299\n",
            "Embedding(3299, 100)\n",
            "-----------------------------------------------------------2-fold of the model-----------------------------------------------------------\n"
          ]
        },
        {
          "output_type": "stream",
          "name": "stderr",
          "text": [
            "100%|██████████| 241/241 [00:10<00:00, 24.03it/s]\n"
          ]
        },
        {
          "output_type": "stream",
          "name": "stdout",
          "text": [
            "| Train Loss : 0.6925516624767127 |  Val Loss : 0.6904467854693431 | Train Acc : 52.179569244384766 | Val Acc : 57.15773010253906 |\n"
          ]
        },
        {
          "output_type": "stream",
          "name": "stderr",
          "text": [
            "100%|██████████| 241/241 [00:08<00:00, 26.81it/s]\n"
          ]
        },
        {
          "output_type": "stream",
          "name": "stdout",
          "text": [
            "| Train Loss : 0.6886130706707068 |  Val Loss : 0.683881203499019 | Train Acc : 55.419647216796875 | Val Acc : 51.84799575805664 |\n"
          ]
        },
        {
          "output_type": "stream",
          "name": "stderr",
          "text": [
            "100%|██████████| 241/241 [00:09<00:00, 25.05it/s]\n"
          ]
        },
        {
          "output_type": "stream",
          "name": "stdout",
          "text": [
            "| Train Loss : 0.6598983205559197 |  Val Loss : 0.41524635696709 | Train Acc : 63.51333999633789 | Val Acc : 88.755859375 |\n"
          ]
        },
        {
          "output_type": "stream",
          "name": "stderr",
          "text": [
            "100%|██████████| 241/241 [00:10<00:00, 23.39it/s]\n"
          ]
        },
        {
          "output_type": "stream",
          "name": "stdout",
          "text": [
            "| Train Loss : 0.4449875898305363 |  Val Loss : 0.521459223039328 | Train Acc : 80.54652404785156 | Val Acc : 73.81571960449219 |\n"
          ]
        },
        {
          "output_type": "stream",
          "name": "stderr",
          "text": [
            "100%|██████████| 241/241 [00:10<00:00, 23.48it/s]\n"
          ]
        },
        {
          "output_type": "stream",
          "name": "stdout",
          "text": [
            "| Train Loss : 0.2782664643996865 |  Val Loss : 0.1595244472550654 | Train Acc : 88.99153900146484 | Val Acc : 94.06558990478516 |\n"
          ]
        },
        {
          "output_type": "stream",
          "name": "stderr",
          "text": [
            "100%|██████████| 241/241 [00:09<00:00, 26.36it/s]\n"
          ]
        },
        {
          "output_type": "stream",
          "name": "stdout",
          "text": [
            "| Train Loss : 0.23180418010648382 |  Val Loss : 0.15798448374129362 | Train Acc : 91.17761993408203 | Val Acc : 93.909423828125 |\n"
          ]
        },
        {
          "output_type": "stream",
          "name": "stderr",
          "text": [
            "100%|██████████| 241/241 [00:09<00:00, 25.53it/s]\n"
          ]
        },
        {
          "output_type": "stream",
          "name": "stdout",
          "text": [
            "| Train Loss : 0.20126455596120388 |  Val Loss : 0.19291035569564308 | Train Acc : 92.4658432006836 | Val Acc : 92.34773254394531 |\n"
          ]
        },
        {
          "output_type": "stream",
          "name": "stderr",
          "text": [
            "100%|██████████| 241/241 [00:10<00:00, 23.69it/s]\n"
          ]
        },
        {
          "output_type": "stream",
          "name": "stdout",
          "text": [
            "| Train Loss : 0.18468203789341853 |  Val Loss : 0.20693157816801233 | Train Acc : 92.71307373046875 | Val Acc : 92.19156646728516 |\n"
          ]
        },
        {
          "output_type": "stream",
          "name": "stderr",
          "text": [
            "100%|██████████| 241/241 [00:10<00:00, 23.69it/s]\n"
          ]
        },
        {
          "output_type": "stream",
          "name": "stdout",
          "text": [
            "| Train Loss : 0.1831336243730099 |  Val Loss : 0.14440406153811444 | Train Acc : 92.89524841308594 | Val Acc : 94.42998504638672 |\n"
          ]
        },
        {
          "output_type": "stream",
          "name": "stderr",
          "text": [
            "100%|██████████| 241/241 [00:10<00:00, 21.91it/s]\n"
          ]
        },
        {
          "output_type": "stream",
          "name": "stdout",
          "text": [
            "| Train Loss : 0.17614393745080636 |  Val Loss : 0.15706913359754102 | Train Acc : 93.3116455078125 | Val Acc : 93.64913940429688 |\n"
          ]
        },
        {
          "output_type": "stream",
          "name": "stderr",
          "text": [
            "100%|██████████| 241/241 [00:08<00:00, 27.30it/s]\n"
          ]
        },
        {
          "output_type": "stream",
          "name": "stdout",
          "text": [
            "| Train Loss : 0.1689407736819211 |  Val Loss : 0.428434997098884 | Train Acc : 93.2726058959961 | Val Acc : 77.56376647949219 |\n"
          ]
        },
        {
          "output_type": "stream",
          "name": "stderr",
          "text": [
            "100%|██████████| 241/241 [00:10<00:00, 23.43it/s]\n"
          ]
        },
        {
          "output_type": "stream",
          "name": "stdout",
          "text": [
            "| Train Loss : 0.16718638302660174 |  Val Loss : 0.15281682126604618 | Train Acc : 93.58490753173828 | Val Acc : 94.63821411132812 |\n"
          ]
        },
        {
          "output_type": "stream",
          "name": "stderr",
          "text": [
            "100%|██████████| 241/241 [00:10<00:00, 24.10it/s]\n"
          ]
        },
        {
          "output_type": "stream",
          "name": "stdout",
          "text": [
            "| Train Loss : 0.16068250743712242 |  Val Loss : 0.1753148344306121 | Train Acc : 93.93624114990234 | Val Acc : 92.76419067382812 |\n"
          ]
        },
        {
          "output_type": "stream",
          "name": "stderr",
          "text": [
            "100%|██████████| 241/241 [00:11<00:00, 20.33it/s]\n"
          ]
        },
        {
          "output_type": "stream",
          "name": "stdout",
          "text": [
            "| Train Loss : 0.15715396214245045 |  Val Loss : 0.24378803848661773 | Train Acc : 93.80611419677734 | Val Acc : 88.96408081054688 |\n"
          ]
        },
        {
          "output_type": "stream",
          "name": "stderr",
          "text": [
            "100%|██████████| 241/241 [00:08<00:00, 27.31it/s]\n"
          ]
        },
        {
          "output_type": "stream",
          "name": "stdout",
          "text": [
            "| Train Loss : 0.15282066095627664 |  Val Loss : 1.2157813136556508 | Train Acc : 94.00129699707031 | Val Acc : 64.08120727539062 |\n"
          ]
        },
        {
          "output_type": "stream",
          "name": "stderr",
          "text": [
            "100%|██████████| 241/241 [00:10<00:00, 23.67it/s]\n"
          ]
        },
        {
          "output_type": "stream",
          "name": "stdout",
          "text": [
            "| Train Loss : 0.15982267748087003 |  Val Loss : 0.1957138347032711 | Train Acc : 93.61093139648438 | Val Acc : 92.13951110839844 |\n"
          ]
        },
        {
          "output_type": "stream",
          "name": "stderr",
          "text": [
            "100%|██████████| 241/241 [00:12<00:00, 18.93it/s]\n"
          ]
        },
        {
          "output_type": "stream",
          "name": "stdout",
          "text": [
            "| Train Loss : 0.14940354312947607 |  Val Loss : 0.14618710069685645 | Train Acc : 94.07937622070312 | Val Acc : 94.16970825195312 |\n"
          ]
        },
        {
          "output_type": "stream",
          "name": "stderr",
          "text": [
            "100%|██████████| 241/241 [00:10<00:00, 24.08it/s]\n"
          ]
        },
        {
          "output_type": "stream",
          "name": "stdout",
          "text": [
            "| Train Loss : 0.14740826620750017 |  Val Loss : 0.1854163861779214 | Train Acc : 94.26155090332031 | Val Acc : 92.76419067382812 |\n"
          ]
        },
        {
          "output_type": "stream",
          "name": "stderr",
          "text": [
            "100%|██████████| 241/241 [00:10<00:00, 23.88it/s]\n"
          ]
        },
        {
          "output_type": "stream",
          "name": "stdout",
          "text": [
            "| Train Loss : 0.15268094012563443 |  Val Loss : 0.14839198961461283 | Train Acc : 93.72804260253906 | Val Acc : 94.48204040527344 |\n"
          ]
        },
        {
          "output_type": "stream",
          "name": "stderr",
          "text": [
            "100%|██████████| 241/241 [00:08<00:00, 27.58it/s]\n"
          ]
        },
        {
          "output_type": "stream",
          "name": "stdout",
          "text": [
            "| Train Loss : 0.14300610210938003 |  Val Loss : 0.17414426022460844 | Train Acc : 94.43070983886719 | Val Acc : 92.86830139160156 |\n"
          ]
        },
        {
          "output_type": "stream",
          "name": "stderr",
          "text": [
            "100%|██████████| 241/241 [00:09<00:00, 25.38it/s]\n"
          ]
        },
        {
          "output_type": "stream",
          "name": "stdout",
          "text": [
            "| Train Loss : 0.14183367878736694 |  Val Loss : 0.14117018566483835 | Train Acc : 94.48275756835938 | Val Acc : 94.63821411132812 |\n"
          ]
        },
        {
          "output_type": "stream",
          "name": "stderr",
          "text": [
            "100%|██████████| 241/241 [00:10<00:00, 23.83it/s]\n"
          ]
        },
        {
          "output_type": "stream",
          "name": "stdout",
          "text": [
            "| Train Loss : 0.14325744090486675 |  Val Loss : 0.17965019100943444 | Train Acc : 94.4046859741211 | Val Acc : 92.81623840332031 |\n"
          ]
        },
        {
          "output_type": "stream",
          "name": "stderr",
          "text": [
            "100%|██████████| 241/241 [00:09<00:00, 24.17it/s]\n"
          ]
        },
        {
          "output_type": "stream",
          "name": "stdout",
          "text": [
            "| Train Loss : 0.14337140524550235 |  Val Loss : 0.5341668063498363 | Train Acc : 94.49577331542969 | Val Acc : 77.98021697998047 |\n"
          ]
        },
        {
          "output_type": "stream",
          "name": "stderr",
          "text": [
            "100%|██████████| 241/241 [00:09<00:00, 26.42it/s]\n"
          ]
        },
        {
          "output_type": "stream",
          "name": "stdout",
          "text": [
            "| Train Loss : 0.141344999523425 |  Val Loss : 0.14296281974549846 | Train Acc : 94.48275756835938 | Val Acc : 94.79438018798828 |\n"
          ]
        },
        {
          "output_type": "stream",
          "name": "stderr",
          "text": [
            "100%|██████████| 241/241 [00:09<00:00, 26.77it/s]\n"
          ]
        },
        {
          "output_type": "stream",
          "name": "stdout",
          "text": [
            "| Train Loss : 0.13794724186646062 |  Val Loss : 0.1388192623620974 | Train Acc : 94.79505157470703 | Val Acc : 94.89849090576172 |\n"
          ]
        },
        {
          "output_type": "stream",
          "name": "stderr",
          "text": [
            "100%|██████████| 241/241 [00:10<00:00, 23.55it/s]\n"
          ]
        },
        {
          "output_type": "stream",
          "name": "stdout",
          "text": [
            "| Train Loss : 0.13775993823985738 |  Val Loss : 0.3120183474318799 | Train Acc : 94.72999572753906 | Val Acc : 86.8818359375 |\n"
          ]
        },
        {
          "output_type": "stream",
          "name": "stderr",
          "text": [
            "100%|██████████| 241/241 [00:10<00:00, 23.36it/s]\n"
          ]
        },
        {
          "output_type": "stream",
          "name": "stdout",
          "text": [
            "| Train Loss : 0.13635292606756683 |  Val Loss : 0.14388916057897275 | Train Acc : 94.66493225097656 | Val Acc : 94.53409576416016 |\n"
          ]
        },
        {
          "output_type": "stream",
          "name": "stderr",
          "text": [
            "100%|██████████| 241/241 [00:09<00:00, 25.67it/s]\n"
          ]
        },
        {
          "output_type": "stream",
          "name": "stdout",
          "text": [
            "| Train Loss : 0.13410735858983627 |  Val Loss : 0.15888469848095332 | Train Acc : 94.83409881591797 | Val Acc : 94.06558990478516 |\n"
          ]
        },
        {
          "output_type": "stream",
          "name": "stderr",
          "text": [
            "100%|██████████| 241/241 [00:09<00:00, 26.74it/s]\n"
          ]
        },
        {
          "output_type": "stream",
          "name": "stdout",
          "text": [
            "| Train Loss : 0.13362144931796974 |  Val Loss : 0.14253162228459185 | Train Acc : 94.71698760986328 | Val Acc : 94.48204040527344 |\n"
          ]
        },
        {
          "output_type": "stream",
          "name": "stderr",
          "text": [
            "100%|██████████| 241/241 [00:10<00:00, 22.21it/s]\n"
          ]
        },
        {
          "output_type": "stream",
          "name": "stdout",
          "text": [
            "| Train Loss : 0.1322579187740346 |  Val Loss : 0.32640874426697275 | Train Acc : 94.91216278076172 | Val Acc : 84.12285614013672 |\n",
            "Words found are : 3299\n",
            "Embedding(3299, 100)\n",
            "-----------------------------------------------------------3-fold of the model-----------------------------------------------------------\n"
          ]
        },
        {
          "output_type": "stream",
          "name": "stderr",
          "text": [
            "100%|██████████| 241/241 [00:10<00:00, 23.30it/s]\n"
          ]
        },
        {
          "output_type": "stream",
          "name": "stdout",
          "text": [
            "| Train Loss : 0.6922565887248896 |  Val Loss : 0.6905008758312088 | Train Acc : 51.84124755859375 | Val Acc : 55.33576202392578 |\n"
          ]
        },
        {
          "output_type": "stream",
          "name": "stderr",
          "text": [
            "100%|██████████| 241/241 [00:09<00:00, 25.21it/s]\n"
          ]
        },
        {
          "output_type": "stream",
          "name": "stdout",
          "text": [
            "| Train Loss : 0.6876836228308618 |  Val Loss : 0.6821824516063553 | Train Acc : 55.6668815612793 | Val Acc : 60.385215759277344 |\n"
          ]
        },
        {
          "output_type": "stream",
          "name": "stderr",
          "text": [
            "100%|██████████| 241/241 [00:08<00:00, 27.62it/s]\n"
          ]
        },
        {
          "output_type": "stream",
          "name": "stdout",
          "text": [
            "| Train Loss : 0.6459767516627277 |  Val Loss : 0.5009412392469696 | Train Acc : 65.76447296142578 | Val Acc : 74.28422546386719 |\n"
          ]
        },
        {
          "output_type": "stream",
          "name": "stderr",
          "text": [
            "100%|██████████| 241/241 [00:10<00:00, 23.34it/s]\n"
          ]
        },
        {
          "output_type": "stream",
          "name": "stdout",
          "text": [
            "| Train Loss : 0.38978197206400705 |  Val Loss : 0.1945764924370951 | Train Acc : 83.9037094116211 | Val Acc : 93.02446746826172 |\n"
          ]
        },
        {
          "output_type": "stream",
          "name": "stderr",
          "text": [
            "100%|██████████| 241/241 [00:10<00:00, 23.79it/s]\n"
          ]
        },
        {
          "output_type": "stream",
          "name": "stdout",
          "text": [
            "| Train Loss : 0.2634701081386191 |  Val Loss : 0.19266902018902762 | Train Acc : 89.83734130859375 | Val Acc : 92.50390625 |\n"
          ]
        },
        {
          "output_type": "stream",
          "name": "stderr",
          "text": [
            "100%|██████████| 241/241 [00:11<00:00, 21.40it/s]\n"
          ]
        },
        {
          "output_type": "stream",
          "name": "stdout",
          "text": [
            "| Train Loss : 0.2306239115683848 |  Val Loss : 0.4907078955578 | Train Acc : 91.48991394042969 | Val Acc : 81.36387634277344 |\n"
          ]
        },
        {
          "output_type": "stream",
          "name": "stderr",
          "text": [
            "100%|██████████| 241/241 [00:08<00:00, 27.41it/s]\n"
          ]
        },
        {
          "output_type": "stream",
          "name": "stdout",
          "text": [
            "| Train Loss : 0.20105065937573907 |  Val Loss : 0.21480412181623898 | Train Acc : 92.374755859375 | Val Acc : 91.56688690185547 |\n"
          ]
        },
        {
          "output_type": "stream",
          "name": "stderr",
          "text": [
            "100%|██████████| 241/241 [00:11<00:00, 20.89it/s]\n"
          ]
        },
        {
          "output_type": "stream",
          "name": "stdout",
          "text": [
            "| Train Loss : 0.1792031119612125 |  Val Loss : 0.18977894722825844 | Train Acc : 93.06440734863281 | Val Acc : 92.76419067382812 |\n"
          ]
        },
        {
          "output_type": "stream",
          "name": "stderr",
          "text": [
            "100%|██████████| 241/241 [00:09<00:00, 24.16it/s]\n"
          ]
        },
        {
          "output_type": "stream",
          "name": "stdout",
          "text": [
            "| Train Loss : 0.17892771772773683 |  Val Loss : 0.2055418248201552 | Train Acc : 92.66102600097656 | Val Acc : 91.41072845458984 |\n"
          ]
        },
        {
          "output_type": "stream",
          "name": "stderr",
          "text": [
            "100%|██████████| 241/241 [00:10<00:00, 23.77it/s]\n"
          ]
        },
        {
          "output_type": "stream",
          "name": "stdout",
          "text": [
            "| Train Loss : 0.16649353382630286 |  Val Loss : 0.2982828376105929 | Train Acc : 93.62393951416016 | Val Acc : 88.44351959228516 |\n"
          ]
        },
        {
          "output_type": "stream",
          "name": "stderr",
          "text": [
            "100%|██████████| 241/241 [00:08<00:00, 27.47it/s]\n"
          ]
        },
        {
          "output_type": "stream",
          "name": "stdout",
          "text": [
            "| Train Loss : 0.1670147177643914 |  Val Loss : 0.20509973588898459 | Train Acc : 93.48080444335938 | Val Acc : 92.92034912109375 |\n"
          ]
        },
        {
          "output_type": "stream",
          "name": "stderr",
          "text": [
            "100%|██████████| 241/241 [00:09<00:00, 25.17it/s]\n"
          ]
        },
        {
          "output_type": "stream",
          "name": "stdout",
          "text": [
            "| Train Loss : 0.15500332352862237 |  Val Loss : 0.8488657984190282 | Train Acc : 93.94924926757812 | Val Acc : 65.79906463623047 |\n"
          ]
        },
        {
          "output_type": "stream",
          "name": "stderr",
          "text": [
            "100%|██████████| 241/241 [00:10<00:00, 22.27it/s]\n"
          ]
        },
        {
          "output_type": "stream",
          "name": "stdout",
          "text": [
            "| Train Loss : 0.16122512796829486 |  Val Loss : 1.2773007919613364 | Train Acc : 93.79310607910156 | Val Acc : 65.85111999511719 |\n"
          ]
        },
        {
          "output_type": "stream",
          "name": "stderr",
          "text": [
            "100%|██████████| 241/241 [00:10<00:00, 23.44it/s]\n"
          ]
        },
        {
          "output_type": "stream",
          "name": "stdout",
          "text": [
            "| Train Loss : 0.15720596525311548 |  Val Loss : 0.5518577959530181 | Train Acc : 93.80611419677734 | Val Acc : 81.93649291992188 |\n"
          ]
        },
        {
          "output_type": "stream",
          "name": "stderr",
          "text": [
            "100%|██████████| 241/241 [00:09<00:00, 26.17it/s]\n"
          ]
        },
        {
          "output_type": "stream",
          "name": "stdout",
          "text": [
            "| Train Loss : 0.15415761554171376 |  Val Loss : 0.21892921631155368 | Train Acc : 93.97527313232422 | Val Acc : 91.30661010742188 |\n"
          ]
        },
        {
          "output_type": "stream",
          "name": "stderr",
          "text": [
            "100%|██████████| 241/241 [00:09<00:00, 26.34it/s]\n"
          ]
        },
        {
          "output_type": "stream",
          "name": "stdout",
          "text": [
            "| Train Loss : 0.14630730967573632 |  Val Loss : 0.21290520743895003 | Train Acc : 94.24853515625 | Val Acc : 92.035400390625 |\n"
          ]
        },
        {
          "output_type": "stream",
          "name": "stderr",
          "text": [
            "100%|██████████| 241/241 [00:10<00:00, 23.95it/s]\n"
          ]
        },
        {
          "output_type": "stream",
          "name": "stdout",
          "text": [
            "| Train Loss : 0.14703260573486404 |  Val Loss : 0.1661617910307151 | Train Acc : 94.35263061523438 | Val Acc : 94.3779296875 |\n"
          ]
        },
        {
          "output_type": "stream",
          "name": "stderr",
          "text": [
            "100%|██████████| 241/241 [00:10<00:00, 23.25it/s]\n"
          ]
        },
        {
          "output_type": "stream",
          "name": "stdout",
          "text": [
            "| Train Loss : 0.14630338554461436 |  Val Loss : 0.18127841089368799 | Train Acc : 94.24853515625 | Val Acc : 92.66007232666016 |\n"
          ]
        },
        {
          "output_type": "stream",
          "name": "stderr",
          "text": [
            "100%|██████████| 241/241 [00:09<00:00, 25.66it/s]\n"
          ]
        },
        {
          "output_type": "stream",
          "name": "stdout",
          "text": [
            "| Train Loss : 0.14202353104260654 |  Val Loss : 0.5884413663326981 | Train Acc : 94.43070983886719 | Val Acc : 76.00208282470703 |\n"
          ]
        },
        {
          "output_type": "stream",
          "name": "stderr",
          "text": [
            "100%|██████████| 241/241 [00:08<00:00, 27.81it/s]\n"
          ]
        },
        {
          "output_type": "stream",
          "name": "stdout",
          "text": [
            "| Train Loss : 0.14539069797496493 |  Val Loss : 0.15716354275982342 | Train Acc : 94.4046859741211 | Val Acc : 94.27381896972656 |\n"
          ]
        },
        {
          "output_type": "stream",
          "name": "stderr",
          "text": [
            "100%|██████████| 241/241 [00:10<00:00, 23.33it/s]\n"
          ]
        },
        {
          "output_type": "stream",
          "name": "stdout",
          "text": [
            "| Train Loss : 0.14184999460125403 |  Val Loss : 0.16473514387526592 | Train Acc : 94.46974182128906 | Val Acc : 93.49297332763672 |\n"
          ]
        },
        {
          "output_type": "stream",
          "name": "stderr",
          "text": [
            "100%|██████████| 241/241 [00:10<00:00, 23.91it/s]\n"
          ]
        },
        {
          "output_type": "stream",
          "name": "stdout",
          "text": [
            "| Train Loss : 0.1376628246742483 |  Val Loss : 0.1934393093492065 | Train Acc : 94.3396224975586 | Val Acc : 93.2326889038086 |\n"
          ]
        },
        {
          "output_type": "stream",
          "name": "stderr",
          "text": [
            "100%|██████████| 241/241 [00:10<00:00, 23.59it/s]\n"
          ]
        },
        {
          "output_type": "stream",
          "name": "stdout",
          "text": [
            "| Train Loss : 0.13936268270170837 |  Val Loss : 0.15914320816089075 | Train Acc : 94.45673370361328 | Val Acc : 94.3779296875 |\n"
          ]
        },
        {
          "output_type": "stream",
          "name": "stderr",
          "text": [
            "100%|██████████| 241/241 [00:08<00:00, 27.64it/s]\n"
          ]
        },
        {
          "output_type": "stream",
          "name": "stdout",
          "text": [
            "| Train Loss : 0.1399893814507598 |  Val Loss : 0.4183010188289998 | Train Acc : 94.48275756835938 | Val Acc : 81.20770263671875 |\n"
          ]
        },
        {
          "output_type": "stream",
          "name": "stderr",
          "text": [
            "100%|██████████| 241/241 [00:10<00:00, 24.01it/s]\n"
          ]
        },
        {
          "output_type": "stream",
          "name": "stdout",
          "text": [
            "| Train Loss : 0.13733359755379818 |  Val Loss : 0.19155871894749688 | Train Acc : 94.56082916259766 | Val Acc : 92.55596160888672 |\n"
          ]
        },
        {
          "output_type": "stream",
          "name": "stderr",
          "text": [
            "100%|██████████| 241/241 [00:10<00:00, 23.81it/s]\n"
          ]
        },
        {
          "output_type": "stream",
          "name": "stdout",
          "text": [
            "| Train Loss : 0.13510935660427414 |  Val Loss : 0.1527648163694677 | Train Acc : 94.66493225097656 | Val Acc : 94.06558990478516 |\n"
          ]
        },
        {
          "output_type": "stream",
          "name": "stderr",
          "text": [
            "100%|██████████| 241/241 [00:10<00:00, 22.55it/s]\n"
          ]
        },
        {
          "output_type": "stream",
          "name": "stdout",
          "text": [
            "| Train Loss : 0.13463066050379247 |  Val Loss : 0.18965599379409637 | Train Acc : 94.72999572753906 | Val Acc : 93.2326889038086 |\n"
          ]
        },
        {
          "output_type": "stream",
          "name": "stderr",
          "text": [
            "100%|██████████| 241/241 [00:09<00:00, 25.25it/s]\n"
          ]
        },
        {
          "output_type": "stream",
          "name": "stdout",
          "text": [
            "| Train Loss : 0.12952482680279323 |  Val Loss : 0.15735056615477735 | Train Acc : 95.01626586914062 | Val Acc : 94.01353454589844 |\n"
          ]
        },
        {
          "output_type": "stream",
          "name": "stderr",
          "text": [
            "100%|██████████| 241/241 [00:10<00:00, 22.53it/s]\n"
          ]
        },
        {
          "output_type": "stream",
          "name": "stdout",
          "text": [
            "| Train Loss : 0.13412303534144307 |  Val Loss : 0.14653830255228079 | Train Acc : 94.75601959228516 | Val Acc : 94.79438018798828 |\n"
          ]
        },
        {
          "output_type": "stream",
          "name": "stderr",
          "text": [
            "100%|██████████| 241/241 [00:10<00:00, 23.56it/s]\n"
          ]
        },
        {
          "output_type": "stream",
          "name": "stdout",
          "text": [
            "| Train Loss : 0.1300361547230094 |  Val Loss : 0.14771035312054867 | Train Acc : 94.93818664550781 | Val Acc : 94.22175598144531 |\n",
            "Words found are : 3299\n",
            "Embedding(3299, 100)\n",
            "-----------------------------------------------------------4-fold of the model-----------------------------------------------------------\n"
          ]
        },
        {
          "output_type": "stream",
          "name": "stderr",
          "text": [
            "100%|██████████| 241/241 [00:10<00:00, 22.86it/s]\n"
          ]
        },
        {
          "output_type": "stream",
          "name": "stdout",
          "text": [
            "| Train Loss : 0.6925230480589957 |  Val Loss : 0.6918291440858995 | Train Acc : 51.59401321411133 | Val Acc : 50.8068733215332 |\n"
          ]
        },
        {
          "output_type": "stream",
          "name": "stderr",
          "text": [
            "100%|██████████| 241/241 [00:08<00:00, 27.59it/s]\n"
          ]
        },
        {
          "output_type": "stream",
          "name": "stdout",
          "text": [
            "| Train Loss : 0.6882062167491553 |  Val Loss : 0.68505466350474 | Train Acc : 56.38256072998047 | Val Acc : 57.62623596191406 |\n"
          ]
        },
        {
          "output_type": "stream",
          "name": "stderr",
          "text": [
            "100%|██████████| 241/241 [00:09<00:00, 24.36it/s]\n"
          ]
        },
        {
          "output_type": "stream",
          "name": "stdout",
          "text": [
            "| Train Loss : 0.6540491536482635 |  Val Loss : 0.5619414561990026 | Train Acc : 65.06180572509766 | Val Acc : 66.68402099609375 |\n"
          ]
        },
        {
          "output_type": "stream",
          "name": "stderr",
          "text": [
            "100%|██████████| 241/241 [00:10<00:00, 23.64it/s]\n"
          ]
        },
        {
          "output_type": "stream",
          "name": "stdout",
          "text": [
            "| Train Loss : 0.41344908473549064 |  Val Loss : 1.2991232680877256 | Train Acc : 82.39427185058594 | Val Acc : 50.546592712402344 |\n"
          ]
        },
        {
          "output_type": "stream",
          "name": "stderr",
          "text": [
            "100%|██████████| 241/241 [00:10<00:00, 22.64it/s]\n"
          ]
        },
        {
          "output_type": "stream",
          "name": "stdout",
          "text": [
            "| Train Loss : 0.2707755494055689 |  Val Loss : 0.18190473165287444 | Train Acc : 90.05855560302734 | Val Acc : 93.44091796875 |\n"
          ]
        },
        {
          "output_type": "stream",
          "name": "stderr",
          "text": [
            "100%|██████████| 241/241 [00:10<00:00, 22.50it/s]\n"
          ]
        },
        {
          "output_type": "stream",
          "name": "stdout",
          "text": [
            "| Train Loss : 0.22009077346704964 |  Val Loss : 0.5744328052969043 | Train Acc : 91.84124755859375 | Val Acc : 80.37480926513672 |\n"
          ]
        },
        {
          "output_type": "stream",
          "name": "stderr",
          "text": [
            "100%|██████████| 241/241 [00:08<00:00, 27.47it/s]\n"
          ]
        },
        {
          "output_type": "stream",
          "name": "stdout",
          "text": [
            "| Train Loss : 0.2006982639868227 |  Val Loss : 0.18185842520994158 | Train Acc : 92.58295440673828 | Val Acc : 92.86830139160156 |\n"
          ]
        },
        {
          "output_type": "stream",
          "name": "stderr",
          "text": [
            "100%|██████████| 241/241 [00:10<00:00, 23.24it/s]\n"
          ]
        },
        {
          "output_type": "stream",
          "name": "stdout",
          "text": [
            "| Train Loss : 0.1927309355238621 |  Val Loss : 0.19940786508727917 | Train Acc : 92.70006561279297 | Val Acc : 92.81623840332031 |\n"
          ]
        },
        {
          "output_type": "stream",
          "name": "stderr",
          "text": [
            "100%|██████████| 241/241 [00:09<00:00, 24.15it/s]\n"
          ]
        },
        {
          "output_type": "stream",
          "name": "stdout",
          "text": [
            "| Train Loss : 0.18963314084046526 |  Val Loss : 0.153930624532923 | Train Acc : 92.67404174804688 | Val Acc : 94.22175598144531 |\n"
          ]
        },
        {
          "output_type": "stream",
          "name": "stderr",
          "text": [
            "100%|██████████| 241/241 [00:11<00:00, 20.10it/s]\n"
          ]
        },
        {
          "output_type": "stream",
          "name": "stdout",
          "text": [
            "| Train Loss : 0.1778801641383959 |  Val Loss : 0.1560257691286411 | Train Acc : 93.2856216430664 | Val Acc : 94.01353454589844 |\n"
          ]
        },
        {
          "output_type": "stream",
          "name": "stderr",
          "text": [
            "100%|██████████| 241/241 [00:10<00:00, 23.56it/s]\n"
          ]
        },
        {
          "output_type": "stream",
          "name": "stdout",
          "text": [
            "| Train Loss : 0.17229057551981491 |  Val Loss : 0.8882390514504841 | Train Acc : 93.3376693725586 | Val Acc : 71.62935638427734 |\n"
          ]
        },
        {
          "output_type": "stream",
          "name": "stderr",
          "text": [
            "100%|██████████| 241/241 [00:08<00:00, 27.60it/s]\n"
          ]
        },
        {
          "output_type": "stream",
          "name": "stdout",
          "text": [
            "| Train Loss : 0.17294977186823346 |  Val Loss : 0.15119902922600734 | Train Acc : 93.4027328491211 | Val Acc : 93.54502868652344 |\n"
          ]
        },
        {
          "output_type": "stream",
          "name": "stderr",
          "text": [
            "100%|██████████| 241/241 [00:10<00:00, 23.34it/s]\n"
          ]
        },
        {
          "output_type": "stream",
          "name": "stdout",
          "text": [
            "| Train Loss : 0.16337203573660952 |  Val Loss : 0.19632567923549002 | Train Acc : 93.92322540283203 | Val Acc : 92.035400390625 |\n"
          ]
        },
        {
          "output_type": "stream",
          "name": "stderr",
          "text": [
            "100%|██████████| 241/241 [00:10<00:00, 23.31it/s]\n"
          ]
        },
        {
          "output_type": "stream",
          "name": "stdout",
          "text": [
            "| Train Loss : 0.1596901610774814 |  Val Loss : 0.3062247586544925 | Train Acc : 93.87117767333984 | Val Acc : 89.38053131103516 |\n"
          ]
        },
        {
          "output_type": "stream",
          "name": "stderr",
          "text": [
            "100%|██████████| 241/241 [00:09<00:00, 24.17it/s]\n"
          ]
        },
        {
          "output_type": "stream",
          "name": "stdout",
          "text": [
            "| Train Loss : 0.16422941881312553 |  Val Loss : 0.1418094759196613 | Train Acc : 93.74105072021484 | Val Acc : 94.69026184082031 |\n"
          ]
        },
        {
          "output_type": "stream",
          "name": "stderr",
          "text": [
            "100%|██████████| 241/241 [00:08<00:00, 27.59it/s]\n"
          ]
        },
        {
          "output_type": "stream",
          "name": "stdout",
          "text": [
            "| Train Loss : 0.15711395398470668 |  Val Loss : 0.19905013452007211 | Train Acc : 94.1574478149414 | Val Acc : 91.098388671875 |\n"
          ]
        },
        {
          "output_type": "stream",
          "name": "stderr",
          "text": [
            "100%|██████████| 241/241 [00:10<00:00, 23.92it/s]\n"
          ]
        },
        {
          "output_type": "stream",
          "name": "stdout",
          "text": [
            "| Train Loss : 0.1521318472054149 |  Val Loss : 0.1546293702764962 | Train Acc : 94.1834716796875 | Val Acc : 93.75325775146484 |\n"
          ]
        },
        {
          "output_type": "stream",
          "name": "stderr",
          "text": [
            "100%|██████████| 241/241 [00:10<00:00, 23.39it/s]\n"
          ]
        },
        {
          "output_type": "stream",
          "name": "stdout",
          "text": [
            "| Train Loss : 0.15006360518094697 |  Val Loss : 0.30009941340854146 | Train Acc : 94.2875747680664 | Val Acc : 88.85997009277344 |\n"
          ]
        },
        {
          "output_type": "stream",
          "name": "stderr",
          "text": [
            "100%|██████████| 241/241 [00:10<00:00, 21.97it/s]\n"
          ]
        },
        {
          "output_type": "stream",
          "name": "stdout",
          "text": [
            "| Train Loss : 0.15086626566379352 |  Val Loss : 0.41496258240846656 | Train Acc : 94.05335235595703 | Val Acc : 77.82405090332031 |\n"
          ]
        },
        {
          "output_type": "stream",
          "name": "stderr",
          "text": [
            "100%|██████████| 241/241 [00:11<00:00, 20.69it/s]\n"
          ]
        },
        {
          "output_type": "stream",
          "name": "stdout",
          "text": [
            "| Train Loss : 0.15090744350827798 |  Val Loss : 0.14108368097564505 | Train Acc : 94.02732849121094 | Val Acc : 94.3779296875 |\n"
          ]
        },
        {
          "output_type": "stream",
          "name": "stderr",
          "text": [
            "100%|██████████| 241/241 [00:08<00:00, 27.49it/s]\n"
          ]
        },
        {
          "output_type": "stream",
          "name": "stdout",
          "text": [
            "| Train Loss : 0.14934667854744968 |  Val Loss : 0.2728716500281884 | Train Acc : 94.2745590209961 | Val Acc : 87.87090301513672 |\n"
          ]
        },
        {
          "output_type": "stream",
          "name": "stderr",
          "text": [
            "100%|██████████| 241/241 [00:10<00:00, 23.81it/s]\n"
          ]
        },
        {
          "output_type": "stream",
          "name": "stdout",
          "text": [
            "| Train Loss : 0.14474142823966976 |  Val Loss : 0.32222790109310717 | Train Acc : 94.30058288574219 | Val Acc : 84.85163879394531 |\n"
          ]
        },
        {
          "output_type": "stream",
          "name": "stderr",
          "text": [
            "100%|██████████| 241/241 [00:10<00:00, 23.73it/s]\n"
          ]
        },
        {
          "output_type": "stream",
          "name": "stdout",
          "text": [
            "| Train Loss : 0.14602905750158318 |  Val Loss : 0.400754514179895 | Train Acc : 94.44371795654297 | Val Acc : 81.36387634277344 |\n"
          ]
        },
        {
          "output_type": "stream",
          "name": "stderr",
          "text": [
            "100%|██████████| 241/241 [00:10<00:00, 23.87it/s]\n"
          ]
        },
        {
          "output_type": "stream",
          "name": "stdout",
          "text": [
            "| Train Loss : 0.14214421772848265 |  Val Loss : 0.24072095753313785 | Train Acc : 94.50878143310547 | Val Acc : 87.71472930908203 |\n"
          ]
        },
        {
          "output_type": "stream",
          "name": "stderr",
          "text": [
            "100%|██████████| 241/241 [00:08<00:00, 26.86it/s]\n"
          ]
        },
        {
          "output_type": "stream",
          "name": "stdout",
          "text": [
            "| Train Loss : 0.1444397636528673 |  Val Loss : 0.450624467121444 | Train Acc : 94.39167022705078 | Val Acc : 83.28994750976562 |\n"
          ]
        },
        {
          "output_type": "stream",
          "name": "stderr",
          "text": [
            "100%|██████████| 241/241 [00:09<00:00, 24.79it/s]\n"
          ]
        },
        {
          "output_type": "stream",
          "name": "stdout",
          "text": [
            "| Train Loss : 0.13936046356494036 |  Val Loss : 0.1403457134291103 | Train Acc : 94.48275756835938 | Val Acc : 94.63821411132812 |\n"
          ]
        },
        {
          "output_type": "stream",
          "name": "stderr",
          "text": [
            "100%|██████████| 241/241 [00:10<00:00, 23.79it/s]\n"
          ]
        },
        {
          "output_type": "stream",
          "name": "stdout",
          "text": [
            "| Train Loss : 0.13981432610457412 |  Val Loss : 0.14320793790177466 | Train Acc : 94.58685302734375 | Val Acc : 94.48204040527344 |\n"
          ]
        },
        {
          "output_type": "stream",
          "name": "stderr",
          "text": [
            "100%|██████████| 241/241 [00:10<00:00, 23.15it/s]\n"
          ]
        },
        {
          "output_type": "stream",
          "name": "stdout",
          "text": [
            "| Train Loss : 0.13746876775292546 |  Val Loss : 0.1382889769219792 | Train Acc : 94.5998764038086 | Val Acc : 94.74232482910156 |\n"
          ]
        },
        {
          "output_type": "stream",
          "name": "stderr",
          "text": [
            "100%|██████████| 241/241 [00:09<00:00, 26.60it/s]\n"
          ]
        },
        {
          "output_type": "stream",
          "name": "stdout",
          "text": [
            "| Train Loss : 0.13587828126718413 |  Val Loss : 0.14031700158085944 | Train Acc : 94.83409881591797 | Val Acc : 94.58615112304688 |\n"
          ]
        },
        {
          "output_type": "stream",
          "name": "stderr",
          "text": [
            "100%|██████████| 241/241 [00:09<00:00, 25.42it/s]\n"
          ]
        },
        {
          "output_type": "stream",
          "name": "stdout",
          "text": [
            "| Train Loss : 0.13486990085091 |  Val Loss : 0.2502785595861118 | Train Acc : 94.83409881591797 | Val Acc : 90.73399353027344 |\n"
          ]
        }
      ]
    },
    {
      "cell_type": "code",
      "source": [
        "plt.plot(train_accs)\n",
        "plt.plot(val_accs)\n",
        "plt.title('Model Accuracy')\n",
        "plt.ylabel('Accuracy')\n",
        "plt.xlabel('Epoch')\n",
        "plt.legend(['Train', 'Test'], loc='upper left')\n",
        "plt.show()\n",
        "\n",
        "plt.plot(train_losses)\n",
        "plt.plot(val_losses)\n",
        "plt.title('Model Loss')\n",
        "plt.ylabel('Loss')\n",
        "plt.xlabel('Epoch')\n",
        "plt.legend(['Train', 'Test'], loc='upper left')\n",
        "plt.show()"
      ],
      "metadata": {
        "colab": {
          "base_uri": "https://localhost:8080/",
          "height": 927
        },
        "id": "YWGaVs8-aSq7",
        "outputId": "ad951444-4c4f-4356-e197-a4e38ab7c7cf"
      },
      "execution_count": 77,
      "outputs": [
        {
          "output_type": "display_data",
          "data": {
            "text/plain": [
              "<Figure size 640x480 with 1 Axes>"
            ],
            "image/png": "[encoded data removed]"
          },
          "metadata": {}
        },
        {
          "output_type": "display_data",
          "data": {
            "text/plain": [
              "<Figure size 640x480 with 1 Axes>"
            ],
            "image/png": "[encoded data removed]"
          },
          "metadata": {}
        }
      ]
    },
    {
      "cell_type": "code",
      "source": [
        "torch.save(model_state_dicts, \"My-Model.pt\")\n"
      ],
      "metadata": {
        "id": "vFJe8vbLafM9"
      },
      "execution_count": 78,
      "outputs": []
    },
    {
      "cell_type": "code",
      "source": [
        "def numericalize(text):\n",
        "\n",
        "    numerialized_source = []\n",
        "    numerialized_source = [dataset.source_vocab.stoi[\"<SOS>\"]]\n",
        "    numerialized_source += dataset.source_vocab.numericalize(text)\n",
        "    numerialized_source.append(dataset.source_vocab.stoi[\"<EOS>\"])\n",
        "\n",
        "    return numerialized_source\n",
        "\n",
        "def padding(source):\n",
        "    padded_sequence = torch.zeros(config.MAX_LEN, 1, dtype = torch.int)\n",
        "    source = torch.tensor(source)\n",
        "\n",
        "    if len(source) > config.MAX_LEN:\n",
        "        padded_sequence[:, 0] = source[: config.MAX_LEN]\n",
        "    else:\n",
        "        padded_sequence[:len(source), 0] = padded_sequence[:len(source), 0] + source\n",
        "\n",
        "    return padded_sequence"
      ],
      "metadata": {
        "id": "4zuu3HiOafRk"
      },
      "execution_count": 79,
      "outputs": []
    },
    {
      "cell_type": "code",
      "source": [
        "def infer_processing(text):\n",
        "\n",
        "    text = preprocessing(text)\n",
        "    text = numericalize(text)\n",
        "    text = padding(text)\n",
        "    return text"
      ],
      "metadata": {
        "id": "TAzbXklHafUO"
      },
      "execution_count": 80,
      "outputs": []
    },
    {
      "cell_type": "code",
      "source": [
        "aspects = [\"phone\", \"camera\", \"battery\", \"neutral\", \"processor\"]\n",
        "\n",
        "def get_similarity(text, aspect):\n",
        "    try:\n",
        "#         text = \" \".join(text)\n",
        "        return fasttext_model.wv.n_similarity(text, aspect)\n",
        "    except:\n",
        "        return 0\n",
        "\n",
        "def best_aspect(text, aspects):\n",
        "    a = []\n",
        "\n",
        "    for aspect in aspects:\n",
        "        a.append(get_similarity(text, aspect))\n",
        "\n",
        "    return aspects[np.argmax(a)]"
      ],
      "metadata": {
        "id": "vA8GLYx0annf"
      },
      "execution_count": 81,
      "outputs": []
    },
    {
      "cell_type": "code",
      "source": [
        "sample = \"I am really impressed with the phone's great battery backup.\"\n",
        "\n",
        "ba = best_aspect(preprocessing(sample), aspects)\n",
        "\n",
        "a = infer_processing(sample).to(config.DEVICE)"
      ],
      "metadata": {
        "id": "OHabUf4haps5"
      },
      "execution_count": 82,
      "outputs": []
    },
    {
      "cell_type": "code",
      "source": [
        "model.eval()\n",
        "sentiment = model(a)\n",
        "sentiment = sentiment.cpu().detach().numpy()[0]\n",
        "\n",
        "if sentiment > 0.5:\n",
        "    sentiment = 'Positively'\n",
        "else :\n",
        "    sentiment = 'Negatively'"
      ],
      "metadata": {
        "id": "y9IFQm22apyQ"
      },
      "execution_count": 83,
      "outputs": []
    },
    {
      "cell_type": "code",
      "source": [
        "print(f\"The reviewer is talking {sentiment} about the {ba} of the phone in his/her comment\")"
      ],
      "metadata": {
        "colab": {
          "base_uri": "https://localhost:8080/"
        },
        "id": "wZQTI4XMap0j",
        "outputId": "05dd5185-c796-4486-c7cf-68997c3884db"
      },
      "execution_count": 84,
      "outputs": [
        {
          "output_type": "stream",
          "name": "stdout",
          "text": [
            "The reviewer is talking Positively about the battery of the phone in his/her comment\n"
          ]
        }
      ]
    }
  ]
}